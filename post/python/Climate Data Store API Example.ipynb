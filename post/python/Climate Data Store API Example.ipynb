{
 "cells": [
  {
   "cell_type": "markdown",
   "metadata": {},
   "source": [
    "http://en.wikipedia.org/wiki/Extreme_points_of_the_United_States#Westernmost\n",
    "top = 49.3457868 # north lat\n",
    "left = -124.7844079 # west long\n",
    "right = -66.9513812 # east long\n",
    "bottom =  24.7433195 # south lat"
   ]
  },
  {
   "cell_type": "code",
   "execution_count": 4,
   "metadata": {},
   "outputs": [
    {
     "name": "stderr",
     "output_type": "stream",
     "text": [
      "2021-02-03 10:40:05,550 INFO Welcome to the CDS\n",
      "2021-02-03 10:40:05,551 INFO Sending request to https://cds.climate.copernicus.eu/api/v2/resources/reanalysis-era5-pressure-levels\n",
      "2021-02-03 10:40:05,788 INFO Request is queued\n",
      "2021-02-03 10:40:07,035 INFO Request is running\n",
      "2021-02-03 10:44:26,547 INFO Request is completed\n",
      "2021-02-03 10:44:26,549 INFO Downloading https://download-0010.copernicus-climate.eu/cache-compute-0010/cache/data9/adaptor.mars.internal-1612366805.8857753-18054-21-e0adc281-4b6e-40ed-a185-b8dc855d5987.grib to e5.oper.an.pl.20110101_20110101.grb (403.6M)\n",
      "2021-02-03 10:46:25,198 INFO Download rate 3.4M/s    \n"
     ]
    },
    {
     "data": {
      "text/plain": [
       "Result(content_length=423256320,content_type=application/x-grib,location=https://download-0010.copernicus-climate.eu/cache-compute-0010/cache/data9/adaptor.mars.internal-1612366805.8857753-18054-21-e0adc281-4b6e-40ed-a185-b8dc855d5987.grib)"
      ]
     },
     "execution_count": 4,
     "metadata": {},
     "output_type": "execute_result"
    }
   ],
   "source": [
    "#Download sub-setted ERA5 pressure level data from CDS to initialise WRF domain every hr.\n",
    "import cdsapi\n",
    "\n",
    "# Specify the spatial extent of the data you wish to download (the ones below are for the Continential US)\n",
    "north_lat = 55\n",
    "south_lat = 20\n",
    "west_lon = -130\n",
    "east_lon = -60\n",
    "\n",
    "# Specify a start and end date (for a sigle day of data they are the same)\n",
    "date1 = '20110101'\n",
    "date2 = '20110101'\n",
    "\n",
    "# Specify desired output file names \n",
    "e5_pl_file_name = f'e5.oper.an.pl.{date1}_{date2}.grb'\n",
    "e5_sfc_file_name = f'e5.oper.an.sfc.{date1}_{date2}.grb'\n",
    "\n",
    "# Create the CDS API Client object\n",
    "c = cdsapi.Client()\n",
    "\n",
    "# Download the pressure level data\n",
    "c.retrieve(\n",
    "    'reanalysis-era5-pressure-levels',\n",
    "    {\n",
    "        'product_type':'reanalysis',\n",
    "        'format':'grib',\n",
    "        'variable':[\n",
    "            'geopotential',\n",
    "            'relative_humidity',\n",
    "            'specific_humidity',\n",
    "            'temperature',\n",
    "            'u_component_of_wind',\n",
    "            'v_component_of_wind'\n",
    "        ],\n",
    "        'pressure_level':[\n",
    "            '1','2','3',\n",
    "            '5','7','10',\n",
    "            '20','30','50',\n",
    "            '70','100','125',\n",
    "            '150','175','200',\n",
    "            '225','250','300',\n",
    "            '350','400','450',\n",
    "            '500','550','600',\n",
    "            '650','700','750',\n",
    "            '775','800','825',\n",
    "            '850','875','900',\n",
    "            '925','950','975',\n",
    "            '1000'\n",
    "        ],\n",
    "        'area':f'{north_lat}/{west_lon}/{south_lat}/{east_lon}',\n",
    "        'date':f'{date1}/{date2}',\n",
    "        'time':'00/to/23/by/1',                    \n",
    "    },\n",
    "    e5_pl_file_name)"
   ]
  },
  {
   "cell_type": "code",
   "execution_count": 5,
   "metadata": {},
   "outputs": [
    {
     "ename": "NameError",
     "evalue": "name 'e5_sfc_file_name' is not defined",
     "output_type": "error",
     "traceback": [
      "\u001b[0;31m---------------------------------------------------------------------------\u001b[0m",
      "\u001b[0;31mNameError\u001b[0m                                 Traceback (most recent call last)",
      "\u001b[0;32m<ipython-input-5-eb1075ae63a6>\u001b[0m in \u001b[0;36m<module>\u001b[0;34m\u001b[0m\n\u001b[1;32m     32\u001b[0m         \u001b[0;34m'time'\u001b[0m\u001b[0;34m:\u001b[0m\u001b[0;34m'00/to/23/by/1'\u001b[0m\u001b[0;34m,\u001b[0m\u001b[0;34m\u001b[0m\u001b[0;34m\u001b[0m\u001b[0m\n\u001b[1;32m     33\u001b[0m     },\n\u001b[0;32m---> 34\u001b[0;31m     e5_sfc_file_name)\n\u001b[0m",
      "\u001b[0;31mNameError\u001b[0m: name 'e5_sfc_file_name' is not defined"
     ]
    }
   ],
   "source": [
    "# Download the surface data\n",
    "c.retrieve(\n",
    "    'reanalysis-era5-single-levels',\n",
    "    {\n",
    "        'product_type':'reanalysis',\n",
    "        'format':'grib',\n",
    "        'variable':[\n",
    "            'surface_pressure',\n",
    "            'mean_sea_level_pressure',\n",
    "            'skin_temperature',\n",
    "            'sea_surface_temperature',\n",
    "            'sea_ice_cover',\n",
    "            '2m_temperature',\n",
    "            '2m_dewpoint_temperature',\n",
    "            '10m_u_component_of_wind',\n",
    "            '10m_v_component_of_wind',  \n",
    "            'land_sea_mask',\n",
    "            'snow_depth',\n",
    "            'soil_temperature_level_1',\n",
    "            'soil_temperature_level_2',\n",
    "            'soil_temperature_level_3',\n",
    "            'soil_temperature_level_4',\n",
    "            'volumetric_soil_water_layer_1',\n",
    "            'volumetric_soil_water_layer_2',\n",
    "            'volumetric_soil_water_layer_3',\n",
    "            'volumetric_soil_water_layer_4'\n",
    "        ],\n",
    "        # Area: North/West/South/East\n",
    "        'area':f'{north_lat}/{west_lon}/{south_lat}/{east_lon}',\n",
    "        'date':f'{date1}/{date2}',\n",
    "        'time':'00/to/23/by/1',                    \n",
    "    },\n",
    "    e5_sfc_file_name)"
   ]
  },
  {
   "cell_type": "code",
   "execution_count": null,
   "metadata": {},
   "outputs": [],
   "source": []
  }
 ],
 "metadata": {
  "kernelspec": {
   "display_name": "Python 3",
   "language": "python",
   "name": "python3"
  },
  "language_info": {
   "codemirror_mode": {
    "name": "ipython",
    "version": 3
   },
   "file_extension": ".py",
   "mimetype": "text/x-python",
   "name": "python",
   "nbconvert_exporter": "python",
   "pygments_lexer": "ipython3",
   "version": "3.7.8"
  }
 },
 "nbformat": 4,
 "nbformat_minor": 4
}
