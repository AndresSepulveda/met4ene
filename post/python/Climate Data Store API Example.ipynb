{
 "cells": [
  {
   "cell_type": "markdown",
   "metadata": {},
   "source": [
    "http://en.wikipedia.org/wiki/Extreme_points_of_the_United_States#Westernmost\n",
    "top = 49.3457868 # north lat\n",
    "left = -124.7844079 # west long\n",
    "right = -66.9513812 # east long\n",
    "bottom =  24.7433195 # south lat"
   ]
  },
  {
   "cell_type": "code",
   "execution_count": 1,
   "metadata": {},
   "outputs": [],
   "source": [
    "import cdsapi\n",
    "\n",
    "# Import the optwrf module\n",
    "import optwrf\n",
    "from optwrf import util"
   ]
  },
  {
   "cell_type": "code",
   "execution_count": 2,
   "metadata": {},
   "outputs": [],
   "source": [
    "# #Download sub-setted ERA5 pressure level data from CDS to initialise WRF domain every hr.\n",
    "\n",
    "\n",
    "# # Specify the spatial extent of the data you wish to download (the ones below are for the Continential US)\n",
    "# north_lat = 55\n",
    "# south_lat = 20\n",
    "# west_lon = -130\n",
    "# east_lon = -60\n",
    "\n",
    "# # Specify a start and end date (for a sigle day of data they are the same)\n",
    "# date1 = '20110101'\n",
    "# date2 = '20110101'\n",
    "\n",
    "# # Specify desired output file names \n",
    "# e5_pl_file_name = f'e5.oper.an.pl.{date1}_{date2}.grb'\n",
    "# e5_sfc_file_name = f'e5.oper.an.sfc.{date1}_{date2}.grb'\n",
    "\n",
    "# # Create the CDS API Client object\n",
    "# c = cdsapi.Client()\n",
    "\n",
    "# # Download the pressure level data\n",
    "# c.retrieve(\n",
    "#     'reanalysis-era5-pressure-levels',\n",
    "#     {\n",
    "#         'product_type':'reanalysis',\n",
    "#         'format':'grib',\n",
    "#         'variable':[\n",
    "#             'geopotential',\n",
    "#             'relative_humidity',\n",
    "#             'specific_humidity',\n",
    "#             'temperature',\n",
    "#             'u_component_of_wind',\n",
    "#             'v_component_of_wind'\n",
    "#         ],\n",
    "#         'pressure_level':[\n",
    "#             '1','2','3',\n",
    "#             '5','7','10',\n",
    "#             '20','30','50',\n",
    "#             '70','100','125',\n",
    "#             '150','175','200',\n",
    "#             '225','250','300',\n",
    "#             '350','400','450',\n",
    "#             '500','550','600',\n",
    "#             '650','700','750',\n",
    "#             '775','800','825',\n",
    "#             '850','875','900',\n",
    "#             '925','950','975',\n",
    "#             '1000'\n",
    "#         ],\n",
    "#         'area':f'{north_lat}/{west_lon}/{south_lat}/{east_lon}',\n",
    "#         'date':f'{date1}/{date2}',\n",
    "#         'time':'00/to/23/by/1',                    \n",
    "#     },\n",
    "#     e5_pl_file_name)"
   ]
  },
  {
   "cell_type": "code",
   "execution_count": 3,
   "metadata": {},
   "outputs": [],
   "source": [
    "# # Download the surface data\n",
    "# c.retrieve(\n",
    "#     'reanalysis-era5-single-levels',\n",
    "#     {\n",
    "#         'product_type':'reanalysis',\n",
    "#         'format':'grib',\n",
    "#         'variable':[\n",
    "#             'surface_pressure',\n",
    "#             'mean_sea_level_pressure',\n",
    "#             'skin_temperature',\n",
    "#             'sea_surface_temperature',\n",
    "#             'sea_ice_cover',\n",
    "#             '2m_temperature',\n",
    "#             '2m_dewpoint_temperature',\n",
    "#             '10m_u_component_of_wind',\n",
    "#             '10m_v_component_of_wind',  \n",
    "#             'land_sea_mask',\n",
    "#             'snow_depth',\n",
    "#             'soil_temperature_level_1',\n",
    "#             'soil_temperature_level_2',\n",
    "#             'soil_temperature_level_3',\n",
    "#             'soil_temperature_level_4',\n",
    "#             'volumetric_soil_water_layer_1',\n",
    "#             'volumetric_soil_water_layer_2',\n",
    "#             'volumetric_soil_water_layer_3',\n",
    "#             'volumetric_soil_water_layer_4'\n",
    "#         ],\n",
    "#         # Area: North/West/South/East\n",
    "#         'area':f'{north_lat}/{west_lon}/{south_lat}/{east_lon}',\n",
    "#         'date':f'{date1}/{date2}',\n",
    "#         'time':'00/to/23/by/1',                    \n",
    "#     },\n",
    "#     e5_sfc_file_name)"
   ]
  },
  {
   "cell_type": "markdown",
   "metadata": {},
   "source": [
    "Here is a test of the function that I've written to use the CDS API"
   ]
  },
  {
   "cell_type": "code",
   "execution_count": 4,
   "metadata": {},
   "outputs": [],
   "source": [
    "# Define the variables that you need\n",
    "pl_variables = [\n",
    "            'geopotential',\n",
    "            'relative_humidity',\n",
    "            'specific_humidity',\n",
    "            'temperature',\n",
    "            'u_component_of_wind',\n",
    "            'v_component_of_wind'\n",
    "            ]\n",
    "sfc_variables = [\n",
    "            'surface_pressure',\n",
    "            'mean_sea_level_pressure',\n",
    "            'skin_temperature',\n",
    "            'sea_surface_temperature',\n",
    "            'sea_ice_cover',\n",
    "            '2m_temperature',\n",
    "            '2m_dewpoint_temperature',\n",
    "            '10m_u_component_of_wind',\n",
    "            '10m_v_component_of_wind',  \n",
    "            'land_sea_mask',\n",
    "            'snow_depth',\n",
    "            'soil_temperature_level_1',\n",
    "            'soil_temperature_level_2',\n",
    "            'soil_temperature_level_3',\n",
    "            'soil_temperature_level_4',\n",
    "            'volumetric_soil_water_layer_1',\n",
    "            'volumetric_soil_water_layer_2',\n",
    "            'volumetric_soil_water_layer_3',\n",
    "            'volumetric_soil_water_layer_4'\n",
    "            ]\n",
    "pls = [\n",
    "            '1','2','3',\n",
    "            '5','7','10',\n",
    "            '20','30','50',\n",
    "            '70','100','125',\n",
    "            '150','175','200',\n",
    "            '225','250','300',\n",
    "            '350','400','450',\n",
    "            '500','550','600',\n",
    "            '650','700','750',\n",
    "            '775','800','825',\n",
    "            '850','875','900',\n",
    "            '925','950','975',\n",
    "            '1000'\n",
    "            ]\n",
    "\n",
    "# Specify the spatial extent of the data you wish to download (the ones below are for the Continential US)\n",
    "north_lat = 55\n",
    "south_lat = 20\n",
    "west_lon = -130\n",
    "east_lon = -60\n",
    "area_str = f'{north_lat}/{west_lon}/{south_lat}/{east_lon}'\n",
    "\n",
    "# Specify a start and end date (for a sigle day of data they are the same)\n",
    "date1 = '20110101'\n",
    "date2 = '20110101'\n",
    "dates_str = f'{date1}/{date2}'\n",
    "\n",
    "# Specify desired output file names \n",
    "e5_pl_file_name = f'e5.oper.an.pl.{date1}_{date2}.grb'\n",
    "e5_sfc_file_name = f'e5.oper.an.sfc.{date1}_{date2}.grb'"
   ]
  },
  {
   "cell_type": "code",
   "execution_count": 5,
   "metadata": {},
   "outputs": [
    {
     "name": "stderr",
     "output_type": "stream",
     "text": [
      "2021-02-10 10:16:08,140 INFO Welcome to the CDS\n",
      "2021-02-10 10:16:08,141 INFO Sending request to https://cds.climate.copernicus.eu/api/v2/resources/reanalysis-era5-pressure-levels\n",
      "2021-02-10 10:16:08,445 INFO Request is queued\n",
      "2021-02-10 10:16:09,571 INFO Request is running\n",
      "2021-02-10 10:20:27,819 INFO Request is completed\n",
      "2021-02-10 10:20:27,820 INFO Downloading https://download-0005.copernicus-climate.eu/cache-compute-0005/cache/data3/adaptor.mars.internal-1612970168.788801-10578-21-8c72b7c3-9bf8-4acc-bb32-37f8809e0d77.nc to e5.oper.an.pl.20110101_20110101.nc (402.6M)\n",
      "2021-02-10 10:22:25,607 INFO Download rate 3.4M/s   \n"
     ]
    }
   ],
   "source": [
    "# Download the pressure level data\n",
    "util.get_data_cdsapi('reanalysis-era5-pressure-levels', pl_variables, \n",
    "                product_type='reanalysis', \n",
    "                fmt='netcdf', \n",
    "                pressure_level=pls,\n",
    "                area=area_str, \n",
    "                date=dates_str, \n",
    "                time='00/to/23/by/1',\n",
    "                output_file_name=e5_pl_file_name)"
   ]
  },
  {
   "cell_type": "code",
   "execution_count": 6,
   "metadata": {},
   "outputs": [
    {
     "name": "stderr",
     "output_type": "stream",
     "text": [
      "2021-02-10 10:22:26,257 INFO Welcome to the CDS\n",
      "2021-02-10 10:22:26,259 INFO Sending request to https://cds.climate.copernicus.eu/api/v2/resources/reanalysis-era5-single-levels\n",
      "2021-02-10 10:22:26,472 INFO Request is queued\n",
      "2021-02-10 10:22:27,597 INFO Request is running\n",
      "2021-02-10 10:22:59,523 INFO Request is completed\n",
      "2021-02-10 10:22:59,525 INFO Downloading https://download-0013.copernicus-climate.eu/cache-compute-0013/cache/data2/adaptor.mars.internal-1612970547.5111809-14082-28-258f50d2-b72b-4273-bf16-e2ecab5f670f.nc to e5.oper.an.sfc.20110101_20110101.nc (34.5M)\n",
      "2021-02-10 10:23:05,835 INFO Download rate 5.5M/s   \n"
     ]
    }
   ],
   "source": [
    "# Download the surface data\n",
    "util.get_data_cdsapi('reanalysis-era5-single-levels', sfc_variables, \n",
    "                product_type='reanalysis', \n",
    "                fmt='netcdf',\n",
    "                area=area_str, \n",
    "                date=dates_str, \n",
    "                time='00/to/23/by/1',\n",
    "                output_file_name=e5_sfc_file_name)"
   ]
  }
 ],
 "metadata": {
  "kernelspec": {
   "display_name": "Python 3",
   "language": "python",
   "name": "python3"
  },
  "language_info": {
   "codemirror_mode": {
    "name": "ipython",
    "version": 3
   },
   "file_extension": ".py",
   "mimetype": "text/x-python",
   "name": "python",
   "nbconvert_exporter": "python",
   "pygments_lexer": "ipython3",
   "version": "3.7.8"
  }
 },
 "nbformat": 4,
 "nbformat_minor": 4
}
