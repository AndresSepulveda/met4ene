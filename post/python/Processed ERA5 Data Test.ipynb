{
 "cells": [
  {
   "cell_type": "markdown",
   "metadata": {},
   "source": [
    "# Processed ERA5 Data Test\n",
    "\n",
    "This tutorial checks the processed forecast data from ERA5. Initially, the nan values were not being recognized by NCL.\n",
    "\n",
    "Authors:\n",
    "* Jeffrey Sward (jas983@cornell.edu), Cornell University, February 2020"
   ]
  },
  {
   "cell_type": "code",
   "execution_count": 2,
   "metadata": {},
   "outputs": [
    {
     "name": "stderr",
     "output_type": "stream",
     "text": [
      "/Users/swardy9230/Box Sync/01_Research/01_Renewable_Analysis/WRF_Solar_and_Wind/pvlib-python/pvlib/wrfcast.py:20: UserWarning: The forecast module algorithms and features are highly experimental. The API may change, the functionality may be consolidated into an io module, or the module may be separated into its own package.\n",
      "  'The forecast module algorithms and features are highly experimental. '\n"
     ]
    }
   ],
   "source": [
    "# built in python modules\n",
    "import datetime\n",
    "import os\n",
    "import inspect\n",
    "import sys\n",
    "\n",
    "# python add-ons\n",
    "import numpy as np\n",
    "import pandas as pd\n",
    "import xarray as xr\n",
    "import netCDF4\n",
    "import wrf\n",
    "\n",
    "# Import the pvlib module\n",
    "if sys.platform == 'linux':\n",
    "    sys.path.append('/home/jsward/Documents/01_Research/01_Renewable_Analysis/WRF/pvlib-python')\n",
    "import pvlib\n",
    "from pvlib.wrfcast import WRF\n",
    "\n",
    "# Import the optwrf module\n",
    "import optwrf"
   ]
  },
  {
   "cell_type": "code",
   "execution_count": 6,
   "metadata": {},
   "outputs": [],
   "source": [
    "# Find the absolute file path to your pvlib installation\n",
    "optwrf_abspath = os.path.dirname(os.path.abspath(inspect.getfile(optwrf)))\n",
    "\n",
    "# absolute path to ERA data file\n",
    "era_file = os.path.join(optwrf_abspath, 'data', 'ERA5_EastUS_WPD-GHI_2011-01.nc')\n",
    "\n",
    "# Read in the ERA file using the xarray open_dataset method\n",
    "era_data = xr.open_dataset(era_file)"
   ]
  },
  {
   "cell_type": "code",
   "execution_count": 40,
   "metadata": {},
   "outputs": [
    {
     "data": {
      "text/plain": [
       "<matplotlib.collections.QuadMesh at 0x11c297750>"
      ]
     },
     "execution_count": 40,
     "metadata": {},
     "output_type": "execute_result"
    },
    {
     "data": {
      "image/png": "[encoded data removed]",
      "text/plain": [
       "<Figure size 432x288 with 2 Axes>"
      ]
     },
     "metadata": {
      "needs_background": "light"
     },
     "output_type": "display_data"
    }
   ],
   "source": [
    "# Test visualization plot from processed dataset\n",
    "tidx = 0\n",
    "timestr = f'2011-01-01 {tidx}:00:00'\n",
    "ghi = era_data.GHI.sel(time=timestr)\n",
    "ghi.plot()"
   ]
  },
  {
   "cell_type": "code",
   "execution_count": 43,
   "metadata": {},
   "outputs": [
    {
     "data": {
      "text/html": [
       "<pre>&lt;xarray.DataArray &#x27;GHI&#x27; ()&gt;\n",
       "array(nan, dtype=float32)\n",
       "Coordinates:\n",
       "    time       datetime64[ns] 2011-01-01\n",
       "    latitude   float64 50.0\n",
       "    longitude  float64 265.0</pre>"
      ],
      "text/plain": [
       "<xarray.DataArray 'GHI' ()>\n",
       "array(nan, dtype=float32)\n",
       "Coordinates:\n",
       "    time       datetime64[ns] 2011-01-01\n",
       "    latitude   float64 50.0\n",
       "    longitude  float64 265.0"
      ]
     },
     "execution_count": 43,
     "metadata": {},
     "output_type": "execute_result"
    }
   ],
   "source": [
    "era_data.GHI[0,0,0]"
   ]
  },
  {
   "cell_type": "code",
   "execution_count": 49,
   "metadata": {},
   "outputs": [
    {
     "data": {
      "text/html": [
       "<pre>&lt;xarray.Dataset&gt;\n",
       "Dimensions:    (latitude: 81, longitude: 121, time: 744)\n",
       "Coordinates:\n",
       "  * time       (time) datetime64[ns] 2011-01-01 ... 2011-01-31T23:00:00\n",
       "  * latitude   (latitude) float64 50.0 49.75 49.5 49.25 ... 30.5 30.25 30.0\n",
       "  * longitude  (longitude) float64 265.0 265.2 265.5 265.8 ... 294.5 294.8 295.0\n",
       "Data variables:\n",
       "    VAR_100U   (time, latitude, longitude) float32 ...\n",
       "    VAR_100V   (time, latitude, longitude) float32 ...\n",
       "    WPD        (time, latitude, longitude) float32 ...\n",
       "    SSRD       (time, latitude, longitude) float32 ...\n",
       "    GHI        (time, latitude, longitude) float32 ...</pre>"
      ],
      "text/plain": [
       "<xarray.Dataset>\n",
       "Dimensions:    (latitude: 81, longitude: 121, time: 744)\n",
       "Coordinates:\n",
       "  * time       (time) datetime64[ns] 2011-01-01 ... 2011-01-31T23:00:00\n",
       "  * latitude   (latitude) float64 50.0 49.75 49.5 49.25 ... 30.5 30.25 30.0\n",
       "  * longitude  (longitude) float64 265.0 265.2 265.5 265.8 ... 294.5 294.8 295.0\n",
       "Data variables:\n",
       "    VAR_100U   (time, latitude, longitude) float32 ...\n",
       "    VAR_100V   (time, latitude, longitude) float32 ...\n",
       "    WPD        (time, latitude, longitude) float32 ...\n",
       "    SSRD       (time, latitude, longitude) float32 ...\n",
       "    GHI        (time, latitude, longitude) float32 ..."
      ]
     },
     "execution_count": 49,
     "metadata": {},
     "output_type": "execute_result"
    }
   ],
   "source": [
    "era_data.sel(time=slice('2011-01-01 00:00:00', '2011-01-31 23:00:00'))"
   ]
  },
  {
   "cell_type": "code",
   "execution_count": 47,
   "metadata": {},
   "outputs": [
    {
     "data": {
      "text/html": [
       "<pre>&lt;xarray.Dataset&gt;\n",
       "Dimensions:    (latitude: 81, longitude: 121, time: 750)\n",
       "Coordinates:\n",
       "  * time       (time) datetime64[ns] 2011-01-01 ... 2011-02-01T05:00:00\n",
       "  * latitude   (latitude) float64 50.0 49.75 49.5 49.25 ... 30.5 30.25 30.0\n",
       "  * longitude  (longitude) float64 265.0 265.2 265.5 265.8 ... 294.5 294.8 295.0\n",
       "Data variables:\n",
       "    VAR_100U   (time, latitude, longitude) float32 ...\n",
       "    VAR_100V   (time, latitude, longitude) float32 ...\n",
       "    WPD        (time, latitude, longitude) float32 ...\n",
       "    SSRD       (time, latitude, longitude) float32 ...\n",
       "    GHI        (time, latitude, longitude) float32 ...</pre>"
      ],
      "text/plain": [
       "<xarray.Dataset>\n",
       "Dimensions:    (latitude: 81, longitude: 121, time: 750)\n",
       "Coordinates:\n",
       "  * time       (time) datetime64[ns] 2011-01-01 ... 2011-02-01T05:00:00\n",
       "  * latitude   (latitude) float64 50.0 49.75 49.5 49.25 ... 30.5 30.25 30.0\n",
       "  * longitude  (longitude) float64 265.0 265.2 265.5 265.8 ... 294.5 294.8 295.0\n",
       "Data variables:\n",
       "    VAR_100U   (time, latitude, longitude) float32 ...\n",
       "    VAR_100V   (time, latitude, longitude) float32 ...\n",
       "    WPD        (time, latitude, longitude) float32 ...\n",
       "    SSRD       (time, latitude, longitude) float32 ...\n",
       "    GHI        (time, latitude, longitude) float32 ..."
      ]
     },
     "execution_count": 47,
     "metadata": {},
     "output_type": "execute_result"
    }
   ],
   "source": [
    "era_data.groupby('time.month')\n",
    "era_data"
   ]
  },
  {
   "cell_type": "code",
   "execution_count": null,
   "metadata": {},
   "outputs": [],
   "source": []
  }
 ],
 "metadata": {
  "kernelspec": {
   "display_name": "Python 3",
   "language": "python",
   "name": "python3"
  },
  "language_info": {
   "codemirror_mode": {
    "name": "ipython",
    "version": 3
   },
   "file_extension": ".py",
   "mimetype": "text/x-python",
   "name": "python",
   "nbconvert_exporter": "python",
   "pygments_lexer": "ipython3",
   "version": "3.7.8"
  }
 },
 "nbformat": 4,
 "nbformat_minor": 4
}
