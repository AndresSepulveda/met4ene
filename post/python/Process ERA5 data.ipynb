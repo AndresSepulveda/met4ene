{
 "cells": [
  {
   "cell_type": "markdown",
   "metadata": {},
   "source": [
    "## Process ERA5 file Tutorial\n",
    "\n",
    "This tutorial will walk through processing forecast data from ERA5 using xarray.\n",
    "\n",
    "Authors:\n",
    "* Jeffrey Sward (jas983@cornell.edu), Cornell University, January 2020"
   ]
  },
  {
   "cell_type": "code",
   "execution_count": 2,
   "metadata": {},
   "outputs": [],
   "source": [
    "# built in python modules\n",
    "import datetime\n",
    "import os\n",
    "import inspect\n",
    "import sys\n",
    "\n",
    "# python add-ons\n",
    "import numpy as np\n",
    "import pandas as pd\n",
    "import xarray as xr\n",
    "import netCDF4\n",
    "import wrf\n",
    "\n",
    "# Import the pvlib module\n",
    "if sys.platform == 'linux':\n",
    "    sys.path.append('/home/jsward/Documents/01_Research/01_Renewable_Analysis/WRF/pvlib-python')\n",
    "import pvlib\n",
    "from pvlib.wrfcast import WRF\n",
    "\n",
    "# Import the optwrf module\n",
    "import optwrf"
   ]
  },
  {
   "cell_type": "code",
   "execution_count": 11,
   "metadata": {},
   "outputs": [],
   "source": [
    "# Find the absolute file path to your pvlib installation\n",
    "pvlib_abspath = os.path.dirname(os.path.abspath(inspect.getfile(optwrf)))\n",
    "\n",
    "# absolute path to ERA data file\n",
    "era_file1 = os.path.join(pvlib_abspath, 'data', 'EastUS_e5.oper.an.sfc.228_246_100u.ll025sc.2011010100_2011013123.nc')\n",
    "era_file2 = os.path.join(pvlib_abspath, 'data', 'EastUS_e5.oper.an.sfc.228_247_100v.ll025sc.2011010100_2011013123.nc')\n",
    "\n",
    "# Read in the wrfout file using the netCDF4.Dataset method (I think you can also do this with an xarray method)\n",
    "era_data1 = xr.open_dataset(era_file1)\n",
    "era_data2 = xr.open_dataset(era_file2)"
   ]
  },
  {
   "cell_type": "code",
   "execution_count": 12,
   "metadata": {
    "scrolled": true
   },
   "outputs": [
    {
     "data": {
      "text/html": [
       "<pre>&lt;xarray.Dataset&gt;\n",
       "Dimensions:    (latitude: 81, longitude: 121, time: 744)\n",
       "Coordinates:\n",
       "  * latitude   (latitude) float64 50.0 49.75 49.5 49.25 ... 30.5 30.25 30.0\n",
       "  * longitude  (longitude) float64 265.0 265.2 265.5 265.8 ... 294.5 294.8 295.0\n",
       "  * time       (time) datetime64[ns] 2011-01-01 ... 2011-01-31T23:00:00\n",
       "Data variables:\n",
       "    VAR_100U   (time, latitude, longitude) float32 ...\n",
       "    utc_date   (time) int32 2011010100 2011010101 ... 2011013122 2011013123\n",
       "    VAR_100V   (time, latitude, longitude) float32 ...</pre>"
      ],
      "text/plain": [
       "<xarray.Dataset>\n",
       "Dimensions:    (latitude: 81, longitude: 121, time: 744)\n",
       "Coordinates:\n",
       "  * latitude   (latitude) float64 50.0 49.75 49.5 49.25 ... 30.5 30.25 30.0\n",
       "  * longitude  (longitude) float64 265.0 265.2 265.5 265.8 ... 294.5 294.8 295.0\n",
       "  * time       (time) datetime64[ns] 2011-01-01 ... 2011-01-31T23:00:00\n",
       "Data variables:\n",
       "    VAR_100U   (time, latitude, longitude) float32 ...\n",
       "    utc_date   (time) int32 2011010100 2011010101 ... 2011013122 2011013123\n",
       "    VAR_100V   (time, latitude, longitude) float32 ..."
      ]
     },
     "execution_count": 12,
     "metadata": {},
     "output_type": "execute_result"
    }
   ],
   "source": [
    "era_data = xr.merge([era_data1, era_data2])\n",
    "era_data"
   ]
  },
  {
   "cell_type": "code",
   "execution_count": 17,
   "metadata": {},
   "outputs": [
    {
     "data": {
      "text/html": [
       "<pre>&lt;xarray.Dataset&gt;\n",
       "Dimensions:    (latitude: 81, longitude: 121, time: 744)\n",
       "Coordinates:\n",
       "  * latitude   (latitude) float64 50.0 49.75 49.5 49.25 ... 30.5 30.25 30.0\n",
       "  * longitude  (longitude) float64 265.0 265.2 265.5 265.8 ... 294.5 294.8 295.0\n",
       "  * time       (time) datetime64[ns] 2011-01-01 ... 2011-01-31T23:00:00\n",
       "Data variables:\n",
       "    VAR_100U   (time, latitude, longitude) float32 -5.118103 ... -3.841217\n",
       "    utc_date   (time) int32 2011010100 2011010101 ... 2011013122 2011013123\n",
       "    VAR_100V   (time, latitude, longitude) float32 -7.5160675 ... -1.6359863\n",
       "    wpd        (time, latitude, longitude) float32 375941.2 ... 36388.855</pre>"
      ],
      "text/plain": [
       "<xarray.Dataset>\n",
       "Dimensions:    (latitude: 81, longitude: 121, time: 744)\n",
       "Coordinates:\n",
       "  * latitude   (latitude) float64 50.0 49.75 49.5 49.25 ... 30.5 30.25 30.0\n",
       "  * longitude  (longitude) float64 265.0 265.2 265.5 265.8 ... 294.5 294.8 295.0\n",
       "  * time       (time) datetime64[ns] 2011-01-01 ... 2011-01-31T23:00:00\n",
       "Data variables:\n",
       "    VAR_100U   (time, latitude, longitude) float32 -5.118103 ... -3.841217\n",
       "    utc_date   (time) int32 2011010100 2011010101 ... 2011013122 2011013123\n",
       "    VAR_100V   (time, latitude, longitude) float32 -7.5160675 ... -1.6359863\n",
       "    wpd        (time, latitude, longitude) float32 375941.2 ... 36388.855"
      ]
     },
     "execution_count": 17,
     "metadata": {},
     "output_type": "execute_result"
    }
   ],
   "source": [
    "# Calculate the 100m wind speed\n",
    "wind_speed100 = np.sqrt(era_data['VAR_100U']**2 + era_data['VAR_100V']**2)\n",
    "\n",
    "# Calculate wind power density (W * m -2)\n",
    "air_density = 1000 \n",
    "wpd = 0.5 * air_density * (wind_speed100) ** 3\n",
    "era_data['wpd'] = wpd\n",
    "era_data"
   ]
  },
  {
   "cell_type": "code",
   "execution_count": null,
   "metadata": {},
   "outputs": [],
   "source": []
  }
 ],
 "metadata": {
  "kernelspec": {
   "display_name": "Python 3",
   "language": "python",
   "name": "python3"
  },
  "language_info": {
   "codemirror_mode": {
    "name": "ipython",
    "version": 3
   },
   "file_extension": ".py",
   "mimetype": "text/x-python",
   "name": "python",
   "nbconvert_exporter": "python",
   "pygments_lexer": "ipython3",
   "version": "3.7.6"
  }
 },
 "nbformat": 4,
 "nbformat_minor": 4
}
