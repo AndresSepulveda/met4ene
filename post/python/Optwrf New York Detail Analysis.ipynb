{
 "cells": [
  {
   "cell_type": "markdown",
   "metadata": {},
   "source": [
    "The notebook zooms into the best optwrf simulation over New York State to figure out why some of the parameterizations performed well there.\n",
    "\n",
    "Updated by Jeffrey Sward on November 3, 2020 "
   ]
  },
  {
   "cell_type": "code",
   "execution_count": 4,
   "metadata": {},
   "outputs": [],
   "source": [
    "# plotting stuff\n",
    "%matplotlib inline\n",
    "import matplotlib.pyplot as plt\n",
    "from matplotlib.cm import get_cmap\n",
    "import cartopy.crs as crs\n",
    "from cartopy.feature import NaturalEarthFeature\n",
    "\n",
    "# built in python modules\n",
    "import datetime\n",
    "import os\n",
    "import inspect\n",
    "import sys\n",
    "\n",
    "# python add-ons\n",
    "import numpy as np\n",
    "import pandas as pd\n",
    "import xarray as xr\n",
    "import netCDF4\n",
    "import wrf\n",
    "from wrf import (to_np, getvar, ALL_TIMES, smooth2d, get_cartopy, cartopy_xlim,\n",
    "                 cartopy_ylim, latlon_coords, geo_bounds)\n",
    "import cartopy.crs as ccrs\n",
    "import cartopy.feature as cfeature\n",
    "import cartopy.io.shapereader as shpreader\n",
    "\n",
    "# Import the pvlib module\n",
    "if sys.platform == 'linux':\n",
    "    sys.path.append('/home/jsward/Documents/01_Research/01_Renewable_Analysis/WRF/pvlib-python')\n",
    "else:\n",
    "    sys.path.append('/Users/swardy9230/Box Sync/01_Research/01_Renewable_Analysis/WRF_Solar_and_Wind/pvlib-python')\n",
    "import pvlib\n",
    "from pvlib.wrfcast import WRF\n",
    "\n",
    "# Import the optwrf module\n",
    "import optwrf\n",
    "from optwrf import runwrf\n",
    "from optwrf import helper_functions as hf\n",
    "from optwrf import plots as owplt"
   ]
  },
  {
   "cell_type": "code",
   "execution_count": 2,
   "metadata": {},
   "outputs": [
    {
     "name": "stdout",
     "output_type": "stream",
     "text": [
      "Processeed WRF DATA:\n",
      "<xarray.Dataset>\n",
      "Dimensions:         (Time: 24, bottom_top: 35, south_north: 191, west_east: 191)\n",
      "Coordinates:\n",
      "  * Time            (Time) datetime64[ns] 2011-12-13 ... 2011-12-13T23:00:00\n",
      "    lon             (south_north, west_east) float32 ...\n",
      "    lat             (south_north, west_east) float32 ...\n",
      "Dimensions without coordinates: bottom_top, south_north, west_east\n",
      "Data variables:\n",
      "    Times           (Time) datetime64[ns] ...\n",
      "    temp_air        (Time, south_north, west_east) float32 ...\n",
      "    wind_speed_u    (Time, south_north, west_east) float32 ...\n",
      "    wind_speed_v    (Time, south_north, west_east) float32 ...\n",
      "    cloud_fraction  (Time, bottom_top, south_north, west_east) float32 ...\n",
      "    cos_zenith      (Time, south_north, west_east) float32 ...\n",
      "    dni             (Time, south_north, west_east) float32 ...\n",
      "    dhi             (Time, south_north, west_east) float32 ...\n",
      "    ghi             (Time, south_north, west_east) float32 ...\n",
      "    wind_speed10    (Time, south_north, west_east) float32 ...\n",
      "    wind_speed100   (Time, south_north, west_east) float32 ...\n",
      "    wpd             (Time, south_north, west_east) float32 ...\n",
      "\n"
     ]
    }
   ],
   "source": [
    "# Verbose setting\n",
    "verbose = True\n",
    "\n",
    "# Define the datestr and paramstr !!!!!!! REQUIRES CHANGE TO PLOT DIFFERENT SIM\n",
    "# param_ids = [19, 4, 4, 7, 8, 99, 1]\n",
    "start_date = 'Dec 13  2011'\n",
    "# end_date = 'Dec 14 2011'\n",
    "datestr = '2011-12-13'\n",
    "paramstr = '19mp4lw4sw7lsm8pbl99cu'\n",
    "# paramstr = '8mp4lw4sw2lsm2pbl6cu'\n",
    "wrffile_name = f'wrfout_processed_d01_{datestr}_{paramstr}.nc'\n",
    "wrffile_name_orig = f'wrfout_d01_{datestr}_{paramstr}.nc'\n",
    "\n",
    "# Find the absolute file path to your optwrf package\n",
    "optwrf_abspath = os.path.dirname(os.path.abspath(inspect.getfile(optwrf)))\n",
    "optwrf_abspath\n",
    "\n",
    "# Open the processed wrfout data !!!!!!! REQUIRES CHANGE TO PLOT DIFFERENT SIM\n",
    "wrf_dir = os.path.join(optwrf_abspath, 'data/optwrf_sim/')\n",
    "# wrf_dir = os.path.join(optwrf_abspath, 'data/conus_sim/')\n",
    "wrffile = os.path.join(wrf_dir, wrffile_name)\n",
    "wrfdata = xr.open_dataset(wrffile)\n",
    "if verbose:\n",
    "    print(f'Processeed WRF DATA:\\n{wrfdata}\\n')"
   ]
  },
  {
   "cell_type": "code",
   "execution_count": 5,
   "metadata": {},
   "outputs": [
    {
     "ename": "ValueError",
     "evalue": "'var' object does not contain a latitude coordinate",
     "output_type": "error",
     "traceback": [
      "\u001b[0;31m---------------------------------------------------------------------------\u001b[0m",
      "\u001b[0;31mKeyError\u001b[0m                                  Traceback (most recent call last)",
      "\u001b[0;32m~/opt/anaconda3/envs/optwrf/lib/python3.7/site-packages/xarray/core/dataarray.py\u001b[0m in \u001b[0;36m_getitem_coord\u001b[0;34m(self, key)\u001b[0m\n\u001b[1;32m    628\u001b[0m         \u001b[0;32mtry\u001b[0m\u001b[0;34m:\u001b[0m\u001b[0;34m\u001b[0m\u001b[0;34m\u001b[0m\u001b[0m\n\u001b[0;32m--> 629\u001b[0;31m             \u001b[0mvar\u001b[0m \u001b[0;34m=\u001b[0m \u001b[0mself\u001b[0m\u001b[0;34m.\u001b[0m\u001b[0m_coords\u001b[0m\u001b[0;34m[\u001b[0m\u001b[0mkey\u001b[0m\u001b[0;34m]\u001b[0m\u001b[0;34m\u001b[0m\u001b[0;34m\u001b[0m\u001b[0m\n\u001b[0m\u001b[1;32m    630\u001b[0m         \u001b[0;32mexcept\u001b[0m \u001b[0mKeyError\u001b[0m\u001b[0;34m:\u001b[0m\u001b[0;34m\u001b[0m\u001b[0;34m\u001b[0m\u001b[0m\n",
      "\u001b[0;31mKeyError\u001b[0m: None",
      "\nDuring handling of the above exception, another exception occurred:\n",
      "\u001b[0;31mKeyError\u001b[0m                                  Traceback (most recent call last)",
      "\u001b[0;32m~/opt/anaconda3/envs/optwrf/lib/python3.7/site-packages/wrf/util.py\u001b[0m in \u001b[0;36mgeo_bounds\u001b[0;34m(var, wrfin, varname, timeidx, method, squeeze, cache)\u001b[0m\n\u001b[1;32m   3192\u001b[0m         \u001b[0;32mtry\u001b[0m\u001b[0;34m:\u001b[0m\u001b[0;34m\u001b[0m\u001b[0;34m\u001b[0m\u001b[0m\n\u001b[0;32m-> 3193\u001b[0;31m             \u001b[0mlats\u001b[0m \u001b[0;34m=\u001b[0m \u001b[0mto_np\u001b[0m\u001b[0;34m(\u001b[0m\u001b[0mvar_coords\u001b[0m\u001b[0;34m[\u001b[0m\u001b[0mlatname\u001b[0m\u001b[0;34m]\u001b[0m\u001b[0;34m)\u001b[0m\u001b[0;34m\u001b[0m\u001b[0;34m\u001b[0m\u001b[0m\n\u001b[0m\u001b[1;32m   3194\u001b[0m         \u001b[0;32mexcept\u001b[0m \u001b[0mKeyError\u001b[0m\u001b[0;34m:\u001b[0m\u001b[0;34m\u001b[0m\u001b[0;34m\u001b[0m\u001b[0m\n",
      "\u001b[0;32m~/opt/anaconda3/envs/optwrf/lib/python3.7/site-packages/xarray/core/coordinates.py\u001b[0m in \u001b[0;36m__getitem__\u001b[0;34m(self, key)\u001b[0m\n\u001b[1;32m    281\u001b[0m     \u001b[0;32mdef\u001b[0m \u001b[0m__getitem__\u001b[0m\u001b[0;34m(\u001b[0m\u001b[0mself\u001b[0m\u001b[0;34m,\u001b[0m \u001b[0mkey\u001b[0m\u001b[0;34m:\u001b[0m \u001b[0mHashable\u001b[0m\u001b[0;34m)\u001b[0m \u001b[0;34m->\u001b[0m \u001b[0;34m\"DataArray\"\u001b[0m\u001b[0;34m:\u001b[0m\u001b[0;34m\u001b[0m\u001b[0;34m\u001b[0m\u001b[0m\n\u001b[0;32m--> 282\u001b[0;31m         \u001b[0;32mreturn\u001b[0m \u001b[0mself\u001b[0m\u001b[0;34m.\u001b[0m\u001b[0m_data\u001b[0m\u001b[0;34m.\u001b[0m\u001b[0m_getitem_coord\u001b[0m\u001b[0;34m(\u001b[0m\u001b[0mkey\u001b[0m\u001b[0;34m)\u001b[0m\u001b[0;34m\u001b[0m\u001b[0;34m\u001b[0m\u001b[0m\n\u001b[0m\u001b[1;32m    283\u001b[0m \u001b[0;34m\u001b[0m\u001b[0m\n",
      "\u001b[0;32m~/opt/anaconda3/envs/optwrf/lib/python3.7/site-packages/xarray/core/dataarray.py\u001b[0m in \u001b[0;36m_getitem_coord\u001b[0;34m(self, key)\u001b[0m\n\u001b[1;32m    632\u001b[0m             _, key, var = _get_virtual_variable(\n\u001b[0;32m--> 633\u001b[0;31m                 \u001b[0mself\u001b[0m\u001b[0;34m.\u001b[0m\u001b[0m_coords\u001b[0m\u001b[0;34m,\u001b[0m \u001b[0mkey\u001b[0m\u001b[0;34m,\u001b[0m \u001b[0mself\u001b[0m\u001b[0;34m.\u001b[0m\u001b[0m_level_coords\u001b[0m\u001b[0;34m,\u001b[0m \u001b[0mdim_sizes\u001b[0m\u001b[0;34m\u001b[0m\u001b[0;34m\u001b[0m\u001b[0m\n\u001b[0m\u001b[1;32m    634\u001b[0m             )\n",
      "\u001b[0;32m~/opt/anaconda3/envs/optwrf/lib/python3.7/site-packages/xarray/core/dataset.py\u001b[0m in \u001b[0;36m_get_virtual_variable\u001b[0;34m(variables, key, level_vars, dim_sizes)\u001b[0m\n\u001b[1;32m    155\u001b[0m     \u001b[0;32mif\u001b[0m \u001b[0;32mnot\u001b[0m \u001b[0misinstance\u001b[0m\u001b[0;34m(\u001b[0m\u001b[0mkey\u001b[0m\u001b[0;34m,\u001b[0m \u001b[0mstr\u001b[0m\u001b[0;34m)\u001b[0m\u001b[0;34m:\u001b[0m\u001b[0;34m\u001b[0m\u001b[0;34m\u001b[0m\u001b[0m\n\u001b[0;32m--> 156\u001b[0;31m         \u001b[0;32mraise\u001b[0m \u001b[0mKeyError\u001b[0m\u001b[0;34m(\u001b[0m\u001b[0mkey\u001b[0m\u001b[0;34m)\u001b[0m\u001b[0;34m\u001b[0m\u001b[0;34m\u001b[0m\u001b[0m\n\u001b[0m\u001b[1;32m    157\u001b[0m \u001b[0;34m\u001b[0m\u001b[0m\n",
      "\u001b[0;31mKeyError\u001b[0m: None",
      "\nDuring handling of the above exception, another exception occurred:\n",
      "\u001b[0;31mValueError\u001b[0m                                Traceback (most recent call last)",
      "\u001b[0;32m<ipython-input-5-3fa9237954a6>\u001b[0m in \u001b[0;36m<module>\u001b[0;34m\u001b[0m\n\u001b[1;32m      1\u001b[0m \u001b[0;31m# Get the geographic boundaries for a subset of the domain\u001b[0m\u001b[0;34m\u001b[0m\u001b[0;34m\u001b[0m\u001b[0;34m\u001b[0m\u001b[0m\n\u001b[1;32m      2\u001b[0m \u001b[0mdni_subset\u001b[0m \u001b[0;34m=\u001b[0m \u001b[0mwrfdata\u001b[0m\u001b[0;34m.\u001b[0m\u001b[0mdni\u001b[0m\u001b[0;34m[\u001b[0m\u001b[0;36m25\u001b[0m\u001b[0;34m:\u001b[0m\u001b[0;36m50\u001b[0m\u001b[0;34m,\u001b[0m \u001b[0;36m25\u001b[0m\u001b[0;34m:\u001b[0m\u001b[0;36m50\u001b[0m\u001b[0;34m]\u001b[0m\u001b[0;34m\u001b[0m\u001b[0;34m\u001b[0m\u001b[0m\n\u001b[0;32m----> 3\u001b[0;31m \u001b[0mdni_subset\u001b[0m \u001b[0;34m=\u001b[0m \u001b[0mgeo_bounds\u001b[0m\u001b[0;34m(\u001b[0m\u001b[0mdni_subset\u001b[0m\u001b[0;34m)\u001b[0m\u001b[0;34m\u001b[0m\u001b[0;34m\u001b[0m\u001b[0m\n\u001b[0m",
      "\u001b[0;32m~/opt/anaconda3/envs/optwrf/lib/python3.7/site-packages/wrf/util.py\u001b[0m in \u001b[0;36mgeo_bounds\u001b[0;34m(var, wrfin, varname, timeidx, method, squeeze, cache)\u001b[0m\n\u001b[1;32m   3193\u001b[0m             \u001b[0mlats\u001b[0m \u001b[0;34m=\u001b[0m \u001b[0mto_np\u001b[0m\u001b[0;34m(\u001b[0m\u001b[0mvar_coords\u001b[0m\u001b[0;34m[\u001b[0m\u001b[0mlatname\u001b[0m\u001b[0;34m]\u001b[0m\u001b[0;34m)\u001b[0m\u001b[0;34m\u001b[0m\u001b[0;34m\u001b[0m\u001b[0m\n\u001b[1;32m   3194\u001b[0m         \u001b[0;32mexcept\u001b[0m \u001b[0mKeyError\u001b[0m\u001b[0;34m:\u001b[0m\u001b[0;34m\u001b[0m\u001b[0;34m\u001b[0m\u001b[0m\n\u001b[0;32m-> 3195\u001b[0;31m             raise ValueError(\"'var' object does not contain a latitude \"\n\u001b[0m\u001b[1;32m   3196\u001b[0m                              \"coordinate\")\n\u001b[1;32m   3197\u001b[0m         \u001b[0;32mtry\u001b[0m\u001b[0;34m:\u001b[0m\u001b[0;34m\u001b[0m\u001b[0;34m\u001b[0m\u001b[0m\n",
      "\u001b[0;31mValueError\u001b[0m: 'var' object does not contain a latitude coordinate"
     ]
    }
   ],
   "source": [
    "# Get the geographic boundaries for a subset of the domain\n",
    "dni_subset = wrfdata.dni[25:50, 25:50]\n",
    "dni_subset = geo_bounds(dni_subset)"
   ]
  },
  {
   "cell_type": "code",
   "execution_count": null,
   "metadata": {},
   "outputs": [],
   "source": []
  }
 ],
 "metadata": {
  "kernelspec": {
   "display_name": "Python 3",
   "language": "python",
   "name": "python3"
  },
  "language_info": {
   "codemirror_mode": {
    "name": "ipython",
    "version": 3
   },
   "file_extension": ".py",
   "mimetype": "text/x-python",
   "name": "python",
   "nbconvert_exporter": "python",
   "pygments_lexer": "ipython3",
   "version": "3.7.8"
  }
 },
 "nbformat": 4,
 "nbformat_minor": 4
}
