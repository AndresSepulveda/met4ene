{
 "cells": [
  {
   "cell_type": "markdown",
   "metadata": {},
   "source": [
    "The notebook provides an example of how to zoom into the best optwrf simulation over a specific region (New York State in this example) to determine why some parameterizations performed better there.\n",
    "\n",
    "Updated by Jeffrey Sward on November 11, 2020 "
   ]
  },
  {
   "cell_type": "code",
   "execution_count": 1,
   "metadata": {},
   "outputs": [
    {
     "name": "stdout",
     "output_type": "stream",
     "text": [
      "No module named 'pyresample'\n"
     ]
    }
   ],
   "source": [
    "# plotting stuff\n",
    "%matplotlib inline\n",
    "import matplotlib.pyplot as plt\n",
    "from matplotlib.cm import get_cmap\n",
    "import cartopy.crs as crs\n",
    "from cartopy.feature import NaturalEarthFeature\n",
    "\n",
    "# built in python modules\n",
    "import datetime\n",
    "import os\n",
    "import inspect\n",
    "import sys\n",
    "\n",
    "# python add-ons\n",
    "import numpy as np\n",
    "import pandas as pd\n",
    "import xarray as xr\n",
    "import netCDF4\n",
    "import wrf\n",
    "from wrf import (to_np, getvar, ALL_TIMES, smooth2d, get_cartopy, cartopy_xlim,\n",
    "                 cartopy_ylim, latlon_coords, geo_bounds)\n",
    "import cartopy.crs as ccrs\n",
    "import cartopy.feature as cfeature\n",
    "import cartopy.io.shapereader as shpreader\n",
    "\n",
    "# Import the pvlib module\n",
    "if sys.platform == 'linux':\n",
    "    sys.path.append('/home/jsward/Documents/01_Research/01_Renewable_Analysis/WRF/pvlib-python')\n",
    "else:\n",
    "    sys.path.append('/Users/swardy9230/Box Sync/01_Research/01_Renewable_Analysis/WRF_Solar_and_Wind/pvlib-python')\n",
    "import pvlib\n",
    "from pvlib.wrfcast import WRF\n",
    "\n",
    "# Import the optwrf module\n",
    "import optwrf\n",
    "from optwrf import runwrf\n",
    "from optwrf import helper_functions as hf\n",
    "from optwrf import postwrf, plots, util"
   ]
  },
  {
   "cell_type": "code",
   "execution_count": 2,
   "metadata": {},
   "outputs": [],
   "source": [
    "# # Define the path to where you WRF data file is stored \n",
    "# # (note: don't forget to add the \"/\" at the end of the directory)\n",
    "# wrfout_dir = '/Users/swardy9230/Box Sync/01_Research/01_Renewable_Analysis/Wind Resource Analysis/wrfout/19mp4lw4sw7lsm8pbl99cu/'\n",
    "# wrfout_file = 'wrfout_d01_2011-07-17'\n",
    "# wrfout_file_processed = 'processed_' + wrfout_file\n",
    "\n",
    "# # Process the WRF data\n",
    "# process_data = False\n",
    "# if process_data:\n",
    "#     met_data = postwrf.process_wrfout_manual(wrfout_dir, wrfout_file, save_file=False)\n",
    "# else:\n",
    "#     met_data = xr.open_dataset(wrfout_dir+wrfout_file_processed)\n",
    "# met_data"
   ]
  },
  {
   "cell_type": "code",
   "execution_count": 3,
   "metadata": {
    "scrolled": false
   },
   "outputs": [
    {
     "name": "stdout",
     "output_type": "stream",
     "text": [
      "Processeed WRF DATA:\n",
      "<xarray.Dataset>\n",
      "Dimensions:         (Time: 24, bottom_top: 35, south_north: 191, west_east: 191)\n",
      "Coordinates:\n",
      "  * Time            (Time) datetime64[ns] 2011-12-13 ... 2011-12-13T23:00:00\n",
      "    lon             (south_north, west_east) float32 ...\n",
      "    lat             (south_north, west_east) float32 ...\n",
      "Dimensions without coordinates: bottom_top, south_north, west_east\n",
      "Data variables:\n",
      "    Times           (Time) datetime64[ns] ...\n",
      "    temp_air        (Time, south_north, west_east) float32 ...\n",
      "    wind_speed_u    (Time, south_north, west_east) float32 ...\n",
      "    wind_speed_v    (Time, south_north, west_east) float32 ...\n",
      "    cloud_fraction  (Time, bottom_top, south_north, west_east) float32 ...\n",
      "    cos_zenith      (Time, south_north, west_east) float32 ...\n",
      "    dni             (Time, south_north, west_east) float32 ...\n",
      "    dhi             (Time, south_north, west_east) float32 ...\n",
      "    ghi             (Time, south_north, west_east) float32 ...\n",
      "    wind_speed10    (Time, south_north, west_east) float32 ...\n",
      "    wind_speed100   (Time, south_north, west_east) float32 ...\n",
      "    wpd             (Time, south_north, west_east) float32 ...\n",
      "\n",
      "ERA5 DATA:\n",
      "<xarray.Dataset>\n",
      "Dimensions:    (Time: 744, latitude: 97, longitude: 129)\n",
      "Coordinates:\n",
      "  * Time       (Time) datetime64[ns] 2011-12-01 ... 2011-12-31T23:00:00\n",
      "  * latitude   (latitude) float64 52.0 51.75 51.5 51.25 ... 28.5 28.25 28.0\n",
      "  * longitude  (longitude) float64 264.0 264.2 264.5 264.8 ... 295.5 295.8 296.0\n",
      "Data variables:\n",
      "    VAR_100U   (Time, latitude, longitude) float32 ...\n",
      "    VAR_100V   (Time, latitude, longitude) float32 ...\n",
      "    WPD        (Time, latitude, longitude) float32 ...\n",
      "    SSRD       (Time, latitude, longitude) float32 ...\n",
      "    GHI        (Time, latitude, longitude) float32 ...\n"
     ]
    }
   ],
   "source": [
    "# Verbose setting\n",
    "verbose = True\n",
    "\n",
    "# Define the datestr, paramstr, and wrfout file names\n",
    "datestr = '2011-12-13'\n",
    "paramstr = '19mp4lw4sw7lsm8pbl99cu'\n",
    "# paramstr = '8mp4lw4sw2lsm2pbl6cu'\n",
    "wrffile_name = f'wrfout_processed_d01_{datestr}_{paramstr}.nc'\n",
    "wrffile_name_orig = f'wrfout_d01_{datestr}_{paramstr}.nc'\n",
    "\n",
    "# Find the absolute file path to your optwrf package\n",
    "optwrf_abspath = os.path.dirname(os.path.abspath(inspect.getfile(optwrf)))\n",
    "optwrf_abspath\n",
    "\n",
    "# Specify the path to the processed wrfout file\n",
    "wrfdir = os.path.join(optwrf_abspath, 'data/optwrf_sim/')\n",
    "wrffile = os.path.join(wrfdir, wrffile_name)\n",
    "wrfdata = xr.open_dataset(wrffile)\n",
    "if verbose:\n",
    "    print(f'Processeed WRF DATA:\\n{wrfdata}\\n')\n",
    "    \n",
    "# Open the processed ERA5 data\n",
    "eradir = os.path.join(optwrf_abspath, 'data/ERA5/')\n",
    "erafile = os.path.join(eradir, 'ERA5_EastUS_WPD-GHI_2011-12.nc')\n",
    "eradata = xr.open_dataset(erafile)\n",
    "if verbose:\n",
    "    print(f'ERA5 DATA:\\n{eradata}')"
   ]
  },
  {
   "cell_type": "code",
   "execution_count": 4,
   "metadata": {},
   "outputs": [],
   "source": [
    "# Get the map projection information for plotting\n",
    "wrf_cartopy_proj = plots.get_wrf_proj(wrfdata, 'ghi')"
   ]
  },
  {
   "cell_type": "markdown",
   "metadata": {},
   "source": [
    "The next step is to define a subset of the domain that you would like to create plots for. There are a copule of functions to do this in optwrf, but we will use the Kdtree class that's based upon the scipy cKDTree package."
   ]
  },
  {
   "cell_type": "code",
   "execution_count": 5,
   "metadata": {},
   "outputs": [
    {
     "name": "stdout",
     "output_type": "stream",
     "text": [
      "Latitude Indicies: 108:154\n",
      "Longitude Indicies: 91:167\n"
     ]
    }
   ],
   "source": [
    "# Idnetify the points for your bounding box\n",
    "lltoxy = util.Kdtree_ll_to_xy(wrfdata,'lat','lon')\n",
    "lower_lat_idx,lower_lon_idx = lltoxy.query(41.706178, -81.865276)  # Near Cleavland\n",
    "upper_lat_idx,upper_lon_idx = lltoxy.query(44.700326, -69.296917)  # Sorta near Bangor\n",
    "\n",
    "print(f'Latitude Indicies: {lower_lat_idx}:{upper_lat_idx}')\n",
    "print(f'Longitude Indicies: {lower_lon_idx}:{upper_lon_idx}')"
   ]
  },
  {
   "cell_type": "code",
   "execution_count": 6,
   "metadata": {},
   "outputs": [],
   "source": [
    "# Slice the data (in this case DNI) to this bounding box, and do a quick visualization\n",
    "wrfdata_subset = wrfdata.isel(south_north=slice(lower_lat_idx, upper_lat_idx), \n",
    "                               west_east=slice(lower_lon_idx, upper_lon_idx))\n",
    "\n",
    "# Decide which time you would like to plot\n",
    "time_string_f = wrfdata_subset.Time[14].dt.strftime('%b %d, %Y %H:%M')\n",
    "# wrfdata_subset.ghi.sel(Time=time_string_f).plot()"
   ]
  },
  {
   "cell_type": "markdown",
   "metadata": {},
   "source": [
    "Now we can just use the same plotting functions that we used for the full domain!"
   ]
  },
  {
   "cell_type": "code",
   "execution_count": 7,
   "metadata": {
    "scrolled": false
   },
   "outputs": [],
   "source": [
    "# # Create a plot of a single quantity for either wrf or era5 data.\n",
    "# figpath = f'/Users/jsward/Box Sync/01_Research/01_Renewable_Analysis/WRF_Solar_and_Wind/figures/NYGHIerr_{datestr}_{paramstr}'\n",
    "# plots.wrf_era5_plot('ghi_error', wrfdata_subset, eradata, paramstr, src='wrf', hourly=False, save_fig=True,\n",
    "#                     fig_path=figpath, wrf_dir=wrfdir, era_dir=eradir, short_title_str='OptWRF GHI Error\\n(kWh m-2 day-1)', max=2.5)\n"
   ]
  },
  {
   "cell_type": "code",
   "execution_count": 8,
   "metadata": {
    "scrolled": false
   },
   "outputs": [],
   "source": [
    "# # Create a plot of a single quantity for either wrf or era5 data.\n",
    "# figpath = f'/Users/jsward/Box Sync/01_Research/01_Renewable_Analysis/WRF_Solar_and_Wind/figures/NYWPDerr_{datestr}_{paramstr}'\n",
    "# plots.wrf_era5_plot('wpd_error', wrfdata_subset, eradata, paramstr, src='wrf', hourly=False, save_fig=True,\n",
    "#                     fig_path=figpath, wrf_dir=wrfdir, era_dir=eradir, short_title_str='OptWRF WPD Error\\n(kWh m-2 day-1)', max=5000)\n"
   ]
  },
  {
   "cell_type": "code",
   "execution_count": 9,
   "metadata": {
    "scrolled": false
   },
   "outputs": [],
   "source": [
    "# # Create a plot that compares either ghi or wpd between wrf and era5.\n",
    "# plots.compare_wrf_era5_plot('ghi', wrfdata_subset, eradata, hourly=True, save_fig=False)"
   ]
  },
  {
   "cell_type": "code",
   "execution_count": 10,
   "metadata": {},
   "outputs": [
    {
     "name": "stdout",
     "output_type": "stream",
     "text": [
      "The file name is: bilinear_191x191_97x129.nc and reuse_weights is: False\n"
     ]
    },
    {
     "name": "stderr",
     "output_type": "stream",
     "text": [
      "/opt/anaconda3/envs/oshwind/lib/python3.8/site-packages/scipy/sparse/_index.py:124: SparseEfficiencyWarning: Changing the sparsity structure of a csr_matrix is expensive. lil_matrix is more efficient.\n",
      "  self._set_arrayXarray(i, j, x)\n",
      "/opt/anaconda3/envs/oshwind/lib/python3.8/site-packages/xesmf/frontend.py:466: FutureWarning: ``output_sizes`` should be given in the ``dask_gufunc_kwargs`` parameter. It will be removed as direct parameter in a future version.\n",
      "  dr_out = xr.apply_ufunc(\n"
     ]
    },
    {
     "data": {
      "image/png": "[encoded data removed]",
      "text/plain": [
       "<Figure size 684x216 with 6 Axes>"
      ]
     },
     "metadata": {
      "needs_background": "light"
     },
     "output_type": "display_data"
    }
   ],
   "source": [
    "# Create a plot that shows the fitness, ghi error, and wpd error for the wrf model. \n",
    "figpath = f'/Users/jsward/Box Sync/01_Research/01_Renewable_Analysis/WRF_Solar_and_Wind/figures/NY_GHI_WPD_Err_Fitness_{datestr}_{paramstr}'\n",
    "plots.wrf_errorandfitness_plot(wrfdata_subset, paramstr, save_fig=True, wrf_dir=wrfdir, era_dir=eradir,\n",
    "                             fig_path=figpath, verbose=False, fitness_short_title='WRF CONUS Model Fitness',\n",
    "                             ghi_error_short_title='OptWRF GHI Error\\n(kWh m$^{-2}$ day$^{-1}$)',\n",
    "                             wpd_error_short_title='OptWRF WPD Error\\n(kWh m$^{-2}$ day$^{-1}$)')"
   ]
  },
  {
   "cell_type": "code",
   "execution_count": null,
   "metadata": {},
   "outputs": [],
   "source": []
  }
 ],
 "metadata": {
  "kernelspec": {
   "display_name": "Python 3",
   "language": "python",
   "name": "python3"
  },
  "language_info": {
   "codemirror_mode": {
    "name": "ipython",
    "version": 3
   },
   "file_extension": ".py",
   "mimetype": "text/x-python",
   "name": "python",
   "nbconvert_exporter": "python",
   "pygments_lexer": "ipython3",
   "version": "3.8.8"
  }
 },
 "nbformat": 4,
 "nbformat_minor": 4
}
