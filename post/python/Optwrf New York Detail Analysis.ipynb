{
 "cells": [
  {
   "cell_type": "markdown",
   "metadata": {},
   "source": [
    "The notebook zooms into the best optwrf simulation over New York State to figure out why some of the parameterizations performed well there.\n",
    "\n",
    "Updated by Jeffrey Sward on November 3, 2020 "
   ]
  },
  {
   "cell_type": "code",
   "execution_count": null,
   "metadata": {},
   "outputs": [],
   "source": [
    "# plotting stuff\n",
    "%matplotlib inline\n",
    "import matplotlib.pyplot as plt\n",
    "from matplotlib.cm import get_cmap\n",
    "import cartopy.crs as crs\n",
    "from cartopy.feature import NaturalEarthFeature\n",
    "\n",
    "# built in python modules\n",
    "import datetime\n",
    "import os\n",
    "import inspect\n",
    "import sys\n",
    "\n",
    "# python add-ons\n",
    "import numpy as np\n",
    "import pandas as pd\n",
    "import xarray as xr\n",
    "import netCDF4\n",
    "import wrf\n",
    "from wrf import (to_np, getvar, ALL_TIMES, smooth2d, get_cartopy, cartopy_xlim,\n",
    "                 cartopy_ylim, latlon_coords, geo_bounds)\n",
    "import cartopy.crs as ccrs\n",
    "import cartopy.feature as cfeature\n",
    "import cartopy.io.shapereader as shpreader\n",
    "\n",
    "# Import the pvlib module\n",
    "if sys.platform == 'linux':\n",
    "    sys.path.append('/home/jsward/Documents/01_Research/01_Renewable_Analysis/WRF/pvlib-python')\n",
    "else:\n",
    "    sys.path.append('/Users/swardy9230/Box Sync/01_Research/01_Renewable_Analysis/WRF_Solar_and_Wind/pvlib-python')\n",
    "import pvlib\n",
    "from pvlib.wrfcast import WRF\n",
    "\n",
    "# Import the optwrf module\n",
    "import optwrf\n",
    "from optwrf import runwrf\n",
    "from optwrf import helper_functions as hf\n",
    "from optwrf import postwrf, plots"
   ]
  },
  {
   "cell_type": "code",
   "execution_count": null,
   "metadata": {},
   "outputs": [],
   "source": [
    "# # Define the path to where you WRF data file is stored \n",
    "# # (note: don't forget to add the \"/\" at the end of the directory)\n",
    "# wrfout_dir = '/Users/swardy9230/Box Sync/01_Research/01_Renewable_Analysis/Wind Resource Analysis/wrfout/19mp4lw4sw7lsm8pbl99cu/'\n",
    "# wrfout_file = 'wrfout_d01_2011-07-17'\n",
    "# wrfout_file_processed = 'processed_' + wrfout_file\n",
    "\n",
    "# # Process the WRF data\n",
    "# process_data = False\n",
    "# if process_data:\n",
    "#     met_data = postwrf.process_wrfout_manual(wrfout_dir, wrfout_file, save_file=False)\n",
    "# else:\n",
    "#     met_data = xr.open_dataset(wrfout_dir+wrfout_file_processed)\n",
    "# met_data"
   ]
  },
  {
   "cell_type": "code",
   "execution_count": null,
   "metadata": {},
   "outputs": [],
   "source": [
    "# Verbose setting\n",
    "verbose = True\n",
    "\n",
    "# Define the datestr, paramstr, and wrfout file names\n",
    "datestr = '2011-12-13'\n",
    "paramstr = '19mp4lw4sw7lsm8pbl99cu'\n",
    "# paramstr = '8mp4lw4sw2lsm2pbl6cu'\n",
    "wrffile_name = f'wrfout_processed_d01_{datestr}_{paramstr}.nc'\n",
    "wrffile_name_orig = f'wrfout_d01_{datestr}_{paramstr}.nc'\n",
    "\n",
    "# Find the absolute file path to your optwrf package\n",
    "optwrf_abspath = os.path.dirname(os.path.abspath(inspect.getfile(optwrf)))\n",
    "optwrf_abspath\n",
    "\n",
    "# Specify the path to the processed wrfout file\n",
    "wrfdir = os.path.join(optwrf_abspath, 'data/optwrf_sim/')\n",
    "wrffile = os.path.join(wrfdir, wrffile_name)\n",
    "wrfdata = xr.open_dataset(wrffile)\n",
    "if verbose:\n",
    "    print(f'Processeed WRF DATA:\\n{wrfdata}\\n')\n",
    "    \n",
    "# Open the processed ERA5 data\n",
    "eradir = os.path.join(optwrf_abspath, 'data/')\n",
    "erafile = os.path.join(eradir, 'ERA5_EastUS_WPD-GHI_2011-12.nc')\n",
    "eradata = xr.open_dataset(erafile)\n",
    "if verbose:\n",
    "    print(f'ERA5 DATA:\\n{eradata}')"
   ]
  },
  {
   "cell_type": "code",
   "execution_count": null,
   "metadata": {},
   "outputs": [],
   "source": [
    "# Get the map projection information for plotting\n",
    "wrf_cartopy_proj = plots.get_wrf_proj(wrfdata, 'ghi')"
   ]
  },
  {
   "cell_type": "code",
   "execution_count": null,
   "metadata": {},
   "outputs": [],
   "source": [
    "wrfdata"
   ]
  },
  {
   "cell_type": "code",
   "execution_count": null,
   "metadata": {},
   "outputs": [],
   "source": [
    "# Idnetify the points for your bounding box\n",
    "lltoxy = postwrf.Kdtree_ll_to_xy(wrfdata,'lat','lon')\n",
    "lower_lat_idx,lower_lon_idx = lltoxy.query(41.706178, -81.865276)  # Near Cleavland\n",
    "upper_lat_idx,upper_lon_idx = lltoxy.query(44.700326, -69.296917)  # Sorta near Bangor\n",
    "\n",
    "print(f'Latitude Indicies: {lower_lat_idx}:{upper_lat_idx}')\n",
    "print(f'Longitude Indicies: {lower_lon_idx}:{upper_lon_idx}')"
   ]
  },
  {
   "cell_type": "code",
   "execution_count": null,
   "metadata": {},
   "outputs": [],
   "source": [
    "# Slice the data (in this case DNI) to this bounding box, and do a quick visualization\n",
    "wrfdata_subset = wrfdata.isel(south_north=slice(lower_lat_idx, upper_lat_idx), \n",
    "                               west_east=slice(lower_lon_idx, upper_lon_idx))\n",
    "\n",
    "# Decide which time you would like to plot\n",
    "time_string_f = wrfdata_subset.Time[14].dt.strftime('%b %d, %Y %H:%M')\n",
    "wrfdata_subset.ghi.sel(Time=time_string_f).plot()"
   ]
  },
  {
   "cell_type": "code",
   "execution_count": null,
   "metadata": {},
   "outputs": [],
   "source": [
    "# Transform the lat, lon bounds to your map projection\n",
    "proj_bounds = plots.get_domain_boundary(wrfdata_subset, wrf_cartopy_proj)"
   ]
  },
  {
   "cell_type": "code",
   "execution_count": null,
   "metadata": {},
   "outputs": [],
   "source": [
    "# # Create a figure\n",
    "# fig = plt.figure(figsize=(12, 6))\n",
    "\n",
    "# # Set the GeoAxes to the projection used by WRF\n",
    "# ax = fig.add_subplot(1, 1, 1, projection=wrf_cartopy_proj)\n",
    "\n",
    "# # Make the countour lines for filled contours for the GHI\n",
    "# contour_levels = np.linspace(0, np.amax(to_np(wrfdata_subset.ghi)), 22)\n",
    "\n",
    "# # Add the filled contour levels -- make sure that you put the longitude variable BEFORE the latitude variable!!!\n",
    "# color_map = get_cmap(\"hot_r\")\n",
    "# cn = ax.contourf(to_np(wrfdata_subset.lon), to_np(wrfdata_subset.lat), to_np(wrfdata_subset.ghi.sel(Time=time_string_f)),\n",
    "#                  contour_levels, transform=ccrs.PlateCarree(), cmap=color_map)\n",
    "\n",
    "# # Format the plot\n",
    "# title = f'GHI Over New York   {time_string_f.values} (UTC)'\n",
    "# plots.format_cnplot_axis(ax, cn, proj_bounds, title_str=title)\n",
    "\n",
    "# plt.show()"
   ]
  },
  {
   "cell_type": "code",
   "execution_count": null,
   "metadata": {
    "scrolled": false
   },
   "outputs": [],
   "source": [
    "# Okay, but now we can just use the functions that I already created...\n",
    "plots.wrf_era5_plot('ghi', wrfdata_subset, eradata, datestr, src='wrf', hourly=True, save_fig=False,\n",
    "                    wrf_dir=wrfdir, era_dir=eradir, short_title_str='OptWRF GHI')"
   ]
  },
  {
   "cell_type": "code",
   "execution_count": null,
   "metadata": {},
   "outputs": [],
   "source": [
    "plots.compare_wrf_era5_plot('ghi', wrfdata_subset, eradata, hourly=False, save_fig=False)"
   ]
  },
  {
   "cell_type": "code",
   "execution_count": null,
   "metadata": {},
   "outputs": [],
   "source": [
    "# plots.wrf_errorandfitness_plot(wrfdata_subset, save_fig=False, wrf_dir=wrfdir, era_dir=eradir,\n",
    "#                              fig_path='./', verbose=False, fitness_short_title='WRF CONUS Model Fitness',\n",
    "#                              ghi_error_short_title='WRF CONUS GHI Error\\n(kWh m-2 day-1)',\n",
    "#                              wpd_error_short_title='WRF CONUS WPD Error\\n(kWh m-2 day-1)')"
   ]
  }
 ],
 "metadata": {
  "kernelspec": {
   "display_name": "Python 3",
   "language": "python",
   "name": "python3"
  },
  "language_info": {
   "codemirror_mode": {
    "name": "ipython",
    "version": 3
   },
   "file_extension": ".py",
   "mimetype": "text/x-python",
   "name": "python",
   "nbconvert_exporter": "python",
   "pygments_lexer": "ipython3",
   "version": "3.7.8"
  }
 },
 "nbformat": 4,
 "nbformat_minor": 4
}
