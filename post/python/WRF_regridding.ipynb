{
 "cells": [
  {
   "cell_type": "code",
   "execution_count": 19,
   "metadata": {},
   "outputs": [],
   "source": [
    "# plotting stuff\n",
    "%matplotlib inline\n",
    "import matplotlib.pyplot as plt\n",
    "from matplotlib.cm import get_cmap\n",
    "import cartopy.feature as cfeature\n",
    "import cartopy.io.shapereader as shpreader\n",
    "import cartopy.crs as crs\n",
    "\n",
    "# built in python modules\n",
    "import datetime\n",
    "import os\n",
    "import inspect\n",
    "import sys\n",
    "\n",
    "# python add-ons\n",
    "import numpy as np\n",
    "import pandas as pd\n",
    "import xarray as xr\n",
    "import netCDF4\n",
    "from wrf import (to_np, getvar, ALL_TIMES, smooth2d, get_cartopy, cartopy_xlim,\n",
    "                 cartopy_ylim, latlon_coords)\n",
    "import geocat.comp\n",
    "import optwrf as ow\n",
    "from optwrf import runwrf as rw"
   ]
  },
  {
   "cell_type": "code",
   "execution_count": 6,
   "metadata": {},
   "outputs": [
    {
     "name": "stdout",
     "output_type": "stream",
     "text": [
      "/Users/swardy9230/Box Sync/01_Research/01_Renewable_Analysis/WRF_Solar_and_Wind/met4ene/optwrf/optwrf\n"
     ]
    }
   ],
   "source": [
    "# Find the path to optwrf\n",
    "optwrf_path = os.path.dirname(os.path.abspath(inspect.getfile(ow)))"
   ]
  },
  {
   "cell_type": "code",
   "execution_count": 13,
   "metadata": {},
   "outputs": [
    {
     "name": "stdout",
     "output_type": "stream",
     "text": [
      "The wrfout file /Users/swardy9230/Box Sync/01_Research/01_Renewable_Analysis/WRF_Solar_and_Wind/met4ene/optwrf/optwrf/data/wrfout_processed_d01.nc does not exist. Check that your path.\n"
     ]
    }
   ],
   "source": [
    "in_yr = 2011\n",
    "in_mo = 2\n",
    "wrfdir = os.path.join(optwrf_path, 'data/')\n",
    "eradir = os.path.join(optwrf_path, 'data/')"
   ]
  },
  {
   "cell_type": "code",
   "execution_count": 20,
   "metadata": {},
   "outputs": [],
   "source": [
    "def wrf_era5_regrid(in_yr, in_mo, wrfdir='./', eradir='/share/mzhang/jas983/wrf_data/data/ERA5/'):\n",
    "    \"\"\"\n",
    "\n",
    "    :param in_yr:\n",
    "    :param in_mo:\n",
    "    :param wrfdir:\n",
    "    :param eradir:\n",
    "    :return:\n",
    "\n",
    "    \"\"\"\n",
    "    # WRF file containing source grid\n",
    "    wrffile = 'wrfout_processed_d01.nc'\n",
    "    try:\n",
    "        wrfdata = xr.open_dataset(wrfdir + wrffile)\n",
    "    except FileNotFoundError:\n",
    "        print(f'The wrfout file {wrfdir + wrffile} does not exist. Check that your path.')\n",
    "        wrfdata = None\n",
    "        eradata = None\n",
    "        return wrfdata, eradata\n",
    "\n",
    "    # Get wrf variable(s) to regrid\n",
    "    wrf_lat = wrfdata.XLAT\n",
    "    wrf_lon = wrfdata.XLONG\n",
    "\n",
    "    # Read in and convert GHI from W m-2 to kW m-2\n",
    "    ghi = wrfdata.ghi\n",
    "    ghi = ghi/1000\n",
    "\n",
    "    # Read in WPD, convert from W m-2 to kW m-2\n",
    "    wpd = wrfdata.wpd\n",
    "    wpd = wpd/1000\n",
    "\n",
    "    # ERA data file(s)\n",
    "    erafile = f'ERA5_EastUS_WPD-GHI_{str(in_yr).zfill(4)}-{str(in_mo).zfill(2)}.nc'\n",
    "    try:\n",
    "        eradata = xr.open_dataset(eradir + erafile)\n",
    "    except FileNotFoundError:\n",
    "        print(f'The wrfout file {eradir + erafile} does not exist. Check that your path.')\n",
    "        eradata = None\n",
    "        return wrfdata, eradata\n",
    "\n",
    "    # Get variables to compare with regridded WRF variables.\n",
    "    era_lat = eradata.latitude\n",
    "    era_lon = eradata.longitude\n",
    "\n",
    "    # Read in ERA_GHI, convert from W m-2 to kW m-2\n",
    "    era_ghi = eradata.GHI\n",
    "    era_ghi = era_ghi / 1000\n",
    "\n",
    "    # Read in ERA_WPD, convert from W m-2 to kW m-2\n",
    "    era_wpd = eradata.WPD\n",
    "    era_wpd = era_wpd / 1000\n",
    "\n",
    "    # Write these back to the xarray dataset\n",
    "    eradata['ghi'] = era_ghi\n",
    "    eradata['wpd'] = era_wpd\n",
    "\n",
    "    # Do the regridding\n",
    "    wrf_ghi_regrid = geocat.comp.rcm2rgrid(wrf_lat, wrf_lon, ghi, era_lat, era_lon)\n",
    "    wrf_wpd_regrid = geocat.comp.rcm2rgrid(wrf_lat, wrf_lon, wpd, era_lat, era_lon)\n",
    "\n",
    "    # Add the regridded variables to the WRF xarray dataset\n",
    "    wrfdata['ghi_regrid'] = wrf_ghi_regrid\n",
    "    wrfdata['wpd_regrid'] = wrf_wpd_regrid\n",
    "\n",
    "    return wrfdata, eradata\n"
   ]
  },
  {
   "cell_type": "code",
   "execution_count": 21,
   "metadata": {},
   "outputs": [
    {
     "ename": "AttributeError",
     "evalue": "module 'geocat.comp' has no attribute 'rcm2rgrid'",
     "output_type": "error",
     "traceback": [
      "\u001b[0;31m---------------------------------------------------------------------------\u001b[0m",
      "\u001b[0;31mAttributeError\u001b[0m                            Traceback (most recent call last)",
      "\u001b[0;32m<ipython-input-21-baff00f280c3>\u001b[0m in \u001b[0;36m<module>\u001b[0;34m\u001b[0m\n\u001b[0;32m----> 1\u001b[0;31m \u001b[0mwrfdata\u001b[0m\u001b[0;34m,\u001b[0m \u001b[0meradata\u001b[0m \u001b[0;34m=\u001b[0m \u001b[0mwrf_era5_regrid\u001b[0m\u001b[0;34m(\u001b[0m\u001b[0min_yr\u001b[0m\u001b[0;34m,\u001b[0m \u001b[0min_mo\u001b[0m\u001b[0;34m,\u001b[0m \u001b[0mwrfdir\u001b[0m\u001b[0;34m,\u001b[0m \u001b[0meradir\u001b[0m\u001b[0;34m)\u001b[0m\u001b[0;34m\u001b[0m\u001b[0;34m\u001b[0m\u001b[0m\n\u001b[0m",
      "\u001b[0;32m<ipython-input-20-ab597dc1c481>\u001b[0m in \u001b[0;36mwrf_era5_regrid\u001b[0;34m(in_yr, in_mo, wrfdir, eradir)\u001b[0m\n\u001b[1;32m     57\u001b[0m \u001b[0;34m\u001b[0m\u001b[0m\n\u001b[1;32m     58\u001b[0m     \u001b[0;31m# Do the regridding\u001b[0m\u001b[0;34m\u001b[0m\u001b[0;34m\u001b[0m\u001b[0;34m\u001b[0m\u001b[0m\n\u001b[0;32m---> 59\u001b[0;31m     \u001b[0mwrf_ghi_regrid\u001b[0m \u001b[0;34m=\u001b[0m \u001b[0mgeocat\u001b[0m\u001b[0;34m.\u001b[0m\u001b[0mcomp\u001b[0m\u001b[0;34m.\u001b[0m\u001b[0mrcm2rgrid\u001b[0m\u001b[0;34m(\u001b[0m\u001b[0mwrf_lat\u001b[0m\u001b[0;34m,\u001b[0m \u001b[0mwrf_lon\u001b[0m\u001b[0;34m,\u001b[0m \u001b[0mghi\u001b[0m\u001b[0;34m,\u001b[0m \u001b[0mera_lat\u001b[0m\u001b[0;34m,\u001b[0m \u001b[0mera_lon\u001b[0m\u001b[0;34m)\u001b[0m\u001b[0;34m\u001b[0m\u001b[0;34m\u001b[0m\u001b[0m\n\u001b[0m\u001b[1;32m     60\u001b[0m     \u001b[0mwrf_wpd_regrid\u001b[0m \u001b[0;34m=\u001b[0m \u001b[0mgeocat\u001b[0m\u001b[0;34m.\u001b[0m\u001b[0mcomp\u001b[0m\u001b[0;34m.\u001b[0m\u001b[0mrcm2rgrid\u001b[0m\u001b[0;34m(\u001b[0m\u001b[0mwrf_lat\u001b[0m\u001b[0;34m,\u001b[0m \u001b[0mwrf_lon\u001b[0m\u001b[0;34m,\u001b[0m \u001b[0mwpd\u001b[0m\u001b[0;34m,\u001b[0m \u001b[0mera_lat\u001b[0m\u001b[0;34m,\u001b[0m \u001b[0mera_lon\u001b[0m\u001b[0;34m)\u001b[0m\u001b[0;34m\u001b[0m\u001b[0;34m\u001b[0m\u001b[0m\n\u001b[1;32m     61\u001b[0m \u001b[0;34m\u001b[0m\u001b[0m\n",
      "\u001b[0;31mAttributeError\u001b[0m: module 'geocat.comp' has no attribute 'rcm2rgrid'"
     ]
    }
   ],
   "source": [
    "wrfdata, eradata = wrf_era5_regrid(in_yr, in_mo, wrfdir, eradir)"
   ]
  },
  {
   "cell_type": "code",
   "execution_count": null,
   "metadata": {},
   "outputs": [],
   "source": []
  },
  {
   "cell_type": "code",
   "execution_count": 11,
   "metadata": {},
   "outputs": [
    {
     "name": "stdout",
     "output_type": "stream",
     "text": [
      "None\n"
     ]
    }
   ],
   "source": []
  },
  {
   "cell_type": "code",
   "execution_count": 12,
   "metadata": {},
   "outputs": [
    {
     "name": "stdout",
     "output_type": "stream",
     "text": [
      "None\n"
     ]
    }
   ],
   "source": [
    "print(eradata)"
   ]
  },
  {
   "cell_type": "code",
   "execution_count": null,
   "metadata": {},
   "outputs": [],
   "source": []
  }
 ],
 "metadata": {
  "kernelspec": {
   "display_name": "Python 3",
   "language": "python",
   "name": "python3"
  },
  "language_info": {
   "codemirror_mode": {
    "name": "ipython",
    "version": 3
   },
   "file_extension": ".py",
   "mimetype": "text/x-python",
   "name": "python",
   "nbconvert_exporter": "python",
   "pygments_lexer": "ipython3",
   "version": "3.7.6"
  }
 },
 "nbformat": 4,
 "nbformat_minor": 4
}
