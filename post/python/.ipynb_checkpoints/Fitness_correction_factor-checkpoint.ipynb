{
 "cells": [
  {
   "cell_type": "markdown",
   "metadata": {},
   "source": [
    "# Fitness Function Correction Factor"
   ]
  },
  {
   "cell_type": "markdown",
   "metadata": {},
   "source": [
    "This notebook walks throught the calculation of the fitness function correction factor. To get this value, I find the population mean in GHI and wind power density using WRF simulations data from the year 2011. These simulations were run in 1-month intervals, so there is a sample mean for each month. \n",
    "\n",
    "Last updated by Jeff Sward 02/19/2020"
   ]
  },
  {
   "cell_type": "code",
   "execution_count": 29,
   "metadata": {},
   "outputs": [],
   "source": [
    "from optwrf.runwrf import WRFModel\n",
    "import random\n",
    "import statistics"
   ]
  },
  {
   "cell_type": "code",
   "execution_count": 30,
   "metadata": {},
   "outputs": [],
   "source": [
    "param_ids = [10, 1, 1, 2, 2, 3, 2]\n",
    "start_dates = ['Jan 1 2011', 'Feb 1 2011', 'Mar 1 2011', 'Apr 1 2011', 'May 1 2011', 'Jun 1 2011', 'Jul 1 2011', 'Aug 1 2011', 'Sep 1 2011', 'Oct 1 2011', 'Nov 1 2011', 'Dec 1 2011']\n",
    "end_dates = ['Feb 1 2011', 'Mar 1 2011', 'Apr 1 2011', 'May 1 2011', 'Jun 1 2011', 'Jul 1 2011', 'Aug 1 2011', 'Sep 1 2011', 'Oct 1 2011', 'Nov 1 2011', 'Dec 1 2011', 'Jan 1 2012']"
   ]
  },
  {
   "cell_type": "code",
   "execution_count": 31,
   "metadata": {
    "scrolled": true
   },
   "outputs": [],
   "source": [
    "# # Postprocess all the wrfout files\n",
    "# for start_date, end_date in zip(start_dates, end_dates):    \n",
    "#     wrf_sim = WRFModel(param_ids, start_date, end_date)\n",
    "#     processed_wrfout_file = wrf_sim.DIR_WRFOUT + 'wrfout_processed_d01.nc'\n",
    "#     if not os.path.exists(processed_wrfout_file):\n",
    "#         wrfout_file = wrf_sim.DIR_WRFOUT + 'wrfout_d01.nc'\n",
    "#         if not os.path.exists(wrfout_file):\n",
    "#             print(f'\\nYour have an incorrect wrfout file path:\\n{wrfout_file}.')\n",
    "#             raise FileNotFoundError\n",
    "#         wrf_sim.process_wrfout_data()"
   ]
  },
  {
   "cell_type": "code",
   "execution_count": 32,
   "metadata": {},
   "outputs": [],
   "source": [
    "# # Process all the ERA5 data\n",
    "# for start_date, end_date in zip(start_dates, end_dates):    \n",
    "#     wrf_sim = WRFModel(param_ids, start_date, end_date)\n",
    "#     ERA5_ROOT = '/share/mzhang/jas983/wrf_data/data/ERA5/'\n",
    "#     processed_era_file = ERA5_ROOT + 'ERA5_EastUS_WPD-GHI_' \\\n",
    "#                              + wrf_sim.forecast_start.strftime('%Y') + '-' \\\n",
    "#                              + wrf_sim.forecast_start.strftime('%m') + '.nc'\n",
    "#     if not os.path.exists(processed_era_file):\n",
    "#         wrf_sim.process_era5_data()"
   ]
  },
  {
   "cell_type": "code",
   "execution_count": 33,
   "metadata": {},
   "outputs": [
    {
     "name": "stdout",
     "output_type": "stream",
     "text": [
      "[105, 103, 108, 107, 101, 104, 106, 101, 103, 100, 105, 109]\n",
      "[1003, 1019, 1084, 1073, 1038, 1083, 1013, 1000, 1020, 1020, 1072, 1072]\n"
     ]
    }
   ],
   "source": [
    "# Calculate the monthly MAE\n",
    "mean_ghi = []\n",
    "mean_wpd = []\n",
    "for start_date, end_date in zip(start_dates, end_dates):    \n",
    "#     wrf_sim = WRFModel(param_ids, start_date, end_date)\n",
    "#     mae = wrf_sim.wrf_era5_diff()\n",
    "#     mean_ghi.append(mae[0])\n",
    "#     mean_wpd.append(mae[1])\n",
    "    mean_ghi.append(random.randrange(100, 110))\n",
    "    mean_wpd.append(random.randrange(1000, 1100))\n",
    "print(mean_ghi)\n",
    "print(mean_wpd)"
   ]
  },
  {
   "cell_type": "code",
   "execution_count": 34,
   "metadata": {},
   "outputs": [
    {
     "name": "stdout",
     "output_type": "stream",
     "text": [
      "Forecast starting on: 2011-01-01 00:00:00\n",
      "Forecast ending on: 2011-02-01 00:00:00\n",
      "Month 1 has 31 days and 744 hours.\n",
      "The GHI is 105, and the WPD is 1003\n",
      "\n",
      "Forecast starting on: 2011-02-01 00:00:00\n",
      "Forecast ending on: 2011-03-01 00:00:00\n",
      "Month 2 has 28 days and 672 hours.\n",
      "The GHI is 103, and the WPD is 1019\n",
      "\n",
      "Forecast starting on: 2011-03-01 00:00:00\n",
      "Forecast ending on: 2011-04-01 00:00:00\n",
      "Month 3 has 31 days and 744 hours.\n",
      "The GHI is 108, and the WPD is 1084\n",
      "\n",
      "Forecast starting on: 2011-04-01 00:00:00\n",
      "Forecast ending on: 2011-05-01 00:00:00\n",
      "Month 4 has 30 days and 720 hours.\n",
      "The GHI is 107, and the WPD is 1073\n",
      "\n",
      "Forecast starting on: 2011-05-01 00:00:00\n",
      "Forecast ending on: 2011-06-01 00:00:00\n",
      "Month 5 has 31 days and 744 hours.\n",
      "The GHI is 101, and the WPD is 1038\n",
      "\n",
      "Forecast starting on: 2011-06-01 00:00:00\n",
      "Forecast ending on: 2011-07-01 00:00:00\n",
      "Month 6 has 30 days and 720 hours.\n",
      "The GHI is 104, and the WPD is 1083\n",
      "\n",
      "Forecast starting on: 2011-07-01 00:00:00\n",
      "Forecast ending on: 2011-08-01 00:00:00\n",
      "Month 7 has 31 days and 744 hours.\n",
      "The GHI is 106, and the WPD is 1013\n",
      "\n",
      "Forecast starting on: 2011-08-01 00:00:00\n",
      "Forecast ending on: 2011-09-01 00:00:00\n",
      "Month 8 has 31 days and 744 hours.\n",
      "The GHI is 101, and the WPD is 1000\n",
      "\n",
      "Forecast starting on: 2011-09-01 00:00:00\n",
      "Forecast ending on: 2011-10-01 00:00:00\n",
      "Month 9 has 30 days and 720 hours.\n",
      "The GHI is 103, and the WPD is 1020\n",
      "\n",
      "Forecast starting on: 2011-10-01 00:00:00\n",
      "Forecast ending on: 2011-11-01 00:00:00\n",
      "Month 10 has 31 days and 744 hours.\n",
      "The GHI is 100, and the WPD is 1020\n",
      "\n",
      "Forecast starting on: 2011-11-01 00:00:00\n",
      "Forecast ending on: 2011-12-01 00:00:00\n",
      "Month 11 has 30 days and 720 hours.\n",
      "The GHI is 105, and the WPD is 1072\n",
      "\n",
      "Forecast starting on: 2011-12-01 00:00:00\n",
      "Forecast ending on: 2012-01-01 00:00:00\n",
      "Month 12 has 31 days and 744 hours.\n",
      "The GHI is 109, and the WPD is 1072\n",
      "\n",
      "The annual GHI mean is: 104.33972602739726 kW m-2\n",
      "The annual WPD mean is: 1041.3753424657534 kW m-2\n"
     ]
    }
   ],
   "source": [
    "# Calculate the population mean MAE\n",
    "pmean_ghi = 0\n",
    "pmean_wpd = 0\n",
    "for start_date, end_date, ghi, wpd in zip(start_dates, end_dates, mean_ghi, mean_wpd):\n",
    "    wrf_sim = WRFModel(param_ids, start_date, end_date)\n",
    "    n_days = (wrf_sim.forecast_end - wrf_sim.forecast_start).days\n",
    "    n_hours = 24 * n_days\n",
    "    print(f'Month {wrf_sim.forecast_start.month} has {n_days} days and {n_hours} hours.')\n",
    "    print(f'The GHI is {ghi}, and the WPD is {wpd}\\n')\n",
    "    pmean_ghi = pmean_ghi + n_hours / 8760 * ghi\n",
    "    pmean_wpd = pmean_wpd + n_hours / 8760 * wpd\n",
    "print(f'The annual GHI mean is: {pmean_ghi} kW m-2')\n",
    "print(f'The annual WPD mean is: {pmean_wpd} kW m-2')"
   ]
  },
  {
   "cell_type": "code",
   "execution_count": 35,
   "metadata": {},
   "outputs": [
    {
     "name": "stdout",
     "output_type": "stream",
     "text": [
      "104.33333333333333\n",
      "1041.4166666666667\n"
     ]
    }
   ],
   "source": [
    "print(statistics.mean(mean_ghi))\n",
    "print(statistics.mean(mean_wpd))"
   ]
  },
  {
   "cell_type": "code",
   "execution_count": 15,
   "metadata": {},
   "outputs": [
    {
     "name": "stdout",
     "output_type": "stream",
     "text": [
      "The fitness function correction factor is 0.09974970436479529.\n"
     ]
    }
   ],
   "source": [
    "# Calculate the correction factor\n",
    "alpha = pmean_ghi / pmean_wpd\n",
    "print(f'The fitness function correction factor is {alpha}.')"
   ]
  }
 ],
 "metadata": {
  "kernelspec": {
   "display_name": "Python 3",
   "language": "python",
   "name": "python3"
  },
  "language_info": {
   "codemirror_mode": {
    "name": "ipython",
    "version": 3
   },
   "file_extension": ".py",
   "mimetype": "text/x-python",
   "name": "python",
   "nbconvert_exporter": "python",
   "pygments_lexer": "ipython3",
   "version": "3.7.8"
  }
 },
 "nbformat": 4,
 "nbformat_minor": 4
}
