{
 "cells": [
  {
   "cell_type": "markdown",
   "metadata": {},
   "source": [
    "## Process ERA5 file Tutorial\n",
    "\n",
    "This tutorial will walk through processing forecast data from ERA5 using xarray.\n",
    "\n",
    "Authors:\n",
    "* Jeffrey Sward (jas983@cornell.edu), Cornell University, January 2020"
   ]
  },
  {
   "cell_type": "code",
   "execution_count": 1,
   "metadata": {},
   "outputs": [
    {
     "name": "stderr",
     "output_type": "stream",
     "text": [
      "/home/jsward/Documents/01_Research/01_Renewable_Analysis/WRF/pvlib-python/pvlib/wrfcast.py:20: UserWarning: The forecast module algorithms and features are highly experimental. The API may change, the functionality may be consolidated into an io module, or the module may be separated into its own package.\n",
      "  'The forecast module algorithms and features are highly experimental. '\n"
     ]
    }
   ],
   "source": [
    "# built in python modules\n",
    "import datetime\n",
    "import os\n",
    "import inspect\n",
    "import sys\n",
    "\n",
    "# python add-ons\n",
    "import numpy as np\n",
    "import pandas as pd\n",
    "import xarray as xr\n",
    "import netCDF4\n",
    "import wrf\n",
    "\n",
    "# Import the pvlib module\n",
    "if sys.platform == 'linux':\n",
    "    sys.path.append('/home/jsward/Documents/01_Research/01_Renewable_Analysis/WRF/pvlib-python')\n",
    "import pvlib\n",
    "from pvlib.wrfcast import WRF\n",
    "\n",
    "# Import the optwrf module\n",
    "import optwrf"
   ]
  },
  {
   "cell_type": "code",
   "execution_count": 2,
   "metadata": {},
   "outputs": [],
   "source": [
    "# Find the absolute file path to your pvlib installation\n",
    "optwrf_abspath = os.path.dirname(os.path.abspath(inspect.getfile(optwrf)))\n",
    "\n",
    "# absolute path to ERA data file\n",
    "era_file1 = os.path.join(optwrf_abspath, 'data', 'EastUS_e5.oper.an.sfc.228_246_100u.ll025sc.2011010100_2011013123.nc')\n",
    "era_file2 = os.path.join(optwrf_abspath, 'data', 'EastUS_e5.oper.an.sfc.228_247_100v.ll025sc.2011010100_2011013123.nc')\n",
    "\n",
    "# Read in the ERA file using the xarray open_dataset method\n",
    "era_data1 = xr.open_dataset(era_file1)\n",
    "era_data2 = xr.open_dataset(era_file2)"
   ]
  },
  {
   "cell_type": "code",
   "execution_count": 3,
   "metadata": {
    "scrolled": true
   },
   "outputs": [
    {
     "data": {
      "text/html": [
       "<pre>&lt;xarray.Dataset&gt;\n",
       "Dimensions:    (latitude: 81, longitude: 121, time: 744)\n",
       "Coordinates:\n",
       "  * latitude   (latitude) float64 50.0 49.75 49.5 49.25 ... 30.5 30.25 30.0\n",
       "  * longitude  (longitude) float64 265.0 265.2 265.5 265.8 ... 294.5 294.8 295.0\n",
       "  * time       (time) datetime64[ns] 2011-01-01 ... 2011-01-31T23:00:00\n",
       "Data variables:\n",
       "    VAR_100U   (time, latitude, longitude) float32 ...\n",
       "    utc_date   (time) int32 2011010100 2011010101 ... 2011013122 2011013123\n",
       "    VAR_100V   (time, latitude, longitude) float32 ...</pre>"
      ],
      "text/plain": [
       "<xarray.Dataset>\n",
       "Dimensions:    (latitude: 81, longitude: 121, time: 744)\n",
       "Coordinates:\n",
       "  * latitude   (latitude) float64 50.0 49.75 49.5 49.25 ... 30.5 30.25 30.0\n",
       "  * longitude  (longitude) float64 265.0 265.2 265.5 265.8 ... 294.5 294.8 295.0\n",
       "  * time       (time) datetime64[ns] 2011-01-01 ... 2011-01-31T23:00:00\n",
       "Data variables:\n",
       "    VAR_100U   (time, latitude, longitude) float32 ...\n",
       "    utc_date   (time) int32 2011010100 2011010101 ... 2011013122 2011013123\n",
       "    VAR_100V   (time, latitude, longitude) float32 ..."
      ]
     },
     "execution_count": 3,
     "metadata": {},
     "output_type": "execute_result"
    }
   ],
   "source": [
    "era_data = xr.merge([era_data1, era_data2])\n",
    "era_data"
   ]
  },
  {
   "cell_type": "code",
   "execution_count": 4,
   "metadata": {},
   "outputs": [
    {
     "data": {
      "text/html": [
       "<pre>&lt;xarray.Dataset&gt;\n",
       "Dimensions:    (latitude: 81, longitude: 121, time: 744)\n",
       "Coordinates:\n",
       "  * latitude   (latitude) float64 50.0 49.75 49.5 49.25 ... 30.5 30.25 30.0\n",
       "  * longitude  (longitude) float64 265.0 265.2 265.5 265.8 ... 294.5 294.8 295.0\n",
       "  * time       (time) datetime64[ns] 2011-01-01 ... 2011-01-31T23:00:00\n",
       "Data variables:\n",
       "    VAR_100U   (time, latitude, longitude) float32 -5.118103 ... -3.841217\n",
       "    utc_date   (time) int32 2011010100 2011010101 ... 2011013122 2011013123\n",
       "    VAR_100V   (time, latitude, longitude) float32 -7.5160675 ... -1.6359863\n",
       "    wpd        (time, latitude, longitude) float32 375941.2 ... 36388.855</pre>"
      ],
      "text/plain": [
       "<xarray.Dataset>\n",
       "Dimensions:    (latitude: 81, longitude: 121, time: 744)\n",
       "Coordinates:\n",
       "  * latitude   (latitude) float64 50.0 49.75 49.5 49.25 ... 30.5 30.25 30.0\n",
       "  * longitude  (longitude) float64 265.0 265.2 265.5 265.8 ... 294.5 294.8 295.0\n",
       "  * time       (time) datetime64[ns] 2011-01-01 ... 2011-01-31T23:00:00\n",
       "Data variables:\n",
       "    VAR_100U   (time, latitude, longitude) float32 -5.118103 ... -3.841217\n",
       "    utc_date   (time) int32 2011010100 2011010101 ... 2011013122 2011013123\n",
       "    VAR_100V   (time, latitude, longitude) float32 -7.5160675 ... -1.6359863\n",
       "    wpd        (time, latitude, longitude) float32 375941.2 ... 36388.855"
      ]
     },
     "execution_count": 4,
     "metadata": {},
     "output_type": "execute_result"
    }
   ],
   "source": [
    "# Calculate the 100m wind speed\n",
    "wind_speed100 = np.sqrt(era_data['VAR_100U']**2 + era_data['VAR_100V']**2)\n",
    "\n",
    "# Calculate wind power density (W * m -2)\n",
    "air_density = 1000 \n",
    "wpd = 0.5 * air_density * (wind_speed100) ** 3\n",
    "era_data['wpd'] = wpd\n",
    "era_data"
   ]
  },
  {
   "cell_type": "code",
   "execution_count": 5,
   "metadata": {
    "scrolled": true
   },
   "outputs": [],
   "source": [
    "# # Download the ERA file containing surface solar radiation downward (ssrd)\n",
    "# filelist = ['e5.oper.fc.sfc.accumu/201101/e5.oper.fc.sfc.accumu.128_169_ssrd.ll025sc.2011010106_2011011606.nc']\n",
    "# dspath = 'http://rda.ucar.edu/data/ds633.0/'\n",
    "# runwrf.rda_download(filelist, dspath)"
   ]
  },
  {
   "cell_type": "code",
   "execution_count": 6,
   "metadata": {},
   "outputs": [],
   "source": [
    "# # Use NCO tools to extract the Northeast region (only works if NCO is installed)\n",
    "# CMD_REDUCE = 'ncks -d longitude,265.,295. -d latitude,30.,50. e5.oper.fc.sfc.accumu.128_169_ssrd.ll025sc.2011010106_2011011606.nc EastUS_e5.oper.fc.sfc.accumu.128_169_ssrd.ll025sc.2011010106_2011011606.nc'\n",
    "# os.system(CMD_REDUCE)"
   ]
  },
  {
   "cell_type": "code",
   "execution_count": 7,
   "metadata": {
    "scrolled": true
   },
   "outputs": [
    {
     "data": {
      "text/html": [
       "<pre>&lt;xarray.Dataset&gt;\n",
       "Dimensions:                (forecast_hour: 12, forecast_initial_time: 30, latitude: 81, longitude: 121)\n",
       "Coordinates:\n",
       "  * forecast_hour          (forecast_hour) int32 1 2 3 4 5 6 7 8 9 10 11 12\n",
       "  * forecast_initial_time  (forecast_initial_time) datetime64[ns] 2011-01-01T06:00:00 ... 2011-01-15T18:00:00\n",
       "  * latitude               (latitude) float64 50.0 49.75 49.5 ... 30.25 30.0\n",
       "  * longitude              (longitude) float64 265.0 265.2 265.5 ... 294.8 295.0\n",
       "Data variables:\n",
       "    SSRD                   (forecast_initial_time, forecast_hour, latitude, longitude) float32 ...\n",
       "    utc_date               (forecast_initial_time) int32 ...\n",
       "Attributes:\n",
       "    DATA_SOURCE:          ECMWF: https://cds.climate.copernicus.eu, Copernicu...\n",
       "    NETCDF_CONVERSION:    CISL RDA: Conversion from ECMWF GRIB1 data to netCDF4.\n",
       "    NETCDF_VERSION:       4.6.1\n",
       "    CONVERSION_PLATFORM:  Linux casper18 3.10.0-693.21.1.el7.x86_64 #1 SMP We...\n",
       "    CONVERSION_DATE:      Fri Aug 23 18:48:19 MDT 2019\n",
       "    Conventions:          CF-1.6\n",
       "    NETCDF_COMPRESSION:   NCO: Precision-preserving compression to netCDF4/HD...\n",
       "    history:              Mon Jan 20 10:52:54 2020: ncks -d longitude,265.,29...\n",
       "    NCO:                  4.7.2</pre>"
      ],
      "text/plain": [
       "<xarray.Dataset>\n",
       "Dimensions:                (forecast_hour: 12, forecast_initial_time: 30, latitude: 81, longitude: 121)\n",
       "Coordinates:\n",
       "  * forecast_hour          (forecast_hour) int32 1 2 3 4 5 6 7 8 9 10 11 12\n",
       "  * forecast_initial_time  (forecast_initial_time) datetime64[ns] 2011-01-01T06:00:00 ... 2011-01-15T18:00:00\n",
       "  * latitude               (latitude) float64 50.0 49.75 49.5 ... 30.25 30.0\n",
       "  * longitude              (longitude) float64 265.0 265.2 265.5 ... 294.8 295.0\n",
       "Data variables:\n",
       "    SSRD                   (forecast_initial_time, forecast_hour, latitude, longitude) float32 ...\n",
       "    utc_date               (forecast_initial_time) int32 ...\n",
       "Attributes:\n",
       "    DATA_SOURCE:          ECMWF: https://cds.climate.copernicus.eu, Copernicu...\n",
       "    NETCDF_CONVERSION:    CISL RDA: Conversion from ECMWF GRIB1 data to netCDF4.\n",
       "    NETCDF_VERSION:       4.6.1\n",
       "    CONVERSION_PLATFORM:  Linux casper18 3.10.0-693.21.1.el7.x86_64 #1 SMP We...\n",
       "    CONVERSION_DATE:      Fri Aug 23 18:48:19 MDT 2019\n",
       "    Conventions:          CF-1.6\n",
       "    NETCDF_COMPRESSION:   NCO: Precision-preserving compression to netCDF4/HD...\n",
       "    history:              Mon Jan 20 10:52:54 2020: ncks -d longitude,265.,29...\n",
       "    NCO:                  4.7.2"
      ]
     },
     "execution_count": 7,
     "metadata": {},
     "output_type": "execute_result"
    }
   ],
   "source": [
    "# Read in the ERA file using the xarray open_dataset method\n",
    "era_file3 = 'EastUS_e5.oper.fc.sfc.accumu.128_169_ssrd.ll025sc.2011010106_2011011606.nc'\n",
    "era_data3 = xr.open_dataset(era_file3)\n",
    "era_data3"
   ]
  },
  {
   "cell_type": "code",
   "execution_count": 71,
   "metadata": {},
   "outputs": [],
   "source": [
    "# Initialize a new dataset\n",
    "era_proc = era_data3.drop_dims(['forecast_initial_time', 'forecast_hour'])\n",
    "# era_proc"
   ]
  },
  {
   "cell_type": "code",
   "execution_count": 77,
   "metadata": {
    "scrolled": false
   },
   "outputs": [],
   "source": [
    "# Extract SSRD from a single forecast\n",
    "idx = 1\n",
    "timestr = era_data3.forecast_initial_time[idx]\n",
    "ssrd_slice = era_data3.sel(forecast_initial_time=timestr)\n",
    "# ssrd_slice"
   ]
  },
  {
   "cell_type": "code",
   "execution_count": 78,
   "metadata": {
    "scrolled": true
   },
   "outputs": [],
   "source": [
    "# Make the forecast_hour coordinate type=datetime64\n",
    "ssrd_slice = ssrd_slice.assign_coords(forecast_hour=pd.date_range(start=timestr.values, freq='H', \n",
    "                                            periods=(len(era_data3.forecast_hour))))\n",
    "# ssrd_slice"
   ]
  },
  {
   "cell_type": "code",
   "execution_count": 79,
   "metadata": {},
   "outputs": [],
   "source": [
    "# Rename the forecast_hour dimension\n",
    "ssrd_slice = ssrd_slice.rename({'forecast_hour' : 'time'})\n",
    "# ssrd_slice"
   ]
  },
  {
   "cell_type": "code",
   "execution_count": 80,
   "metadata": {},
   "outputs": [
    {
     "data": {
      "text/html": [
       "<pre>&lt;xarray.Dataset&gt;\n",
       "Dimensions:    (latitude: 81, longitude: 121, time: 12)\n",
       "Coordinates:\n",
       "  * time       (time) datetime64[ns] 2011-01-01T18:00:00 ... 2011-01-02T05:00:00\n",
       "  * latitude   (latitude) float64 50.0 49.75 49.5 49.25 ... 30.5 30.25 30.0\n",
       "  * longitude  (longitude) float64 265.0 265.2 265.5 265.8 ... 294.5 294.8 295.0\n",
       "Data variables:\n",
       "    SSRD       (time, latitude, longitude) float32 ...\n",
       "    utc_date   int32 ...\n",
       "Attributes:\n",
       "    DATA_SOURCE:          ECMWF: https://cds.climate.copernicus.eu, Copernicu...\n",
       "    NETCDF_CONVERSION:    CISL RDA: Conversion from ECMWF GRIB1 data to netCDF4.\n",
       "    NETCDF_VERSION:       4.6.1\n",
       "    CONVERSION_PLATFORM:  Linux casper18 3.10.0-693.21.1.el7.x86_64 #1 SMP We...\n",
       "    CONVERSION_DATE:      Fri Aug 23 18:48:19 MDT 2019\n",
       "    Conventions:          CF-1.6\n",
       "    NETCDF_COMPRESSION:   NCO: Precision-preserving compression to netCDF4/HD...\n",
       "    history:              Mon Jan 20 10:52:54 2020: ncks -d longitude,265.,29...\n",
       "    NCO:                  4.7.2</pre>"
      ],
      "text/plain": [
       "<xarray.Dataset>\n",
       "Dimensions:    (latitude: 81, longitude: 121, time: 12)\n",
       "Coordinates:\n",
       "  * time       (time) datetime64[ns] 2011-01-01T18:00:00 ... 2011-01-02T05:00:00\n",
       "  * latitude   (latitude) float64 50.0 49.75 49.5 49.25 ... 30.5 30.25 30.0\n",
       "  * longitude  (longitude) float64 265.0 265.2 265.5 265.8 ... 294.5 294.8 295.0\n",
       "Data variables:\n",
       "    SSRD       (time, latitude, longitude) float32 ...\n",
       "    utc_date   int32 ...\n",
       "Attributes:\n",
       "    DATA_SOURCE:          ECMWF: https://cds.climate.copernicus.eu, Copernicu...\n",
       "    NETCDF_CONVERSION:    CISL RDA: Conversion from ECMWF GRIB1 data to netCDF4.\n",
       "    NETCDF_VERSION:       4.6.1\n",
       "    CONVERSION_PLATFORM:  Linux casper18 3.10.0-693.21.1.el7.x86_64 #1 SMP We...\n",
       "    CONVERSION_DATE:      Fri Aug 23 18:48:19 MDT 2019\n",
       "    Conventions:          CF-1.6\n",
       "    NETCDF_COMPRESSION:   NCO: Precision-preserving compression to netCDF4/HD...\n",
       "    history:              Mon Jan 20 10:52:54 2020: ncks -d longitude,265.,29...\n",
       "    NCO:                  4.7.2"
      ]
     },
     "execution_count": 80,
     "metadata": {},
     "output_type": "execute_result"
    }
   ],
   "source": [
    "# Drop the forecast_initial_time coordinate\n",
    "ssrd_slice = ssrd_slice.reset_coords('forecast_initial_time', drop=True)\n",
    "ssrd_slice"
   ]
  },
  {
   "cell_type": "code",
   "execution_count": 85,
   "metadata": {},
   "outputs": [
    {
     "data": {
      "text/html": [
       "<pre>&lt;xarray.Dataset&gt;\n",
       "Dimensions:    (latitude: 81, longitude: 121, time: 12)\n",
       "Coordinates:\n",
       "  * time       (time) datetime64[ns] 2011-01-01T06:00:00 ... 2011-01-01T17:00:00\n",
       "  * latitude   (latitude) float64 50.0 49.75 49.5 49.25 ... 30.5 30.25 30.0\n",
       "  * longitude  (longitude) float64 265.0 265.2 265.5 265.8 ... 294.5 294.8 295.0\n",
       "Data variables:\n",
       "    SSRD       (time, latitude, longitude) float32 0.0 0.0 ... 1048320.0\n",
       "Attributes:\n",
       "    DATA_SOURCE:          ECMWF: https://cds.climate.copernicus.eu, Copernicu...\n",
       "    NETCDF_CONVERSION:    CISL RDA: Conversion from ECMWF GRIB1 data to netCDF4.\n",
       "    NETCDF_VERSION:       4.6.1\n",
       "    CONVERSION_PLATFORM:  Linux casper18 3.10.0-693.21.1.el7.x86_64 #1 SMP We...\n",
       "    CONVERSION_DATE:      Fri Aug 23 18:48:19 MDT 2019\n",
       "    Conventions:          CF-1.6\n",
       "    NETCDF_COMPRESSION:   NCO: Precision-preserving compression to netCDF4/HD...\n",
       "    history:              Mon Jan 20 10:52:54 2020: ncks -d longitude,265.,29...\n",
       "    NCO:                  4.7.2</pre>"
      ],
      "text/plain": [
       "<xarray.Dataset>\n",
       "Dimensions:    (latitude: 81, longitude: 121, time: 12)\n",
       "Coordinates:\n",
       "  * time       (time) datetime64[ns] 2011-01-01T06:00:00 ... 2011-01-01T17:00:00\n",
       "  * latitude   (latitude) float64 50.0 49.75 49.5 49.25 ... 30.5 30.25 30.0\n",
       "  * longitude  (longitude) float64 265.0 265.2 265.5 265.8 ... 294.5 294.8 295.0\n",
       "Data variables:\n",
       "    SSRD       (time, latitude, longitude) float32 0.0 0.0 ... 1048320.0\n",
       "Attributes:\n",
       "    DATA_SOURCE:          ECMWF: https://cds.climate.copernicus.eu, Copernicu...\n",
       "    NETCDF_CONVERSION:    CISL RDA: Conversion from ECMWF GRIB1 data to netCDF4.\n",
       "    NETCDF_VERSION:       4.6.1\n",
       "    CONVERSION_PLATFORM:  Linux casper18 3.10.0-693.21.1.el7.x86_64 #1 SMP We...\n",
       "    CONVERSION_DATE:      Fri Aug 23 18:48:19 MDT 2019\n",
       "    Conventions:          CF-1.6\n",
       "    NETCDF_COMPRESSION:   NCO: Precision-preserving compression to netCDF4/HD...\n",
       "    history:              Mon Jan 20 10:52:54 2020: ncks -d longitude,265.,29...\n",
       "    NCO:                  4.7.2"
      ]
     },
     "execution_count": 85,
     "metadata": {},
     "output_type": "execute_result"
    }
   ],
   "source": [
    "era_proc['SSRD'] = xr.concat([era_proc['SSRD'], ssrd_slice['SSRD']], dim='time')\n",
    "era_proc"
   ]
  },
  {
   "cell_type": "code",
   "execution_count": 81,
   "metadata": {},
   "outputs": [],
   "source": [
    "# Add the ssrd_slice back into the era_proc dataset\n",
    "if idx is 0:\n",
    "    era_proc['SSRD'] = ssrd_slice['SSRD']\n",
    "else:\n",
    "    era_proc = xr.concat([era_proc, ssrd_slice], dim='time')\n",
    "era_proc"
   ]
  },
  {
   "cell_type": "code",
   "execution_count": 38,
   "metadata": {},
   "outputs": [
    {
     "data": {
      "text/plain": [
       "<matplotlib.collections.QuadMesh at 0x7ff109812490>"
      ]
     },
     "execution_count": 38,
     "metadata": {},
     "output_type": "execute_result"
    },
    {
     "data": {
      "image/png": "[encoded data removed]",
      "text/plain": [
       "<Figure size 432x288 with 2 Axes>"
      ]
     },
     "metadata": {
      "needs_background": "light"
     },
     "output_type": "display_data"
    }
   ],
   "source": [
    "# Test visualization plot from initial dataset\n",
    "ssrd = era_data3.SSRD.sel(forecast_initial_time='2011-01-02 06:00:00',forecast_hour=12)\n",
    "ghi = ssrd/3600\n",
    "ghi.plot()"
   ]
  },
  {
   "cell_type": "code",
   "execution_count": 39,
   "metadata": {},
   "outputs": [
    {
     "data": {
      "text/plain": [
       "<matplotlib.collections.QuadMesh at 0x7ff10974a650>"
      ]
     },
     "execution_count": 39,
     "metadata": {},
     "output_type": "execute_result"
    },
    {
     "data": {
      "image/png": "[encoded data removed]",
      "text/plain": [
       "<Figure size 432x288 with 2 Axes>"
      ]
     },
     "metadata": {
      "needs_background": "light"
     },
     "output_type": "display_data"
    }
   ],
   "source": [
    "# Test visualization plot from processed dataset (should be the same as above)\n",
    "tidx = 17\n",
    "timestr = f'2011-01-02 {tidx}:00:00'\n",
    "ssrd = era_proc.SSRD.sel(time=timestr)\n",
    "ghi = ssrd/3600\n",
    "ghi.plot()"
   ]
  },
  {
   "cell_type": "code",
   "execution_count": 93,
   "metadata": {},
   "outputs": [
    {
     "data": {
      "text/html": [
       "<pre>&lt;xarray.Dataset&gt;\n",
       "Dimensions:    (latitude: 81, longitude: 121, time: 360)\n",
       "Coordinates:\n",
       "  * latitude   (latitude) float64 50.0 49.75 49.5 49.25 ... 30.5 30.25 30.0\n",
       "  * longitude  (longitude) float64 265.0 265.2 265.5 265.8 ... 294.5 294.8 295.0\n",
       "  * time       (time) datetime64[ns] 2011-01-01T06:00:00 ... 2011-01-16T05:00:00\n",
       "Data variables:\n",
       "    utc_date   (time) int32 2011010118 2011010118 ... 2011011518 2011011518\n",
       "    SSRD       (time, latitude, longitude) float32 0.0 0.0 0.0 ... 0.0 0.0 0.0\n",
       "Attributes:\n",
       "    DATA_SOURCE:          ECMWF: https://cds.climate.copernicus.eu, Copernicu...\n",
       "    NETCDF_CONVERSION:    CISL RDA: Conversion from ECMWF GRIB1 data to netCDF4.\n",
       "    NETCDF_VERSION:       4.6.1\n",
       "    CONVERSION_PLATFORM:  Linux casper18 3.10.0-693.21.1.el7.x86_64 #1 SMP We...\n",
       "    CONVERSION_DATE:      Fri Aug 23 18:48:19 MDT 2019\n",
       "    Conventions:          CF-1.6\n",
       "    NETCDF_COMPRESSION:   NCO: Precision-preserving compression to netCDF4/HD...\n",
       "    history:              Mon Jan 20 10:52:54 2020: ncks -d longitude,265.,29...\n",
       "    NCO:                  4.7.2</pre>"
      ],
      "text/plain": [
       "<xarray.Dataset>\n",
       "Dimensions:    (latitude: 81, longitude: 121, time: 360)\n",
       "Coordinates:\n",
       "  * latitude   (latitude) float64 50.0 49.75 49.5 49.25 ... 30.5 30.25 30.0\n",
       "  * longitude  (longitude) float64 265.0 265.2 265.5 265.8 ... 294.5 294.8 295.0\n",
       "  * time       (time) datetime64[ns] 2011-01-01T06:00:00 ... 2011-01-16T05:00:00\n",
       "Data variables:\n",
       "    utc_date   (time) int32 2011010118 2011010118 ... 2011011518 2011011518\n",
       "    SSRD       (time, latitude, longitude) float32 0.0 0.0 0.0 ... 0.0 0.0 0.0\n",
       "Attributes:\n",
       "    DATA_SOURCE:          ECMWF: https://cds.climate.copernicus.eu, Copernicu...\n",
       "    NETCDF_CONVERSION:    CISL RDA: Conversion from ECMWF GRIB1 data to netCDF4.\n",
       "    NETCDF_VERSION:       4.6.1\n",
       "    CONVERSION_PLATFORM:  Linux casper18 3.10.0-693.21.1.el7.x86_64 #1 SMP We...\n",
       "    CONVERSION_DATE:      Fri Aug 23 18:48:19 MDT 2019\n",
       "    Conventions:          CF-1.6\n",
       "    NETCDF_COMPRESSION:   NCO: Precision-preserving compression to netCDF4/HD...\n",
       "    history:              Mon Jan 20 10:52:54 2020: ncks -d longitude,265.,29...\n",
       "    NCO:                  4.7.2"
      ]
     },
     "execution_count": 93,
     "metadata": {},
     "output_type": "execute_result"
    }
   ],
   "source": [
    "# Now actually process the whole dataset\n",
    "era_processed = era_data3.drop_dims(['forecast_initial_time', 'forecast_hour'])\n",
    "\n",
    "first = True\n",
    "for timestr in era_data3.forecast_initial_time:\n",
    "    ssrd_slice = era_data3.sel(forecast_initial_time=timestr)\n",
    "    ssrd_slice = ssrd_slice.assign_coords(forecast_hour=pd.date_range(start=timestr.values, freq='H', \n",
    "                                            periods=(len(ssrd_slice.forecast_hour))))\n",
    "    ssrd_slice = ssrd_slice.rename({'forecast_hour' : 'time'})\n",
    "    ssrd_slice = ssrd_slice.reset_coords('forecast_initial_time', drop=True)\n",
    "    if first is True:\n",
    "        era_processed['SSRD'] = ssrd_slice['SSRD']\n",
    "        first = False\n",
    "    else:\n",
    "        era_processed = xr.concat([era_processed, ssrd_slice], 'time')\n",
    "\n",
    "era_processed"
   ]
  },
  {
   "cell_type": "code",
   "execution_count": 95,
   "metadata": {},
   "outputs": [
    {
     "data": {
      "text/html": [
       "<pre>&lt;xarray.Dataset&gt;\n",
       "Dimensions:    (latitude: 81, longitude: 121, time: 360)\n",
       "Coordinates:\n",
       "  * latitude   (latitude) float64 50.0 49.75 49.5 49.25 ... 30.5 30.25 30.0\n",
       "  * longitude  (longitude) float64 265.0 265.2 265.5 265.8 ... 294.5 294.8 295.0\n",
       "  * time       (time) datetime64[ns] 2011-01-01T06:00:00 ... 2011-01-16T05:00:00\n",
       "Data variables:\n",
       "    utc_date   (time) int32 2011010118 2011010118 ... 2011011518 2011011518\n",
       "    SSRD       (time, latitude, longitude) float32 0.0 0.0 0.0 ... 0.0 0.0 0.0\n",
       "    GHI        (time, latitude, longitude) float32 0.0 0.0 0.0 ... 0.0 0.0 0.0\n",
       "Attributes:\n",
       "    DATA_SOURCE:          ECMWF: https://cds.climate.copernicus.eu, Copernicu...\n",
       "    NETCDF_CONVERSION:    CISL RDA: Conversion from ECMWF GRIB1 data to netCDF4.\n",
       "    NETCDF_VERSION:       4.6.1\n",
       "    CONVERSION_PLATFORM:  Linux casper18 3.10.0-693.21.1.el7.x86_64 #1 SMP We...\n",
       "    CONVERSION_DATE:      Fri Aug 23 18:48:19 MDT 2019\n",
       "    Conventions:          CF-1.6\n",
       "    NETCDF_COMPRESSION:   NCO: Precision-preserving compression to netCDF4/HD...\n",
       "    history:              Mon Jan 20 10:52:54 2020: ncks -d longitude,265.,29...\n",
       "    NCO:                  4.7.2</pre>"
      ],
      "text/plain": [
       "<xarray.Dataset>\n",
       "Dimensions:    (latitude: 81, longitude: 121, time: 360)\n",
       "Coordinates:\n",
       "  * latitude   (latitude) float64 50.0 49.75 49.5 49.25 ... 30.5 30.25 30.0\n",
       "  * longitude  (longitude) float64 265.0 265.2 265.5 265.8 ... 294.5 294.8 295.0\n",
       "  * time       (time) datetime64[ns] 2011-01-01T06:00:00 ... 2011-01-16T05:00:00\n",
       "Data variables:\n",
       "    utc_date   (time) int32 2011010118 2011010118 ... 2011011518 2011011518\n",
       "    SSRD       (time, latitude, longitude) float32 0.0 0.0 0.0 ... 0.0 0.0 0.0\n",
       "    GHI        (time, latitude, longitude) float32 0.0 0.0 0.0 ... 0.0 0.0 0.0\n",
       "Attributes:\n",
       "    DATA_SOURCE:          ECMWF: https://cds.climate.copernicus.eu, Copernicu...\n",
       "    NETCDF_CONVERSION:    CISL RDA: Conversion from ECMWF GRIB1 data to netCDF4.\n",
       "    NETCDF_VERSION:       4.6.1\n",
       "    CONVERSION_PLATFORM:  Linux casper18 3.10.0-693.21.1.el7.x86_64 #1 SMP We...\n",
       "    CONVERSION_DATE:      Fri Aug 23 18:48:19 MDT 2019\n",
       "    Conventions:          CF-1.6\n",
       "    NETCDF_COMPRESSION:   NCO: Precision-preserving compression to netCDF4/HD...\n",
       "    history:              Mon Jan 20 10:52:54 2020: ncks -d longitude,265.,29...\n",
       "    NCO:                  4.7.2"
      ]
     },
     "execution_count": 95,
     "metadata": {},
     "output_type": "execute_result"
    }
   ],
   "source": [
    "# Convert SSRD to GHI\n",
    "ghi = era_processed.SSRD/3600\n",
    "era_processed['GHI'] = ghi\n",
    "era_processed"
   ]
  },
  {
   "cell_type": "code",
   "execution_count": 98,
   "metadata": {},
   "outputs": [
    {
     "data": {
      "text/html": [
       "<pre>&lt;xarray.Dataset&gt;\n",
       "Dimensions:    (latitude: 81, longitude: 121, time: 360)\n",
       "Coordinates:\n",
       "  * latitude   (latitude) float64 50.0 49.75 49.5 49.25 ... 30.5 30.25 30.0\n",
       "  * longitude  (longitude) float64 265.0 265.2 265.5 265.8 ... 294.5 294.8 295.0\n",
       "  * time       (time) datetime64[ns] 2011-01-01T06:00:00 ... 2011-01-16T05:00:00\n",
       "Data variables:\n",
       "    SSRD       (time, latitude, longitude) float32 0.0 0.0 0.0 ... 0.0 0.0 0.0\n",
       "    GHI        (time, latitude, longitude) float32 0.0 0.0 0.0 ... 0.0 0.0 0.0\n",
       "Attributes:\n",
       "    DATA_SOURCE:          ECMWF: https://cds.climate.copernicus.eu, Copernicu...\n",
       "    NETCDF_CONVERSION:    CISL RDA: Conversion from ECMWF GRIB1 data to netCDF4.\n",
       "    NETCDF_VERSION:       4.6.1\n",
       "    CONVERSION_PLATFORM:  Linux casper18 3.10.0-693.21.1.el7.x86_64 #1 SMP We...\n",
       "    CONVERSION_DATE:      Fri Aug 23 18:48:19 MDT 2019\n",
       "    Conventions:          CF-1.6\n",
       "    NETCDF_COMPRESSION:   NCO: Precision-preserving compression to netCDF4/HD...\n",
       "    history:              Mon Jan 20 10:52:54 2020: ncks -d longitude,265.,29...\n",
       "    NCO:                  4.7.2</pre>"
      ],
      "text/plain": [
       "<xarray.Dataset>\n",
       "Dimensions:    (latitude: 81, longitude: 121, time: 360)\n",
       "Coordinates:\n",
       "  * latitude   (latitude) float64 50.0 49.75 49.5 49.25 ... 30.5 30.25 30.0\n",
       "  * longitude  (longitude) float64 265.0 265.2 265.5 265.8 ... 294.5 294.8 295.0\n",
       "  * time       (time) datetime64[ns] 2011-01-01T06:00:00 ... 2011-01-16T05:00:00\n",
       "Data variables:\n",
       "    SSRD       (time, latitude, longitude) float32 0.0 0.0 0.0 ... 0.0 0.0 0.0\n",
       "    GHI        (time, latitude, longitude) float32 0.0 0.0 0.0 ... 0.0 0.0 0.0\n",
       "Attributes:\n",
       "    DATA_SOURCE:          ECMWF: https://cds.climate.copernicus.eu, Copernicu...\n",
       "    NETCDF_CONVERSION:    CISL RDA: Conversion from ECMWF GRIB1 data to netCDF4.\n",
       "    NETCDF_VERSION:       4.6.1\n",
       "    CONVERSION_PLATFORM:  Linux casper18 3.10.0-693.21.1.el7.x86_64 #1 SMP We...\n",
       "    CONVERSION_DATE:      Fri Aug 23 18:48:19 MDT 2019\n",
       "    Conventions:          CF-1.6\n",
       "    NETCDF_COMPRESSION:   NCO: Precision-preserving compression to netCDF4/HD...\n",
       "    history:              Mon Jan 20 10:52:54 2020: ncks -d longitude,265.,29...\n",
       "    NCO:                  4.7.2"
      ]
     },
     "execution_count": 98,
     "metadata": {},
     "output_type": "execute_result"
    }
   ],
   "source": [
    "era_processed = era_processed.drop('utc_date')\n",
    "era_processed"
   ]
  },
  {
   "cell_type": "code",
   "execution_count": 99,
   "metadata": {},
   "outputs": [
    {
     "data": {
      "text/html": [
       "<pre>&lt;xarray.Dataset&gt;\n",
       "Dimensions:    (latitude: 81, longitude: 121, time: 744)\n",
       "Coordinates:\n",
       "  * time       (time) datetime64[ns] 2011-01-01 ... 2011-01-31T23:00:00\n",
       "  * latitude   (latitude) float64 50.0 49.75 49.5 49.25 ... 30.5 30.25 30.0\n",
       "  * longitude  (longitude) float64 265.0 265.2 265.5 265.8 ... 294.5 294.8 295.0\n",
       "Data variables:\n",
       "    VAR_100U   (time, latitude, longitude) float32 -5.118103 ... -3.841217\n",
       "    utc_date   (time) int32 2011010100 2011010101 ... 2011013122 2011013123\n",
       "    VAR_100V   (time, latitude, longitude) float32 -7.5160675 ... -1.6359863\n",
       "    wpd        (time, latitude, longitude) float32 375941.2 ... 36388.855\n",
       "    SSRD       (time, latitude, longitude) float32 nan nan nan ... nan nan nan\n",
       "    GHI        (time, latitude, longitude) float32 nan nan nan ... nan nan nan</pre>"
      ],
      "text/plain": [
       "<xarray.Dataset>\n",
       "Dimensions:    (latitude: 81, longitude: 121, time: 744)\n",
       "Coordinates:\n",
       "  * time       (time) datetime64[ns] 2011-01-01 ... 2011-01-31T23:00:00\n",
       "  * latitude   (latitude) float64 50.0 49.75 49.5 49.25 ... 30.5 30.25 30.0\n",
       "  * longitude  (longitude) float64 265.0 265.2 265.5 265.8 ... 294.5 294.8 295.0\n",
       "Data variables:\n",
       "    VAR_100U   (time, latitude, longitude) float32 -5.118103 ... -3.841217\n",
       "    utc_date   (time) int32 2011010100 2011010101 ... 2011013122 2011013123\n",
       "    VAR_100V   (time, latitude, longitude) float32 -7.5160675 ... -1.6359863\n",
       "    wpd        (time, latitude, longitude) float32 375941.2 ... 36388.855\n",
       "    SSRD       (time, latitude, longitude) float32 nan nan nan ... nan nan nan\n",
       "    GHI        (time, latitude, longitude) float32 nan nan nan ... nan nan nan"
      ]
     },
     "execution_count": 99,
     "metadata": {},
     "output_type": "execute_result"
    }
   ],
   "source": [
    "# Combine the datasets\n",
    "xr.merge([era_data, era_processed])"
   ]
  },
  {
   "cell_type": "code",
   "execution_count": null,
   "metadata": {},
   "outputs": [],
   "source": []
  }
 ],
 "metadata": {
  "kernelspec": {
   "display_name": "Python 3",
   "language": "python",
   "name": "python3"
  },
  "language_info": {
   "codemirror_mode": {
    "name": "ipython",
    "version": 3
   },
   "file_extension": ".py",
   "mimetype": "text/x-python",
   "name": "python",
   "nbconvert_exporter": "python",
   "pygments_lexer": "ipython3",
   "version": "3.7.6"
  }
 },
 "nbformat": 4,
 "nbformat_minor": 4
}
