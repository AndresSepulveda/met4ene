{
 "cells": [
  {
   "cell_type": "markdown",
   "metadata": {},
   "source": [
    "## Process ERA5 file Tutorial\n",
    "\n",
    "This tutorial will walk through processing forecast data from ERA5 using xarray.\n",
    "\n",
    "Authors:\n",
    "* Jeffrey Sward (jas983@cornell.edu), Cornell University, January 2020"
   ]
  },
  {
   "cell_type": "code",
   "execution_count": 4,
   "metadata": {},
   "outputs": [],
   "source": [
    "# built in python modules\n",
    "import datetime\n",
    "import os\n",
    "import inspect\n",
    "import sys\n",
    "\n",
    "# python add-ons\n",
    "import numpy as np\n",
    "import pandas as pd\n",
    "import xarray as xr\n",
    "import netCDF4\n",
    "import wrf\n",
    "\n",
    "# Import the pvlib module\n",
    "if sys.platform == 'linux':\n",
    "    sys.path.append('/home/jsward/Documents/01_Research/01_Renewable_Analysis/WRF/pvlib-python')\n",
    "import pvlib\n",
    "from pvlib.wrfcast import WRF\n",
    "\n",
    "# Import the optwrf module\n",
    "import optwrf"
   ]
  },
  {
   "cell_type": "code",
   "execution_count": 5,
   "metadata": {},
   "outputs": [],
   "source": [
    "# Find the absolute file path to your pvlib installation\n",
    "optwrf_abspath = os.path.dirname(os.path.abspath(inspect.getfile(optwrf)))\n",
    "\n",
    "# absolute path to ERA data file\n",
    "era_file1 = os.path.join(optwrf_abspath, 'data', 'EastUS_e5.oper.an.sfc.228_246_100u.ll025sc.2011010100_2011013123.nc')\n",
    "era_file2 = os.path.join(optwrf_abspath, 'data', 'EastUS_e5.oper.an.sfc.228_247_100v.ll025sc.2011010100_2011013123.nc')\n",
    "\n",
    "# Read in the ERA file using the xarray open_dataset method\n",
    "era_data1 = xr.open_dataset(era_file1)\n",
    "era_data2 = xr.open_dataset(era_file2)"
   ]
  },
  {
   "cell_type": "code",
   "execution_count": 6,
   "metadata": {
    "scrolled": true
   },
   "outputs": [
    {
     "data": {
      "text/html": [
       "<pre>&lt;xarray.Dataset&gt;\n",
       "Dimensions:    (latitude: 81, longitude: 121, time: 744)\n",
       "Coordinates:\n",
       "  * latitude   (latitude) float64 50.0 49.75 49.5 49.25 ... 30.5 30.25 30.0\n",
       "  * longitude  (longitude) float64 265.0 265.2 265.5 265.8 ... 294.5 294.8 295.0\n",
       "  * time       (time) datetime64[ns] 2011-01-01 ... 2011-01-31T23:00:00\n",
       "Data variables:\n",
       "    VAR_100U   (time, latitude, longitude) float32 ...\n",
       "    utc_date   (time) int32 2011010100 2011010101 ... 2011013122 2011013123\n",
       "    VAR_100V   (time, latitude, longitude) float32 ...</pre>"
      ],
      "text/plain": [
       "<xarray.Dataset>\n",
       "Dimensions:    (latitude: 81, longitude: 121, time: 744)\n",
       "Coordinates:\n",
       "  * latitude   (latitude) float64 50.0 49.75 49.5 49.25 ... 30.5 30.25 30.0\n",
       "  * longitude  (longitude) float64 265.0 265.2 265.5 265.8 ... 294.5 294.8 295.0\n",
       "  * time       (time) datetime64[ns] 2011-01-01 ... 2011-01-31T23:00:00\n",
       "Data variables:\n",
       "    VAR_100U   (time, latitude, longitude) float32 ...\n",
       "    utc_date   (time) int32 2011010100 2011010101 ... 2011013122 2011013123\n",
       "    VAR_100V   (time, latitude, longitude) float32 ..."
      ]
     },
     "execution_count": 6,
     "metadata": {},
     "output_type": "execute_result"
    }
   ],
   "source": [
    "era_data = xr.merge([era_data1, era_data2])\n",
    "era_data"
   ]
  },
  {
   "cell_type": "code",
   "execution_count": 7,
   "metadata": {},
   "outputs": [
    {
     "data": {
      "text/html": [
       "<pre>&lt;xarray.Dataset&gt;\n",
       "Dimensions:    (latitude: 81, longitude: 121, time: 744)\n",
       "Coordinates:\n",
       "  * latitude   (latitude) float64 50.0 49.75 49.5 49.25 ... 30.5 30.25 30.0\n",
       "  * longitude  (longitude) float64 265.0 265.2 265.5 265.8 ... 294.5 294.8 295.0\n",
       "  * time       (time) datetime64[ns] 2011-01-01 ... 2011-01-31T23:00:00\n",
       "Data variables:\n",
       "    VAR_100U   (time, latitude, longitude) float32 -5.118103 ... -3.841217\n",
       "    utc_date   (time) int32 2011010100 2011010101 ... 2011013122 2011013123\n",
       "    VAR_100V   (time, latitude, longitude) float32 -7.5160675 ... -1.6359863\n",
       "    wpd        (time, latitude, longitude) float32 375941.2 ... 36388.855</pre>"
      ],
      "text/plain": [
       "<xarray.Dataset>\n",
       "Dimensions:    (latitude: 81, longitude: 121, time: 744)\n",
       "Coordinates:\n",
       "  * latitude   (latitude) float64 50.0 49.75 49.5 49.25 ... 30.5 30.25 30.0\n",
       "  * longitude  (longitude) float64 265.0 265.2 265.5 265.8 ... 294.5 294.8 295.0\n",
       "  * time       (time) datetime64[ns] 2011-01-01 ... 2011-01-31T23:00:00\n",
       "Data variables:\n",
       "    VAR_100U   (time, latitude, longitude) float32 -5.118103 ... -3.841217\n",
       "    utc_date   (time) int32 2011010100 2011010101 ... 2011013122 2011013123\n",
       "    VAR_100V   (time, latitude, longitude) float32 -7.5160675 ... -1.6359863\n",
       "    wpd        (time, latitude, longitude) float32 375941.2 ... 36388.855"
      ]
     },
     "execution_count": 7,
     "metadata": {},
     "output_type": "execute_result"
    }
   ],
   "source": [
    "# Calculate the 100m wind speed\n",
    "wind_speed100 = np.sqrt(era_data['VAR_100U']**2 + era_data['VAR_100V']**2)\n",
    "\n",
    "# Calculate wind power density (W * m -2)\n",
    "air_density = 1000 \n",
    "wpd = 0.5 * air_density * (wind_speed100) ** 3\n",
    "era_data['wpd'] = wpd\n",
    "era_data"
   ]
  },
  {
   "cell_type": "code",
   "execution_count": 13,
   "metadata": {
    "scrolled": true
   },
   "outputs": [
    {
     "name": "stdout",
     "output_type": "stream",
     "text": [
      "Downloading data from RDA...\n",
      "100.000 % Completed\n",
      "Done downloading data from RDA!\n"
     ]
    }
   ],
   "source": [
    "# # Download the ERA file containing surface solar radiation downward (ssrd)\n",
    "# filelist = ['e5.oper.fc.sfc.accumu/201101/e5.oper.fc.sfc.accumu.128_169_ssrd.ll025sc.2011010106_2011011606.nc']\n",
    "# dspath = 'http://rda.ucar.edu/data/ds633.0/'\n",
    "# runwrf.rda_download(filelist, dspath)"
   ]
  },
  {
   "cell_type": "code",
   "execution_count": 8,
   "metadata": {},
   "outputs": [
    {
     "data": {
      "text/plain": [
       "0"
      ]
     },
     "execution_count": 8,
     "metadata": {},
     "output_type": "execute_result"
    }
   ],
   "source": [
    "# # Use NCO tools to extract the Northeast region (only works if NCO is installed)\n",
    "# CMD_REDUCE = 'ncks -d longitude,265.,295. -d latitude,30.,50. e5.oper.fc.sfc.accumu.128_169_ssrd.ll025sc.2011010106_2011011606.nc EastUS_e5.oper.fc.sfc.accumu.128_169_ssrd.ll025sc.2011010106_2011011606.nc'\n",
    "# os.system(CMD_REDUCE)"
   ]
  },
  {
   "cell_type": "code",
   "execution_count": 10,
   "metadata": {
    "scrolled": true
   },
   "outputs": [
    {
     "data": {
      "text/html": [
       "<pre>&lt;xarray.Dataset&gt;\n",
       "Dimensions:                (forecast_hour: 12, forecast_initial_time: 30, latitude: 81, longitude: 121)\n",
       "Coordinates:\n",
       "  * forecast_hour          (forecast_hour) int32 1 2 3 4 5 6 7 8 9 10 11 12\n",
       "  * forecast_initial_time  (forecast_initial_time) datetime64[ns] 2011-01-01T06:00:00 ... 2011-01-15T18:00:00\n",
       "  * latitude               (latitude) float64 50.0 49.75 49.5 ... 30.25 30.0\n",
       "  * longitude              (longitude) float64 265.0 265.2 265.5 ... 294.8 295.0\n",
       "Data variables:\n",
       "    SSRD                   (forecast_initial_time, forecast_hour, latitude, longitude) float32 ...\n",
       "    utc_date               (forecast_initial_time) int32 ...\n",
       "Attributes:\n",
       "    DATA_SOURCE:          ECMWF: https://cds.climate.copernicus.eu, Copernicu...\n",
       "    NETCDF_CONVERSION:    CISL RDA: Conversion from ECMWF GRIB1 data to netCDF4.\n",
       "    NETCDF_VERSION:       4.6.1\n",
       "    CONVERSION_PLATFORM:  Linux casper18 3.10.0-693.21.1.el7.x86_64 #1 SMP We...\n",
       "    CONVERSION_DATE:      Fri Aug 23 18:48:19 MDT 2019\n",
       "    Conventions:          CF-1.6\n",
       "    NETCDF_COMPRESSION:   NCO: Precision-preserving compression to netCDF4/HD...\n",
       "    history:              Mon Jan 20 10:52:54 2020: ncks -d longitude,265.,29...\n",
       "    NCO:                  4.7.2</pre>"
      ],
      "text/plain": [
       "<xarray.Dataset>\n",
       "Dimensions:                (forecast_hour: 12, forecast_initial_time: 30, latitude: 81, longitude: 121)\n",
       "Coordinates:\n",
       "  * forecast_hour          (forecast_hour) int32 1 2 3 4 5 6 7 8 9 10 11 12\n",
       "  * forecast_initial_time  (forecast_initial_time) datetime64[ns] 2011-01-01T06:00:00 ... 2011-01-15T18:00:00\n",
       "  * latitude               (latitude) float64 50.0 49.75 49.5 ... 30.25 30.0\n",
       "  * longitude              (longitude) float64 265.0 265.2 265.5 ... 294.8 295.0\n",
       "Data variables:\n",
       "    SSRD                   (forecast_initial_time, forecast_hour, latitude, longitude) float32 ...\n",
       "    utc_date               (forecast_initial_time) int32 ...\n",
       "Attributes:\n",
       "    DATA_SOURCE:          ECMWF: https://cds.climate.copernicus.eu, Copernicu...\n",
       "    NETCDF_CONVERSION:    CISL RDA: Conversion from ECMWF GRIB1 data to netCDF4.\n",
       "    NETCDF_VERSION:       4.6.1\n",
       "    CONVERSION_PLATFORM:  Linux casper18 3.10.0-693.21.1.el7.x86_64 #1 SMP We...\n",
       "    CONVERSION_DATE:      Fri Aug 23 18:48:19 MDT 2019\n",
       "    Conventions:          CF-1.6\n",
       "    NETCDF_COMPRESSION:   NCO: Precision-preserving compression to netCDF4/HD...\n",
       "    history:              Mon Jan 20 10:52:54 2020: ncks -d longitude,265.,29...\n",
       "    NCO:                  4.7.2"
      ]
     },
     "execution_count": 10,
     "metadata": {},
     "output_type": "execute_result"
    }
   ],
   "source": [
    "# Read in the ERA file using the xarray open_dataset method\n",
    "era_file3 = 'EastUS_e5.oper.fc.sfc.accumu.128_169_ssrd.ll025sc.2011010106_2011011606.nc'\n",
    "era_data3 = xr.open_dataset(era_file3)\n",
    "era_data3"
   ]
  },
  {
   "cell_type": "code",
   "execution_count": 11,
   "metadata": {},
   "outputs": [
    {
     "data": {
      "text/plain": [
       "<matplotlib.collections.QuadMesh at 0x7f613f35dad0>"
      ]
     },
     "execution_count": 11,
     "metadata": {},
     "output_type": "execute_result"
    },
    {
     "data": {
      "image/png": "[encoded data removed]",
      "text/plain": [
       "<Figure size 432x288 with 2 Axes>"
      ]
     },
     "metadata": {
      "needs_background": "light"
     },
     "output_type": "display_data"
    }
   ],
   "source": [
    "# Test visualization plot\n",
    "ssrd = era_data3.SSRD.sel(forecast_initial_time='2011-01-01 06:00:00',forecast_hour=12)\n",
    "ghi = ssrd/3600\n",
    "ghi.plot()"
   ]
  },
  {
   "cell_type": "code",
   "execution_count": 13,
   "metadata": {},
   "outputs": [
    {
     "data": {
      "text/html": [
       "<pre>&lt;xarray.Dataset&gt;\n",
       "Dimensions:                (forecast_hour: 12, forecast_initial_time: 30, latitude: 81, longitude: 121)\n",
       "Coordinates:\n",
       "  * forecast_hour          (forecast_hour) int32 1 2 3 4 5 6 7 8 9 10 11 12\n",
       "  * forecast_initial_time  (forecast_initial_time) datetime64[ns] 2011-01-01T06:00:00 ... 2011-01-15T18:00:00\n",
       "  * latitude               (latitude) float64 50.0 49.75 49.5 ... 30.25 30.0\n",
       "  * longitude              (longitude) float64 265.0 265.2 265.5 ... 294.8 295.0\n",
       "    utc_date               (forecast_initial_time) int32 ...\n",
       "Data variables:\n",
       "    SSRD                   (forecast_initial_time, forecast_hour, latitude, longitude) float32 ...\n",
       "Attributes:\n",
       "    DATA_SOURCE:          ECMWF: https://cds.climate.copernicus.eu, Copernicu...\n",
       "    NETCDF_CONVERSION:    CISL RDA: Conversion from ECMWF GRIB1 data to netCDF4.\n",
       "    NETCDF_VERSION:       4.6.1\n",
       "    CONVERSION_PLATFORM:  Linux casper18 3.10.0-693.21.1.el7.x86_64 #1 SMP We...\n",
       "    CONVERSION_DATE:      Fri Aug 23 18:48:19 MDT 2019\n",
       "    Conventions:          CF-1.6\n",
       "    NETCDF_COMPRESSION:   NCO: Precision-preserving compression to netCDF4/HD...\n",
       "    history:              Mon Jan 20 10:52:54 2020: ncks -d longitude,265.,29...\n",
       "    NCO:                  4.7.2</pre>"
      ],
      "text/plain": [
       "<xarray.Dataset>\n",
       "Dimensions:                (forecast_hour: 12, forecast_initial_time: 30, latitude: 81, longitude: 121)\n",
       "Coordinates:\n",
       "  * forecast_hour          (forecast_hour) int32 1 2 3 4 5 6 7 8 9 10 11 12\n",
       "  * forecast_initial_time  (forecast_initial_time) datetime64[ns] 2011-01-01T06:00:00 ... 2011-01-15T18:00:00\n",
       "  * latitude               (latitude) float64 50.0 49.75 49.5 ... 30.25 30.0\n",
       "  * longitude              (longitude) float64 265.0 265.2 265.5 ... 294.8 295.0\n",
       "    utc_date               (forecast_initial_time) int32 ...\n",
       "Data variables:\n",
       "    SSRD                   (forecast_initial_time, forecast_hour, latitude, longitude) float32 ...\n",
       "Attributes:\n",
       "    DATA_SOURCE:          ECMWF: https://cds.climate.copernicus.eu, Copernicu...\n",
       "    NETCDF_CONVERSION:    CISL RDA: Conversion from ECMWF GRIB1 data to netCDF4.\n",
       "    NETCDF_VERSION:       4.6.1\n",
       "    CONVERSION_PLATFORM:  Linux casper18 3.10.0-693.21.1.el7.x86_64 #1 SMP We...\n",
       "    CONVERSION_DATE:      Fri Aug 23 18:48:19 MDT 2019\n",
       "    Conventions:          CF-1.6\n",
       "    NETCDF_COMPRESSION:   NCO: Precision-preserving compression to netCDF4/HD...\n",
       "    history:              Mon Jan 20 10:52:54 2020: ncks -d longitude,265.,29...\n",
       "    NCO:                  4.7.2"
      ]
     },
     "execution_count": 13,
     "metadata": {},
     "output_type": "execute_result"
    }
   ],
   "source": [
    "# Set the utc_date as a coordinate\n",
    "era_data3 = era_data3.set_coords('utc_date')\n",
    "era_data3"
   ]
  },
  {
   "cell_type": "code",
   "execution_count": 21,
   "metadata": {},
   "outputs": [
    {
     "data": {
      "text/plain": [
       "(30, 12, 81, 121)"
      ]
     },
     "execution_count": 21,
     "metadata": {},
     "output_type": "execute_result"
    }
   ],
   "source": [
    "era_data3.SSRD.shape"
   ]
  },
  {
   "cell_type": "code",
   "execution_count": 25,
   "metadata": {},
   "outputs": [
    {
     "data": {
      "text/html": [
       "<pre>&lt;xarray.Dataset&gt;\n",
       "Dimensions:  (time: 360)\n",
       "Coordinates:\n",
       "  * time     (time) datetime64[ns] 2011-01-01T06:00:00 ... 2011-01-16T05:00:00\n",
       "Data variables:\n",
       "    *empty*</pre>"
      ],
      "text/plain": [
       "<xarray.Dataset>\n",
       "Dimensions:  (time: 360)\n",
       "Coordinates:\n",
       "  * time     (time) datetime64[ns] 2011-01-01T06:00:00 ... 2011-01-16T05:00:00\n",
       "Data variables:\n",
       "    *empty*"
      ]
     },
     "execution_count": 25,
     "metadata": {},
     "output_type": "execute_result"
    }
   ],
   "source": [
    "# Create a new date range \n",
    "ds = xr.Dataset({'time': pd.date_range(start='2011-01-01T06:00:00', freq='H', \n",
    "                                           periods=(len(era_data3.forecast_hour) * len(era_data3.forecast_initial_time)))})\n",
    "ds"
   ]
  },
  {
   "cell_type": "code",
   "execution_count": 26,
   "metadata": {},
   "outputs": [],
   "source": [
    "# Add the date range to the intial dataset\n",
    "era_data3['time'] = ds['time']\n",
    "era_data3"
   ]
  },
  {
   "cell_type": "code",
   "execution_count": 29,
   "metadata": {},
   "outputs": [
    {
     "data": {
      "text/html": [
       "<pre>&lt;xarray.Dataset&gt;\n",
       "Dimensions:                (intial_time_and_hour: 360, latitude: 81, longitude: 121, time: 360)\n",
       "Coordinates:\n",
       "  * latitude               (latitude) float64 50.0 49.75 49.5 ... 30.25 30.0\n",
       "  * longitude              (longitude) float64 265.0 265.2 265.5 ... 294.8 295.0\n",
       "    utc_date               (intial_time_and_hour) int32 2011010106 ... 2011011518\n",
       "  * time                   (time) datetime64[ns] 2011-01-01T06:00:00 ... 2011-01-16T05:00:00\n",
       "  * intial_time_and_hour   (intial_time_and_hour) MultiIndex\n",
       "  - forecast_initial_time  (intial_time_and_hour) datetime64[ns] 2011-01-01T06:00:00 ... 2011-01-15T18:00:00\n",
       "  - forecast_hour          (intial_time_and_hour) int64 1 2 3 4 5 ... 9 10 11 12\n",
       "Data variables:\n",
       "    SSRD                   (latitude, longitude, intial_time_and_hour) float32 0.0 ... 0.0\n",
       "Attributes:\n",
       "    DATA_SOURCE:          ECMWF: https://cds.climate.copernicus.eu, Copernicu...\n",
       "    NETCDF_CONVERSION:    CISL RDA: Conversion from ECMWF GRIB1 data to netCDF4.\n",
       "    NETCDF_VERSION:       4.6.1\n",
       "    CONVERSION_PLATFORM:  Linux casper18 3.10.0-693.21.1.el7.x86_64 #1 SMP We...\n",
       "    CONVERSION_DATE:      Fri Aug 23 18:48:19 MDT 2019\n",
       "    Conventions:          CF-1.6\n",
       "    NETCDF_COMPRESSION:   NCO: Precision-preserving compression to netCDF4/HD...\n",
       "    history:              Mon Jan 20 10:52:54 2020: ncks -d longitude,265.,29...\n",
       "    NCO:                  4.7.2</pre>"
      ],
      "text/plain": [
       "<xarray.Dataset>\n",
       "Dimensions:                (intial_time_and_hour: 360, latitude: 81, longitude: 121, time: 360)\n",
       "Coordinates:\n",
       "  * latitude               (latitude) float64 50.0 49.75 49.5 ... 30.25 30.0\n",
       "  * longitude              (longitude) float64 265.0 265.2 265.5 ... 294.8 295.0\n",
       "    utc_date               (intial_time_and_hour) int32 2011010106 ... 2011011518\n",
       "  * time                   (time) datetime64[ns] 2011-01-01T06:00:00 ... 2011-01-16T05:00:00\n",
       "  * intial_time_and_hour   (intial_time_and_hour) MultiIndex\n",
       "  - forecast_initial_time  (intial_time_and_hour) datetime64[ns] 2011-01-01T06:00:00 ... 2011-01-15T18:00:00\n",
       "  - forecast_hour          (intial_time_and_hour) int64 1 2 3 4 5 ... 9 10 11 12\n",
       "Data variables:\n",
       "    SSRD                   (latitude, longitude, intial_time_and_hour) float32 0.0 ... 0.0\n",
       "Attributes:\n",
       "    DATA_SOURCE:          ECMWF: https://cds.climate.copernicus.eu, Copernicu...\n",
       "    NETCDF_CONVERSION:    CISL RDA: Conversion from ECMWF GRIB1 data to netCDF4.\n",
       "    NETCDF_VERSION:       4.6.1\n",
       "    CONVERSION_PLATFORM:  Linux casper18 3.10.0-693.21.1.el7.x86_64 #1 SMP We...\n",
       "    CONVERSION_DATE:      Fri Aug 23 18:48:19 MDT 2019\n",
       "    Conventions:          CF-1.6\n",
       "    NETCDF_COMPRESSION:   NCO: Precision-preserving compression to netCDF4/HD...\n",
       "    history:              Mon Jan 20 10:52:54 2020: ncks -d longitude,265.,29...\n",
       "    NCO:                  4.7.2"
      ]
     },
     "execution_count": 29,
     "metadata": {},
     "output_type": "execute_result"
    }
   ],
   "source": [
    "# Stack the existing dimensions\n",
    "test = era_data3.stack(intial_time_and_hour=('forecast_initial_time', 'forecast_hour'))\n",
    "test"
   ]
  },
  {
   "cell_type": "code",
   "execution_count": 30,
   "metadata": {},
   "outputs": [
    {
     "ename": "ValueError",
     "evalue": "replacement dimension 'time' is not a 1D variable along the old dimension 'intial_time_and_hour'",
     "output_type": "error",
     "traceback": [
      "\u001b[0;31m---------------------------------------------------------------------------\u001b[0m",
      "\u001b[0;31mValueError\u001b[0m                                Traceback (most recent call last)",
      "\u001b[0;32m<ipython-input-30-aa77e6f963b6>\u001b[0m in \u001b[0;36m<module>\u001b[0;34m\u001b[0m\n\u001b[1;32m      1\u001b[0m \u001b[0;31m# Swap the initial_time_and_hour dimension with time\u001b[0m\u001b[0;34m\u001b[0m\u001b[0;34m\u001b[0m\u001b[0;34m\u001b[0m\u001b[0m\n\u001b[0;32m----> 2\u001b[0;31m \u001b[0mtest2\u001b[0m \u001b[0;34m=\u001b[0m \u001b[0mtest\u001b[0m\u001b[0;34m.\u001b[0m\u001b[0mswap_dims\u001b[0m\u001b[0;34m(\u001b[0m\u001b[0;34m{\u001b[0m\u001b[0;34m\"intial_time_and_hour\"\u001b[0m\u001b[0;34m:\u001b[0m \u001b[0;34m\"time\"\u001b[0m\u001b[0;34m}\u001b[0m\u001b[0;34m)\u001b[0m\u001b[0;34m\u001b[0m\u001b[0;34m\u001b[0m\u001b[0m\n\u001b[0m\u001b[1;32m      3\u001b[0m \u001b[0mtest2\u001b[0m\u001b[0;34m\u001b[0m\u001b[0;34m\u001b[0m\u001b[0m\n",
      "\u001b[0;32m~/anaconda3/envs/runwrf/lib/python3.7/site-packages/xarray/core/dataset.py\u001b[0m in \u001b[0;36mswap_dims\u001b[0;34m(self, dims_dict, inplace)\u001b[0m\n\u001b[1;32m   2873\u001b[0m                 raise ValueError(\n\u001b[1;32m   2874\u001b[0m                     \u001b[0;34m\"replacement dimension %r is not a 1D \"\u001b[0m\u001b[0;34m\u001b[0m\u001b[0;34m\u001b[0m\u001b[0m\n\u001b[0;32m-> 2875\u001b[0;31m                     \u001b[0;34m\"variable along the old dimension %r\"\u001b[0m \u001b[0;34m%\u001b[0m \u001b[0;34m(\u001b[0m\u001b[0mv\u001b[0m\u001b[0;34m,\u001b[0m \u001b[0mk\u001b[0m\u001b[0;34m)\u001b[0m\u001b[0;34m\u001b[0m\u001b[0;34m\u001b[0m\u001b[0m\n\u001b[0m\u001b[1;32m   2876\u001b[0m                 )\n\u001b[1;32m   2877\u001b[0m \u001b[0;34m\u001b[0m\u001b[0m\n",
      "\u001b[0;31mValueError\u001b[0m: replacement dimension 'time' is not a 1D variable along the old dimension 'intial_time_and_hour'"
     ]
    }
   ],
   "source": [
    "# Swap the initial_time_and_hour dimension with time\n",
    "test2 = test.swap_dims({\"intial_time_and_hour\": \"time\"})\n",
    "test2"
   ]
  },
  {
   "cell_type": "code",
   "execution_count": null,
   "metadata": {},
   "outputs": [],
   "source": [
    "# Drop forecast_inital_time and forecast_hour dimensions\n"
   ]
  },
  {
   "cell_type": "code",
   "execution_count": 85,
   "metadata": {},
   "outputs": [
    {
     "data": {
      "text/html": [
       "<pre>&lt;xarray.DataArray &#x27;SSRD&#x27; (forecast_initial_time: 2, forecast_hour: 12, latitude: 721, longitude: 1440)&gt;\n",
       "array([[[[      0.,       0.,       0., ...,       0.,       0.,\n",
       "                0.],\n",
       "         [      0.,       0.,       0., ...,       0.,       0.,\n",
       "                0.],\n",
       "         [      0.,       0.,       0., ...,       0.,       0.,\n",
       "                0.],\n",
       "         ...,\n",
       "         [1696832., 1697024., 1697216., ..., 1696320., 1696512.,\n",
       "          1696704.],\n",
       "         [1697152., 1697280., 1697344., ..., 1696896., 1697024.,\n",
       "          1697088.],\n",
       "         [1698624., 1698624., 1698624., ..., 1698624., 1698624.,\n",
       "          1698624.]],\n",
       "\n",
       "        [[      0.,       0.,       0., ...,       0.,       0.,\n",
       "                0.],\n",
       "         [      0.,       0.,       0., ...,       0.,       0.,\n",
       "                0.],\n",
       "         [      0.,       0.,       0., ...,       0.,       0.,\n",
       "                0.],\n",
       "         ...,\n",
       "         [1705664., 1705856., 1706048., ..., 1705152., 1705344.,\n",
       "          1705536.],\n",
       "         [1701184., 1701248., 1701376., ..., 1700928., 1700992.,\n",
       "          1701120.],\n",
       "         [1698176., 1698176., 1698176., ..., 1698176., 1698176.,\n",
       "          1698176.]],\n",
       "\n",
       "        [[      0.,       0.,       0., ...,       0.,       0.,\n",
       "                0.],\n",
       "         [      0.,       0.,       0., ...,       0.,       0.,\n",
       "                0.],\n",
       "         [      0.,       0.,       0., ...,       0.,       0.,\n",
       "                0.],\n",
       "         ...,\n",
       "         [1713472., 1713664., 1713792., ..., 1713024., 1713216.,\n",
       "          1713344.],\n",
       "         [1704768., 1704832., 1704896., ..., 1704576., 1704640.,\n",
       "          1704704.],\n",
       "         [1697536., 1697536., 1697536., ..., 1697536., 1697536.,\n",
       "          1697536.]],\n",
       "\n",
       "        ...,\n",
       "\n",
       "        [[      0.,       0.,       0., ...,       0.,       0.,\n",
       "                0.],\n",
       "         [      0.,       0.,       0., ...,       0.,       0.,\n",
       "                0.],\n",
       "         [      0.,       0.,       0., ...,       0.,       0.,\n",
       "                0.],\n",
       "         ...,\n",
       "         [1699200., 1699328., 1699328., ..., 1699584., 1699456.,\n",
       "          1699328.],\n",
       "         [1695232., 1695232., 1695104., ..., 1695488., 1695360.,\n",
       "          1695360.],\n",
       "         [1687040., 1687040., 1687040., ..., 1687040., 1687040.,\n",
       "          1687040.]],\n",
       "\n",
       "        [[      0.,       0.,       0., ...,       0.,       0.,\n",
       "                0.],\n",
       "         [      0.,       0.,       0., ...,       0.,       0.,\n",
       "                0.],\n",
       "         [      0.,       0.,       0., ...,       0.,       0.,\n",
       "                0.],\n",
       "         ...,\n",
       "         [1684480., 1684608., 1684608., ..., 1683712., 1683968.,\n",
       "          1684224.],\n",
       "         [1687552., 1687424., 1687424., ..., 1687040., 1687296.,\n",
       "          1687424.],\n",
       "         [1684864., 1684864., 1684864., ..., 1684864., 1684864.,\n",
       "          1684864.]],\n",
       "\n",
       "        [[      0.,       0.,       0., ...,       0.,       0.,\n",
       "                0.],\n",
       "         [      0.,       0.,       0., ...,       0.,       0.,\n",
       "                0.],\n",
       "         [      0.,       0.,       0., ...,       0.,       0.,\n",
       "                0.],\n",
       "         ...,\n",
       "         [1651584., 1651712., 1651840., ..., 1652352., 1652096.,\n",
       "          1651840.],\n",
       "         [1665024., 1665024., 1665152., ..., 1665536., 1665280.,\n",
       "          1665152.],\n",
       "         [1682304., 1682304., 1682304., ..., 1682304., 1682304.,\n",
       "          1682304.]]],\n",
       "\n",
       "\n",
       "       [[[      0.,       0.,       0., ...,       0.,       0.,\n",
       "                0.],\n",
       "         [      0.,       0.,       0., ...,       0.,       0.,\n",
       "                0.],\n",
       "         [      0.,       0.,       0., ...,       0.,       0.,\n",
       "                0.],\n",
       "         ...,\n",
       "         [1661248., 1661056., 1660672., ..., 1661888., 1661568.,\n",
       "          1661376.],\n",
       "         [1672640., 1672384., 1672128., ..., 1673088., 1672896.,\n",
       "          1672768.],\n",
       "         [1684608., 1684608., 1684608., ..., 1684608., 1684608.,\n",
       "          1684608.]],\n",
       "\n",
       "        [[      0.,       0.,       0., ...,       0.,       0.,\n",
       "                0.],\n",
       "         [      0.,       0.,       0., ...,       0.,       0.,\n",
       "                0.],\n",
       "         [      0.,       0.,       0., ...,       0.,       0.,\n",
       "                0.],\n",
       "         ...,\n",
       "         [1645952., 1645504., 1645248., ..., 1646272., 1646080.,\n",
       "          1645952.],\n",
       "         [1661376., 1661312., 1661248., ..., 1661696., 1661568.,\n",
       "          1661504.],\n",
       "         [1683520., 1683520., 1683520., ..., 1683520., 1683520.,\n",
       "          1683520.]],\n",
       "\n",
       "        [[      0.,       0.,       0., ...,       0.,       0.,\n",
       "                0.],\n",
       "         [      0.,       0.,       0., ...,       0.,       0.,\n",
       "                0.],\n",
       "         [      0.,       0.,       0., ...,       0.,       0.,\n",
       "                0.],\n",
       "         ...,\n",
       "         [1628800., 1628480., 1628160., ..., 1629376., 1629056.,\n",
       "          1628864.],\n",
       "         [1650112., 1649984., 1649792., ..., 1650624., 1650496.,\n",
       "          1650304.],\n",
       "         [1680320., 1680320., 1680320., ..., 1680320., 1680320.,\n",
       "          1680320.]],\n",
       "\n",
       "        ...,\n",
       "\n",
       "        [[      0.,       0.,       0., ...,       0.,       0.,\n",
       "                0.],\n",
       "         [      0.,       0.,       0., ...,       0.,       0.,\n",
       "                0.],\n",
       "         [      0.,       0.,       0., ...,       0.,       0.,\n",
       "                0.],\n",
       "         ...,\n",
       "         [1644544., 1644544., 1644544., ..., 1643136., 1643264.,\n",
       "          1643712.],\n",
       "         [1661248., 1661312., 1661376., ..., 1661120., 1661184.,\n",
       "          1661184.],\n",
       "         [1670784., 1670784., 1670784., ..., 1670784., 1670784.,\n",
       "          1670784.]],\n",
       "\n",
       "        [[      0.,       0.,       0., ...,       0.,       0.,\n",
       "                0.],\n",
       "         [      0.,       0.,       0., ...,       0.,       0.,\n",
       "                0.],\n",
       "         [      0.,       0.,       0., ...,       0.,       0.,\n",
       "                0.],\n",
       "         ...,\n",
       "         [1652992., 1652032., 1651264., ..., 1652480., 1652672.,\n",
       "          1652800.],\n",
       "         [1667904., 1667648., 1667328., ..., 1667776., 1667776.,\n",
       "          1667840.],\n",
       "         [1671616., 1671616., 1671616., ..., 1671616., 1671616.,\n",
       "          1671616.]],\n",
       "\n",
       "        [[      0.,       0.,       0., ...,       0.,       0.,\n",
       "                0.],\n",
       "         [      0.,       0.,       0., ...,       0.,       0.,\n",
       "                0.],\n",
       "         [      0.,       0.,       0., ...,       0.,       0.,\n",
       "                0.],\n",
       "         ...,\n",
       "         [1652608., 1653440., 1654208., ..., 1646464., 1648192.,\n",
       "          1650240.],\n",
       "         [1664704., 1665088., 1665472., ..., 1662272., 1663104.,\n",
       "          1663936.],\n",
       "         [1667520., 1667520., 1667520., ..., 1667520., 1667520.,\n",
       "          1667520.]]]], dtype=float32)\n",
       "Coordinates:\n",
       "  * latitude               (latitude) float64 90.0 89.75 89.5 ... -89.75 -90.0\n",
       "  * forecast_hour          (forecast_hour) int32 1 2 3 4 5 6 7 8 9 10 11 12\n",
       "  * longitude              (longitude) float64 0.0 0.25 0.5 ... 359.5 359.8\n",
       "  * forecast_initial_time  (forecast_initial_time) datetime64[ns] 2011-01-01T06:00:00 2011-01-01T18:00:00\n",
       "Attributes:\n",
       "    long_name:                     Surface solar radiation downwards\n",
       "    short_name:                    ssrd\n",
       "    units:                         W m**-2 s\n",
       "    original_format:               WMO GRIB 1 with ECMWF local table\n",
       "    ecmwf_local_table:             128\n",
       "    ecmwf_parameter:               169\n",
       "    minimum_value:                 0.0\n",
       "    maximum_value:                 4668544.0\n",
       "    grid_specification:            0.25 degree x 0.25 degree from 90N to 90S ...\n",
       "    rda_dataset:                   ds633.0\n",
       "    rda_dataset_url:               https:/rda.ucar.edu/datasets/ds633.0/\n",
       "    rda_dataset_doi:               DOI: 10.5065/BH6N-5N20\n",
       "    rda_dataset_group:             ERA5 atmospheric surface forecast (accumul...\n",
       "    number_of_significant_digits:  7</pre>"
      ],
      "text/plain": [
       "<xarray.DataArray 'SSRD' (forecast_initial_time: 2, forecast_hour: 12, latitude: 721, longitude: 1440)>\n",
       "array([[[[      0.,       0.,       0., ...,       0.,       0.,\n",
       "                0.],\n",
       "         [      0.,       0.,       0., ...,       0.,       0.,\n",
       "                0.],\n",
       "         [      0.,       0.,       0., ...,       0.,       0.,\n",
       "                0.],\n",
       "         ...,\n",
       "         [1696832., 1697024., 1697216., ..., 1696320., 1696512.,\n",
       "          1696704.],\n",
       "         [1697152., 1697280., 1697344., ..., 1696896., 1697024.,\n",
       "          1697088.],\n",
       "         [1698624., 1698624., 1698624., ..., 1698624., 1698624.,\n",
       "          1698624.]],\n",
       "\n",
       "        [[      0.,       0.,       0., ...,       0.,       0.,\n",
       "                0.],\n",
       "         [      0.,       0.,       0., ...,       0.,       0.,\n",
       "                0.],\n",
       "         [      0.,       0.,       0., ...,       0.,       0.,\n",
       "                0.],\n",
       "         ...,\n",
       "         [1705664., 1705856., 1706048., ..., 1705152., 1705344.,\n",
       "          1705536.],\n",
       "         [1701184., 1701248., 1701376., ..., 1700928., 1700992.,\n",
       "          1701120.],\n",
       "         [1698176., 1698176., 1698176., ..., 1698176., 1698176.,\n",
       "          1698176.]],\n",
       "\n",
       "        [[      0.,       0.,       0., ...,       0.,       0.,\n",
       "                0.],\n",
       "         [      0.,       0.,       0., ...,       0.,       0.,\n",
       "                0.],\n",
       "         [      0.,       0.,       0., ...,       0.,       0.,\n",
       "                0.],\n",
       "         ...,\n",
       "         [1713472., 1713664., 1713792., ..., 1713024., 1713216.,\n",
       "          1713344.],\n",
       "         [1704768., 1704832., 1704896., ..., 1704576., 1704640.,\n",
       "          1704704.],\n",
       "         [1697536., 1697536., 1697536., ..., 1697536., 1697536.,\n",
       "          1697536.]],\n",
       "\n",
       "        ...,\n",
       "\n",
       "        [[      0.,       0.,       0., ...,       0.,       0.,\n",
       "                0.],\n",
       "         [      0.,       0.,       0., ...,       0.,       0.,\n",
       "                0.],\n",
       "         [      0.,       0.,       0., ...,       0.,       0.,\n",
       "                0.],\n",
       "         ...,\n",
       "         [1699200., 1699328., 1699328., ..., 1699584., 1699456.,\n",
       "          1699328.],\n",
       "         [1695232., 1695232., 1695104., ..., 1695488., 1695360.,\n",
       "          1695360.],\n",
       "         [1687040., 1687040., 1687040., ..., 1687040., 1687040.,\n",
       "          1687040.]],\n",
       "\n",
       "        [[      0.,       0.,       0., ...,       0.,       0.,\n",
       "                0.],\n",
       "         [      0.,       0.,       0., ...,       0.,       0.,\n",
       "                0.],\n",
       "         [      0.,       0.,       0., ...,       0.,       0.,\n",
       "                0.],\n",
       "         ...,\n",
       "         [1684480., 1684608., 1684608., ..., 1683712., 1683968.,\n",
       "          1684224.],\n",
       "         [1687552., 1687424., 1687424., ..., 1687040., 1687296.,\n",
       "          1687424.],\n",
       "         [1684864., 1684864., 1684864., ..., 1684864., 1684864.,\n",
       "          1684864.]],\n",
       "\n",
       "        [[      0.,       0.,       0., ...,       0.,       0.,\n",
       "                0.],\n",
       "         [      0.,       0.,       0., ...,       0.,       0.,\n",
       "                0.],\n",
       "         [      0.,       0.,       0., ...,       0.,       0.,\n",
       "                0.],\n",
       "         ...,\n",
       "         [1651584., 1651712., 1651840., ..., 1652352., 1652096.,\n",
       "          1651840.],\n",
       "         [1665024., 1665024., 1665152., ..., 1665536., 1665280.,\n",
       "          1665152.],\n",
       "         [1682304., 1682304., 1682304., ..., 1682304., 1682304.,\n",
       "          1682304.]]],\n",
       "\n",
       "\n",
       "       [[[      0.,       0.,       0., ...,       0.,       0.,\n",
       "                0.],\n",
       "         [      0.,       0.,       0., ...,       0.,       0.,\n",
       "                0.],\n",
       "         [      0.,       0.,       0., ...,       0.,       0.,\n",
       "                0.],\n",
       "         ...,\n",
       "         [1661248., 1661056., 1660672., ..., 1661888., 1661568.,\n",
       "          1661376.],\n",
       "         [1672640., 1672384., 1672128., ..., 1673088., 1672896.,\n",
       "          1672768.],\n",
       "         [1684608., 1684608., 1684608., ..., 1684608., 1684608.,\n",
       "          1684608.]],\n",
       "\n",
       "        [[      0.,       0.,       0., ...,       0.,       0.,\n",
       "                0.],\n",
       "         [      0.,       0.,       0., ...,       0.,       0.,\n",
       "                0.],\n",
       "         [      0.,       0.,       0., ...,       0.,       0.,\n",
       "                0.],\n",
       "         ...,\n",
       "         [1645952., 1645504., 1645248., ..., 1646272., 1646080.,\n",
       "          1645952.],\n",
       "         [1661376., 1661312., 1661248., ..., 1661696., 1661568.,\n",
       "          1661504.],\n",
       "         [1683520., 1683520., 1683520., ..., 1683520., 1683520.,\n",
       "          1683520.]],\n",
       "\n",
       "        [[      0.,       0.,       0., ...,       0.,       0.,\n",
       "                0.],\n",
       "         [      0.,       0.,       0., ...,       0.,       0.,\n",
       "                0.],\n",
       "         [      0.,       0.,       0., ...,       0.,       0.,\n",
       "                0.],\n",
       "         ...,\n",
       "         [1628800., 1628480., 1628160., ..., 1629376., 1629056.,\n",
       "          1628864.],\n",
       "         [1650112., 1649984., 1649792., ..., 1650624., 1650496.,\n",
       "          1650304.],\n",
       "         [1680320., 1680320., 1680320., ..., 1680320., 1680320.,\n",
       "          1680320.]],\n",
       "\n",
       "        ...,\n",
       "\n",
       "        [[      0.,       0.,       0., ...,       0.,       0.,\n",
       "                0.],\n",
       "         [      0.,       0.,       0., ...,       0.,       0.,\n",
       "                0.],\n",
       "         [      0.,       0.,       0., ...,       0.,       0.,\n",
       "                0.],\n",
       "         ...,\n",
       "         [1644544., 1644544., 1644544., ..., 1643136., 1643264.,\n",
       "          1643712.],\n",
       "         [1661248., 1661312., 1661376., ..., 1661120., 1661184.,\n",
       "          1661184.],\n",
       "         [1670784., 1670784., 1670784., ..., 1670784., 1670784.,\n",
       "          1670784.]],\n",
       "\n",
       "        [[      0.,       0.,       0., ...,       0.,       0.,\n",
       "                0.],\n",
       "         [      0.,       0.,       0., ...,       0.,       0.,\n",
       "                0.],\n",
       "         [      0.,       0.,       0., ...,       0.,       0.,\n",
       "                0.],\n",
       "         ...,\n",
       "         [1652992., 1652032., 1651264., ..., 1652480., 1652672.,\n",
       "          1652800.],\n",
       "         [1667904., 1667648., 1667328., ..., 1667776., 1667776.,\n",
       "          1667840.],\n",
       "         [1671616., 1671616., 1671616., ..., 1671616., 1671616.,\n",
       "          1671616.]],\n",
       "\n",
       "        [[      0.,       0.,       0., ...,       0.,       0.,\n",
       "                0.],\n",
       "         [      0.,       0.,       0., ...,       0.,       0.,\n",
       "                0.],\n",
       "         [      0.,       0.,       0., ...,       0.,       0.,\n",
       "                0.],\n",
       "         ...,\n",
       "         [1652608., 1653440., 1654208., ..., 1646464., 1648192.,\n",
       "          1650240.],\n",
       "         [1664704., 1665088., 1665472., ..., 1662272., 1663104.,\n",
       "          1663936.],\n",
       "         [1667520., 1667520., 1667520., ..., 1667520., 1667520.,\n",
       "          1667520.]]]], dtype=float32)\n",
       "Coordinates:\n",
       "  * latitude               (latitude) float64 90.0 89.75 89.5 ... -89.75 -90.0\n",
       "  * forecast_hour          (forecast_hour) int32 1 2 3 4 5 6 7 8 9 10 11 12\n",
       "  * longitude              (longitude) float64 0.0 0.25 0.5 ... 359.5 359.8\n",
       "  * forecast_initial_time  (forecast_initial_time) datetime64[ns] 2011-01-01T06:00:00 2011-01-01T18:00:00\n",
       "Attributes:\n",
       "    long_name:                     Surface solar radiation downwards\n",
       "    short_name:                    ssrd\n",
       "    units:                         W m**-2 s\n",
       "    original_format:               WMO GRIB 1 with ECMWF local table\n",
       "    ecmwf_local_table:             128\n",
       "    ecmwf_parameter:               169\n",
       "    minimum_value:                 0.0\n",
       "    maximum_value:                 4668544.0\n",
       "    grid_specification:            0.25 degree x 0.25 degree from 90N to 90S ...\n",
       "    rda_dataset:                   ds633.0\n",
       "    rda_dataset_url:               https:/rda.ucar.edu/datasets/ds633.0/\n",
       "    rda_dataset_doi:               DOI: 10.5065/BH6N-5N20\n",
       "    rda_dataset_group:             ERA5 atmospheric surface forecast (accumul...\n",
       "    number_of_significant_digits:  7"
      ]
     },
     "execution_count": 85,
     "metadata": {},
     "output_type": "execute_result"
    }
   ],
   "source": [
    "# Extract SSRD and convert to GHI\n",
    "tidx = 6\n",
    "timestr = f'2011-01-01 {tidx}:00:00'\n",
    "\n",
    "initial_time = era_data3['forecast_initial_time']\n",
    "ssrd1 = era_data3.SSRD.sel(forecast_initial_time='2011-01-01 06:00:00')\n",
    "ssrd2 = era_data3.SSRD.sel(forecast_initial_time='2011-01-01 18:00:00')\n",
    "ssrd = xr.concat([ssrd1, ssrd2], 'forecast_initial_time')\n",
    "ssrd\n",
    "\n"
   ]
  },
  {
   "cell_type": "code",
   "execution_count": null,
   "metadata": {},
   "outputs": [],
   "source": []
  }
 ],
 "metadata": {
  "kernelspec": {
   "display_name": "Python 3",
   "language": "python",
   "name": "python3"
  },
  "language_info": {
   "codemirror_mode": {
    "name": "ipython",
    "version": 3
   },
   "file_extension": ".py",
   "mimetype": "text/x-python",
   "name": "python",
   "nbconvert_exporter": "python",
   "pygments_lexer": "ipython3",
   "version": "3.7.6"
  }
 },
 "nbformat": 4,
 "nbformat_minor": 4
}
