{
 "cells": [
  {
   "cell_type": "code",
   "execution_count": 1,
   "metadata": {},
   "outputs": [
    {
     "name": "stderr",
     "output_type": "stream",
     "text": [
      "/Users/swardy9230/Box Sync/01_Research/01_Renewable_Analysis/WRF_Solar_and_Wind/pvlib-python/pvlib/wrfcast.py:20: UserWarning: The forecast module algorithms and features are highly experimental. The API may change, the functionality may be consolidated into an io module, or the module may be separated into its own package.\n",
      "  'The forecast module algorithms and features are highly experimental. '\n"
     ]
    }
   ],
   "source": [
    "# plotting stuff\n",
    "%matplotlib inline\n",
    "import matplotlib.pyplot as plt\n",
    "from matplotlib.cm import get_cmap\n",
    "import cartopy.crs as crs\n",
    "from cartopy.feature import NaturalEarthFeature\n",
    "\n",
    "# built in python modules\n",
    "import datetime\n",
    "import os\n",
    "import inspect\n",
    "import sys\n",
    "\n",
    "# python add-ons\n",
    "import numpy as np\n",
    "import pandas as pd\n",
    "import xarray as xr\n",
    "import netCDF4\n",
    "from wrf import (to_np, getvar, ALL_TIMES, smooth2d, get_cartopy, cartopy_xlim,\n",
    "                 cartopy_ylim, latlon_coords)\n",
    "import cartopy.feature as cfeature\n",
    "import cartopy.io.shapereader as shpreader\n",
    "\n",
    "import wrf\n",
    "\n",
    "# Import the pvlib module\n",
    "if sys.platform == 'linux':\n",
    "    sys.path.append('/home/jsward/Documents/01_Research/01_Renewable_Analysis/WRF/pvlib-python')\n",
    "else:\n",
    "    sys.path.append('/Users/swardy9230/Box Sync/01_Research/01_Renewable_Analysis/WRF_Solar_and_Wind/pvlib-python')\n",
    "import pvlib\n",
    "from pvlib.wrfcast import WRF"
   ]
  },
  {
   "cell_type": "code",
   "execution_count": 43,
   "metadata": {},
   "outputs": [
    {
     "name": "stdout",
     "output_type": "stream",
     "text": [
      "<xarray.Dataset>\n",
      "Dimensions:         (Time: 24, bottom_top: 35, south_north: 191, west_east: 191)\n",
      "Coordinates:\n",
      "  * Time            (Time) datetime64[ns] 2011-02-07 ... 2011-02-07T23:00:00\n",
      "    lon             (south_north, west_east) float32 ...\n",
      "    lat             (south_north, west_east) float32 ...\n",
      "    wspd_wdir       object ...\n",
      "    XLONG           (south_north, west_east) float32 ...\n",
      "    XLAT            (south_north, west_east) float32 ...\n",
      "    XTIME           (Time) float32 ...\n",
      "    level           int64 ...\n",
      "Dimensions without coordinates: bottom_top, south_north, west_east\n",
      "Data variables:\n",
      "    Times           (Time) datetime64[ns] ...\n",
      "    temp_air        (Time, south_north, west_east) float32 ...\n",
      "    wind_speed_u    (Time, south_north, west_east) float32 ...\n",
      "    wind_speed_v    (Time, south_north, west_east) float32 ...\n",
      "    cloud_fraction  (Time, bottom_top, south_north, west_east) float32 ...\n",
      "    cos_zenith      (Time, south_north, west_east) float32 ...\n",
      "    dni             (Time, south_north, west_east) float32 ...\n",
      "    dhi             (Time, south_north, west_east) float32 ...\n",
      "    ghi             (Time, south_north, west_east) float32 ...\n",
      "    wind_speed10    (Time, south_north, west_east) float32 ...\n",
      "    wind_speed100   (Time, south_north, west_east) float32 ...\n",
      "    wpd             (Time, south_north, west_east) float32 ...\n"
     ]
    }
   ],
   "source": [
    "# Verbose setting\n",
    "verbose = True\n",
    "\n",
    "# Find the absolute file path to your pvlib installation\n",
    "pvlib_abspath = os.path.dirname(os.path.abspath(inspect.getfile(pvlib)))\n",
    "\n",
    "# Open the NetCDF file\n",
    "ncfile_orig = os.path.join(pvlib_abspath, 'data', 'wrfout_d01_2011-01-24_01:00:00')\n",
    "ncdata_orig = netCDF4.Dataset(ncfile_orig)\n",
    "ncdata = xr.open_dataset(ncfile_orig)\n",
    "if verbose:\n",
    "    print(ncdata)"
   ]
  },
  {
   "cell_type": "code",
   "execution_count": 44,
   "metadata": {},
   "outputs": [],
   "source": [
    "def create_plot(cart_proj, data, data_orig, lats, lons, title_str='', hourly=False, save_fig=False, fig_path='./'):\n",
    "    # Create a figure\n",
    "    fig = plt.figure(figsize=(12,6))\n",
    "    # Set the GeoAxes to the projection used by WRF\n",
    "    ax = plt.axes(projection=cart_proj)\n",
    "\n",
    "    # Make the countour lines for filled contours for the GHI\n",
    "    if hourly:\n",
    "        contour_levels = np.linspace(0, 10000, 22)\n",
    "    else:\n",
    "        contour_levels = np.linspace(0, 175000, 22)\n",
    "    plt.contourf(to_np(lons), to_np(lats), to_np(data), contour_levels,\n",
    "                 transform=crs.PlateCarree(),\n",
    "                 cmap=get_cmap(\"summer_r\"))\n",
    "\n",
    "    # Format the plot\n",
    "    format_plot(data_orig, ax, title_str)\n",
    "\n",
    "    # Save the figure(s)\n",
    "    if save_fig:\n",
    "        if hourly:\n",
    "            plt.savefig(fig_path + '.png', dpi=300, transparent=True, bbox_inches='tight')\n",
    "        else:\n",
    "            plt.savefig(fig_path + '.pdf', transparent=True, bbox_inches='tight')"
   ]
  },
  {
   "cell_type": "code",
   "execution_count": 45,
   "metadata": {},
   "outputs": [],
   "source": [
    "def format_plot(lim_data, ax, title_str=''):\n",
    "    \n",
    "    # Download and add the states, coastlines, and lakes\n",
    "    states = NaturalEarthFeature(category=\"cultural\", scale=\"50m\",\n",
    "                                 facecolor=\"none\",\n",
    "                                 name=\"admin_1_states_provinces_shp\")\n",
    "    ax.add_feature(states, linewidth=.5, edgecolor=\"black\")\n",
    "#     ax.coastlines(resolution='10m', linewidth=0.8)\n",
    "    ax.add_feature(cfeature.LAKES.with_scale('50m'), alpha=0.9)\n",
    "    ax.add_feature(cfeature.OCEAN.with_scale('50m'))\n",
    "\n",
    "    # Add a color bar\n",
    "    plt.colorbar(ax=ax, shrink=.98)\n",
    "\n",
    "    # Set the map bounds\n",
    "    ax.set_xlim(cartopy_xlim(lim_data))\n",
    "    ax.set_ylim(cartopy_ylim(lim_data))\n",
    "\n",
    "    # Add the gridlines\n",
    "#     ax.gridlines(color=\"black\", linestyle=\"dotted\")\n",
    "    \n",
    "    # Add the axis title\n",
    "    plt.title(title_str)"
   ]
  },
  {
   "cell_type": "code",
   "execution_count": 46,
   "metadata": {},
   "outputs": [],
   "source": [
    "def plot_daily_WPD(ncdata, times, hourly=False, save_fig=False, fig_path='./'):\n",
    "    air_density = 1000\n",
    "    # Define the time indicies from the times variable\n",
    "    time_indicies = range(0, len(times))\n",
    "    # Format the times for title slides\n",
    "    times_strings_f = times.dt.strftime('%b %d, %Y %H:%M')\n",
    "    # Get the desired variable(s)\n",
    "    for tidx in time_indicies:\n",
    "        # Get the time strings\n",
    "        timestr = times[tidx].values\n",
    "        timestr_f = times_strings_f[tidx].values\n",
    "        # Format the title string\n",
    "        if hourly:\n",
    "            title_str = f'Wind Power Density (kW m-2)\\n{timestr_f} (UTC)'\n",
    "        else:\n",
    "            time_string_f = times[0].dt.strftime('%b %d, %Y')\n",
    "            title_str = f'Wind Power Density (kWh m-2 day-1) \\n{time_string_f.values}'\n",
    "        # Get height and wind speed\n",
    "        height = getvar(ncdata, \"height_agl\", timeidx=tidx, units='m')\n",
    "        wspd = getvar(ncdata, 'wspd_wdir', timeidx=tidx, units='m s-1')[0,:]\n",
    "        # Interpolate wind speeds to 100m height (also use for map projection) \n",
    "        wspd_100 = wrf.interplevel(wspd, height, 100)\n",
    "        # Calculate wind power density (wind power per square meter)\n",
    "        if not hourly and tidx != 0:\n",
    "            WPD = WPD + 0.5 * (wspd_100) ** 3 * air_density / 1000\n",
    "        else: \n",
    "            WPD = 0.5 * (wspd_100) ** 3 * air_density / 1000\n",
    "            \n",
    "        # Get the latitude and longitude points\n",
    "        lats, lons = latlon_coords(wspd_100)\n",
    "\n",
    "        # Get the cartopy mapping object\n",
    "        cart_proj = get_cartopy(wspd_100)\n",
    "        \n",
    "        if hourly:\n",
    "            fig_path_temp = fig_path + str(tidx).zfill(2)\n",
    "            create_plot(cart_proj, WPD, wspd_100, lats, lons, title_str, hourly, save_fig, fig_path_temp)\n",
    "    if not hourly:\n",
    "        create_plot(cart_proj, WPD, wspd_100, lats, lons, title_str, hourly, save_fig, fig_path)"
   ]
  },
  {
   "cell_type": "code",
   "execution_count": 49,
   "metadata": {},
   "outputs": [
    {
     "ename": "ValueError",
     "evalue": "('P', 'GHT') are not valid variable names",
     "output_type": "error",
     "traceback": [
      "\u001b[0;31m---------------------------------------------------------------------------\u001b[0m",
      "\u001b[0;31mValueError\u001b[0m                                Traceback (most recent call last)",
      "\u001b[0;32m<ipython-input-49-fd5ad89c6b63>\u001b[0m in \u001b[0;36m<module>\u001b[0;34m\u001b[0m\n\u001b[1;32m      1\u001b[0m \u001b[0mdatestr\u001b[0m \u001b[0;34m=\u001b[0m \u001b[0mncdata\u001b[0m\u001b[0;34m[\u001b[0m\u001b[0;34m'Time'\u001b[0m\u001b[0;34m]\u001b[0m\u001b[0;34m[\u001b[0m\u001b[0;36m0\u001b[0m\u001b[0;34m]\u001b[0m\u001b[0;34m.\u001b[0m\u001b[0mdt\u001b[0m\u001b[0;34m.\u001b[0m\u001b[0mstrftime\u001b[0m\u001b[0;34m(\u001b[0m\u001b[0;34m'%b%d%Y'\u001b[0m\u001b[0;34m)\u001b[0m\u001b[0;34m.\u001b[0m\u001b[0mvalues\u001b[0m\u001b[0;34m\u001b[0m\u001b[0;34m\u001b[0m\u001b[0m\n\u001b[1;32m      2\u001b[0m \u001b[0mfig_path\u001b[0m \u001b[0;34m=\u001b[0m \u001b[0;34mf'/Users/swardy9230/Box Sync/01_Research/01_Renewable_Analysis/WRF_Solar_and_Wind/figures/daily_WPD_plot_{datestr}'\u001b[0m\u001b[0;34m\u001b[0m\u001b[0;34m\u001b[0m\u001b[0m\n\u001b[0;32m----> 3\u001b[0;31m \u001b[0mWPD\u001b[0m \u001b[0;34m=\u001b[0m \u001b[0mplot_daily_WPD\u001b[0m\u001b[0;34m(\u001b[0m\u001b[0mncdata_orig\u001b[0m\u001b[0;34m,\u001b[0m \u001b[0mncdata\u001b[0m\u001b[0;34m.\u001b[0m\u001b[0mTime\u001b[0m\u001b[0;34m,\u001b[0m \u001b[0mhourly\u001b[0m\u001b[0;34m=\u001b[0m\u001b[0;32mTrue\u001b[0m\u001b[0;34m,\u001b[0m \u001b[0msave_fig\u001b[0m\u001b[0;34m=\u001b[0m\u001b[0;32mTrue\u001b[0m\u001b[0;34m,\u001b[0m \u001b[0mfig_path\u001b[0m\u001b[0;34m=\u001b[0m\u001b[0mfig_path\u001b[0m\u001b[0;34m)\u001b[0m\u001b[0;34m\u001b[0m\u001b[0;34m\u001b[0m\u001b[0m\n\u001b[0m",
      "\u001b[0;32m<ipython-input-46-4299678b0e84>\u001b[0m in \u001b[0;36mplot_daily_WPD\u001b[0;34m(ncdata, times, hourly, save_fig, fig_path)\u001b[0m\n\u001b[1;32m     17\u001b[0m             \u001b[0mtitle_str\u001b[0m \u001b[0;34m=\u001b[0m \u001b[0;34mf'Wind Power Density (kWh m-2 day-1) \\n{time_string_f.values}'\u001b[0m\u001b[0;34m\u001b[0m\u001b[0;34m\u001b[0m\u001b[0m\n\u001b[1;32m     18\u001b[0m         \u001b[0;31m# Get height and wind speed\u001b[0m\u001b[0;34m\u001b[0m\u001b[0;34m\u001b[0m\u001b[0;34m\u001b[0m\u001b[0m\n\u001b[0;32m---> 19\u001b[0;31m         \u001b[0mheight\u001b[0m \u001b[0;34m=\u001b[0m \u001b[0mgetvar\u001b[0m\u001b[0;34m(\u001b[0m\u001b[0mncdata\u001b[0m\u001b[0;34m,\u001b[0m \u001b[0;34m\"height_agl\"\u001b[0m\u001b[0;34m,\u001b[0m \u001b[0mtimeidx\u001b[0m\u001b[0;34m=\u001b[0m\u001b[0mtidx\u001b[0m\u001b[0;34m,\u001b[0m \u001b[0munits\u001b[0m\u001b[0;34m=\u001b[0m\u001b[0;34m'm'\u001b[0m\u001b[0;34m)\u001b[0m\u001b[0;34m\u001b[0m\u001b[0;34m\u001b[0m\u001b[0m\n\u001b[0m\u001b[1;32m     20\u001b[0m         \u001b[0mwspd\u001b[0m \u001b[0;34m=\u001b[0m \u001b[0mgetvar\u001b[0m\u001b[0;34m(\u001b[0m\u001b[0mncdata\u001b[0m\u001b[0;34m,\u001b[0m \u001b[0;34m'wspd_wdir'\u001b[0m\u001b[0;34m,\u001b[0m \u001b[0mtimeidx\u001b[0m\u001b[0;34m=\u001b[0m\u001b[0mtidx\u001b[0m\u001b[0;34m,\u001b[0m \u001b[0munits\u001b[0m\u001b[0;34m=\u001b[0m\u001b[0;34m'm s-1'\u001b[0m\u001b[0;34m)\u001b[0m\u001b[0;34m[\u001b[0m\u001b[0;36m0\u001b[0m\u001b[0;34m,\u001b[0m\u001b[0;34m:\u001b[0m\u001b[0;34m]\u001b[0m\u001b[0;34m\u001b[0m\u001b[0;34m\u001b[0m\u001b[0m\n\u001b[1;32m     21\u001b[0m         \u001b[0;31m# Interpolate wind speeds to 100m height (also use for map projection)\u001b[0m\u001b[0;34m\u001b[0m\u001b[0;34m\u001b[0m\u001b[0;34m\u001b[0m\u001b[0m\n",
      "\u001b[0;32m~/opt/anaconda3/envs/runwrf/lib/python3.7/site-packages/wrf/routines.py\u001b[0m in \u001b[0;36mgetvar\u001b[0;34m(wrfin, varname, timeidx, method, squeeze, cache, meta, **kwargs)\u001b[0m\n\u001b[1;32m    353\u001b[0m \u001b[0;34m\u001b[0m\u001b[0m\n\u001b[1;32m    354\u001b[0m     return _FUNC_MAP[actual_var](wrfin, timeidx, method, squeeze, cache,\n\u001b[0;32m--> 355\u001b[0;31m                                  meta, _key, **kwargs)\n\u001b[0m",
      "\u001b[0;32m~/opt/anaconda3/envs/runwrf/lib/python3.7/site-packages/wrf/metadecorators.py\u001b[0m in \u001b[0;36mfunc_wrapper\u001b[0;34m(wrapped, instance, args, kwargs)\u001b[0m\n\u001b[1;32m    699\u001b[0m         \u001b[0;31m# pressure (which has the same dims as destaggered height)\u001b[0m\u001b[0;34m\u001b[0m\u001b[0;34m\u001b[0m\u001b[0;34m\u001b[0m\u001b[0m\n\u001b[1;32m    700\u001b[0m         \u001b[0;32mif\u001b[0m \u001b[0;32mnot\u001b[0m \u001b[0mstag\u001b[0m\u001b[0;34m:\u001b[0m\u001b[0;34m\u001b[0m\u001b[0;34m\u001b[0m\u001b[0m\n\u001b[0;32m--> 701\u001b[0;31m             \u001b[0mht_metadata_varname\u001b[0m \u001b[0;34m=\u001b[0m \u001b[0meither\u001b[0m\u001b[0;34m(\u001b[0m\u001b[0;34m\"P\"\u001b[0m\u001b[0;34m,\u001b[0m \u001b[0;34m\"GHT\"\u001b[0m\u001b[0;34m)\u001b[0m\u001b[0;34m(\u001b[0m\u001b[0mwrfin\u001b[0m\u001b[0;34m)\u001b[0m\u001b[0;34m\u001b[0m\u001b[0;34m\u001b[0m\u001b[0m\n\u001b[0m\u001b[1;32m    702\u001b[0m         \u001b[0;32melse\u001b[0m\u001b[0;34m:\u001b[0m\u001b[0;34m\u001b[0m\u001b[0;34m\u001b[0m\u001b[0m\n\u001b[1;32m    703\u001b[0m             \u001b[0mht_metadata_varname\u001b[0m \u001b[0;34m=\u001b[0m \u001b[0meither\u001b[0m\u001b[0;34m(\u001b[0m\u001b[0;34m\"PH\"\u001b[0m\u001b[0;34m,\u001b[0m \u001b[0;34m\"GHT\"\u001b[0m\u001b[0;34m)\u001b[0m\u001b[0;34m(\u001b[0m\u001b[0mwrfin\u001b[0m\u001b[0;34m)\u001b[0m\u001b[0;34m\u001b[0m\u001b[0;34m\u001b[0m\u001b[0m\n",
      "\u001b[0;32m~/opt/anaconda3/envs/runwrf/lib/python3.7/site-packages/wrf/util.py\u001b[0m in \u001b[0;36m__call__\u001b[0;34m(self, wrfin)\u001b[0m\n\u001b[1;32m    497\u001b[0m \u001b[0;34m\u001b[0m\u001b[0m\n\u001b[1;32m    498\u001b[0m         raise ValueError(\"{} are not valid variable names\".format(\n\u001b[0;32m--> 499\u001b[0;31m             self.varnames))\n\u001b[0m\u001b[1;32m    500\u001b[0m \u001b[0;34m\u001b[0m\u001b[0m\n\u001b[1;32m    501\u001b[0m \u001b[0;34m\u001b[0m\u001b[0m\n",
      "\u001b[0;31mValueError\u001b[0m: ('P', 'GHT') are not valid variable names"
     ]
    }
   ],
   "source": [
    "datestr = ncdata['Time'][0].dt.strftime('%b%d%Y').values\n",
    "fig_path = f'/Users/swardy9230/Box Sync/01_Research/01_Renewable_Analysis/WRF_Solar_and_Wind/figures/daily_WPD_plot_{datestr}'\n",
    "WPD = plot_daily_WPD(ncdata_orig, ncdata.Time, hourly=True, save_fig=True, fig_path=fig_path)"
   ]
  },
  {
   "cell_type": "code",
   "execution_count": null,
   "metadata": {},
   "outputs": [],
   "source": []
  }
 ],
 "metadata": {
  "kernelspec": {
   "display_name": "Python 3",
   "language": "python",
   "name": "python3"
  },
  "language_info": {
   "codemirror_mode": {
    "name": "ipython",
    "version": 3
   },
   "file_extension": ".py",
   "mimetype": "text/x-python",
   "name": "python",
   "nbconvert_exporter": "python",
   "pygments_lexer": "ipython3",
   "version": "3.7.6"
  }
 },
 "nbformat": 4,
 "nbformat_minor": 2
}
