{
 "cells": [
  {
   "cell_type": "markdown",
   "metadata": {},
   "source": [
    "This script is here just to give me a place to test random code snippets quickly... It probably will never be formatted very well. "
   ]
  },
  {
   "cell_type": "code",
   "execution_count": 8,
   "metadata": {},
   "outputs": [
    {
     "name": "stderr",
     "output_type": "stream",
     "text": [
      "/Users/swardy9230/Box Sync/01_Research/01_Renewable_Analysis/WRF_Solar_and_Wind/pvlib-python/pvlib/wrfcast.py:20: UserWarning: The forecast module algorithms and features are highly experimental. The API may change, the functionality may be consolidated into an io module, or the module may be separated into its own package.\n",
      "  'The forecast module algorithms and features are highly experimental. '\n"
     ]
    }
   ],
   "source": [
    "import os\n",
    "import datetime\n",
    "import dateutil\n",
    "import calendar\n",
    "from optwrf.runwrf import WRFModel"
   ]
  },
  {
   "cell_type": "code",
   "execution_count": 9,
   "metadata": {},
   "outputs": [
    {
     "name": "stdout",
     "output_type": "stream",
     "text": [
      "Forecast starting on: 2011-12-30 00:00:00\n",
      "Forecast ending on: 2011-12-31 00:00:00\n"
     ]
    }
   ],
   "source": [
    "param_ids = [10, 1, 1, 2, 2, 3, 2]\n",
    "start_date = 'Dec 30 2011'\n",
    "end_date = 'Dec 31 2011'\n",
    "wrf_sim = WRFModel(param_ids, start_date, end_date)"
   ]
  },
  {
   "cell_type": "code",
   "execution_count": 10,
   "metadata": {},
   "outputs": [
    {
     "data": {
      "text/plain": [
       "'/share/mzhang/jas983/wrf_data/met4ene/optwrf/optwrf/link_grib.csh /share/mzhang/jas983/wrf_data/data/2011-12-30_10mp1lw1sw2lsm2pbl3cu/20 /share/mzhang/jas983/wrf_data/met4ene/wrfout/ARW/2011-12-30_10mp1lw1sw2lsm2pbl3cu/'"
      ]
     },
     "execution_count": 10,
     "metadata": {},
     "output_type": "execute_result"
    }
   ],
   "source": [
    "forecast_year = wrf_sim.forecast_start.strftime('%Y')\n",
    "CMD_LINK_GRIB = f'{wrf_sim.DIR_RUNWRF}link_grib.csh {wrf_sim.DIR_DATA_TMP}{forecast_year[0:2]} {wrf_sim.DIR_WRFOUT}'\n",
    "CMD_LINK_GRIB"
   ]
  },
  {
   "cell_type": "code",
   "execution_count": 11,
   "metadata": {},
   "outputs": [
    {
     "ename": "FileNotFoundError",
     "evalue": "[Errno 2] No such file or directory: '/home/jsward/Documents/01_Research/01_Renewable_Analysis/WRF/met4ene/post/python'",
     "output_type": "error",
     "traceback": [
      "\u001b[0;31m---------------------------------------------------------------------------\u001b[0m",
      "\u001b[0;31mFileNotFoundError\u001b[0m                         Traceback (most recent call last)",
      "\u001b[0;32m<ipython-input-11-f680e3d2a883>\u001b[0m in \u001b[0;36m<module>\u001b[0;34m\u001b[0m\n\u001b[1;32m      1\u001b[0m [print(name) for name \n\u001b[0;32m----> 2\u001b[0;31m  in os.listdir('/home/jsward/Documents/01_Research/01_Renewable_Analysis/WRF/met4ene/post/python')]\n\u001b[0m",
      "\u001b[0;31mFileNotFoundError\u001b[0m: [Errno 2] No such file or directory: '/home/jsward/Documents/01_Research/01_Renewable_Analysis/WRF/met4ene/post/python'"
     ]
    }
   ],
   "source": [
    "[print(name) for name \n",
    " in os.listdir('/home/jsward/Documents/01_Research/01_Renewable_Analysis/WRF/met4ene/post/python')]"
   ]
  },
  {
   "cell_type": "code",
   "execution_count": null,
   "metadata": {},
   "outputs": [],
   "source": [
    "len([name for name \n",
    " in os.listdir('/home/jsward/Documents/01_Research/01_Renewable_Analysis/WRF/met4ene/post/python')])"
   ]
  },
  {
   "cell_type": "markdown",
   "metadata": {},
   "source": [
    "How do you name the second ERA5 file in December? "
   ]
  },
  {
   "cell_type": "code",
   "execution_count": null,
   "metadata": {},
   "outputs": [],
   "source": [
    "next_month = wrf_sim.forecast_start + dateutil.relativedelta.relativedelta(months=+1)\n",
    "year_mo = wrf_sim.forecast_start.strftime('%Y') + wrf_sim.forecast_start.strftime('%m')\n",
    "print(f'Next Month: {next_month}')\n",
    "if next_month.month == 1:\n",
    "    next_year = wrf_sim.forecast_start + dateutil.relativedelta.relativedelta(years=+1)\n",
    "    print(f'Next Year: {next_year}')\n",
    "    year_nextmo = next_year.strftime('%Y') + next_month.strftime('%m')\n",
    "else:\n",
    "    year_nextmo = wrf_sim.forecast_start.strftime('%Y') + next_month.strftime('%m')\n",
    "\n"
   ]
  },
  {
   "cell_type": "code",
   "execution_count": null,
   "metadata": {},
   "outputs": [],
   "source": [
    "next_month.month"
   ]
  },
  {
   "cell_type": "code",
   "execution_count": null,
   "metadata": {},
   "outputs": [],
   "source": [
    "mo_len = calendar.monthrange(wrf_sim.forecast_start.year, wrf_sim.forecast_start.month)[1]\n",
    "date_suffix_01_end = year_mo + '0100_' + year_mo + str(mo_len) + '23.nc'\n",
    "print(date_suffix_01_end)\n",
    "date_suffix_01_16 = year_mo + '0106_' + year_mo + '1606.nc'\n",
    "print(date_suffix_01_16)\n",
    "date_suffix_16_01 = year_mo + '1606_' + year_nextmo + '0106.nc'\n",
    "print(date_suffix_16_01)"
   ]
  },
  {
   "cell_type": "markdown",
   "metadata": {},
   "source": [
    "Build a list of required met_em files"
   ]
  },
  {
   "cell_type": "code",
   "execution_count": 19,
   "metadata": {},
   "outputs": [
    {
     "name": "stdout",
     "output_type": "stream",
     "text": [
      "['met_em.d01.2011-12-30_00:00:00.nc', 'met_em.d01.2011-12-30_03:00:00.nc', 'met_em.d01.2011-12-30_06:00:00.nc', 'met_em.d01.2011-12-30_09:00:00.nc', 'met_em.d01.2011-12-30_12:00:00.nc', 'met_em.d01.2011-12-30_15:00:00.nc', 'met_em.d01.2011-12-30_18:00:00.nc', 'met_em.d01.2011-12-30_21:00:00.nc', 'met_em.d01.2011-12-31_00:00:00.nc', 'met_em.d01.2011-12-31_03:00:00.nc', 'met_em.d01.2011-12-31_06:00:00.nc', 'met_em.d01.2011-12-31_09:00:00.nc', 'met_em.d01.2011-12-31_12:00:00.nc', 'met_em.d01.2011-12-31_15:00:00.nc', 'met_em.d01.2011-12-31_18:00:00.nc', 'met_em.d01.2011-12-31_21:00:00.nc']\n"
     ]
    }
   ],
   "source": [
    "n_domains = 1\n",
    "hrs = ['00', '03', '06', '09', '12', '15', '18', '21']\n",
    "# Determine the forecast duration\n",
    "forecast_duration = wrf_sim.forecast_end - wrf_sim.forecast_start\n",
    "metfilelist = []\n",
    "for i in range(forecast_duration.days + 1):\n",
    "    day = wrf_sim.forecast_start + datetime.timedelta(days=i)\n",
    "    for i in range(1, n_domains + 1):\n",
    "        domain = str(i).zfill(2)\n",
    "        for hr in hrs:\n",
    "            metfilelist.append(f'met_em.d{domain}.{day.strftime(\"%Y-%m-%d\")}_{hr}:00:00.nc')\n",
    "print(metfilelist)\n",
    "    "
   ]
  },
  {
   "cell_type": "code",
   "execution_count": 63,
   "metadata": {},
   "outputs": [
    {
     "name": "stdout",
     "output_type": "stream",
     "text": [
      "Do nothing\n"
     ]
    }
   ],
   "source": [
    "param_ids = [0, 1, 2, 3, 4, 5]\n",
    "if param_ids[5] is 7 and param_ids[4] not in [2, 9]:\n",
    "    print(f'Overwrite parameter')\n",
    "else:\n",
    "    print('Do nothing')"
   ]
  },
  {
   "cell_type": "code",
   "execution_count": 54,
   "metadata": {},
   "outputs": [
    {
     "name": "stdout",
     "output_type": "stream",
     "text": [
      "True\n"
     ]
    }
   ],
   "source": [
    "print(any([3, 4]))"
   ]
  },
  {
   "cell_type": "code",
   "execution_count": 44,
   "metadata": {},
   "outputs": [
    {
     "data": {
      "text/plain": [
       "True"
      ]
     },
     "execution_count": 44,
     "metadata": {},
     "output_type": "execute_result"
    }
   ],
   "source": []
  },
  {
   "cell_type": "code",
   "execution_count": null,
   "metadata": {},
   "outputs": [],
   "source": []
  }
 ],
 "metadata": {
  "kernelspec": {
   "display_name": "Python 3",
   "language": "python",
   "name": "python3"
  },
  "language_info": {
   "codemirror_mode": {
    "name": "ipython",
    "version": 3
   },
   "file_extension": ".py",
   "mimetype": "text/x-python",
   "name": "python",
   "nbconvert_exporter": "python",
   "pygments_lexer": "ipython3",
   "version": "3.7.6"
  }
 },
 "nbformat": 4,
 "nbformat_minor": 4
}
