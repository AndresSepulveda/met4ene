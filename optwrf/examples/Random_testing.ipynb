{
 "cells": [
  {
   "cell_type": "markdown",
   "metadata": {},
   "source": [
    "This script is here just to give me a place to test random code snippets quickly... It probably will never be formatted very well. "
   ]
  },
  {
   "cell_type": "code",
   "execution_count": 1,
   "metadata": {},
   "outputs": [
    {
     "name": "stderr",
     "output_type": "stream",
     "text": [
      "/home/jsward/Documents/01_Research/01_Renewable_Analysis/WRF/pvlib-python/pvlib/wrfcast.py:20: UserWarning: The forecast module algorithms and features are highly experimental. The API may change, the functionality may be consolidated into an io module, or the module may be separated into its own package.\n",
      "  'The forecast module algorithms and features are highly experimental. '\n"
     ]
    }
   ],
   "source": [
    "import os\n",
    "import datetime\n",
    "import dateutil\n",
    "import calendar\n",
    "from optwrf.runwrf import WRFModel"
   ]
  },
  {
   "cell_type": "code",
   "execution_count": 15,
   "metadata": {},
   "outputs": [
    {
     "name": "stdout",
     "output_type": "stream",
     "text": [
      "Forecast starting on: 2011-12-30 00:00:00\n",
      "Forecast ending on: 2011-12-31 00:00:00\n"
     ]
    }
   ],
   "source": [
    "param_ids = [10, 1, 1, 2, 2, 3, 2]\n",
    "start_date = 'Dec 30 2011'\n",
    "end_date = 'Dec 31 2011'\n",
    "wrf_sim = WRFModel(param_ids, start_date, end_date)"
   ]
  },
  {
   "cell_type": "code",
   "execution_count": 16,
   "metadata": {},
   "outputs": [
    {
     "data": {
      "text/plain": [
       "'/share/mzhang/jas983/wrf_data/met4ene/optwrf/optwrf/link_grib.csh /share/mzhang/jas983/wrf_data/data/2011-12-30_10mp1lw1sw2lsm2pbl3cu/20 /share/mzhang/jas983/wrf_data/met4ene/wrfout/ARW/2011-12-30_10mp1lw1sw2lsm2pbl3cu/'"
      ]
     },
     "execution_count": 16,
     "metadata": {},
     "output_type": "execute_result"
    }
   ],
   "source": [
    "forecast_year = wrf_sim.forecast_start.strftime('%Y')\n",
    "CMD_LINK_GRIB = f'{wrf_sim.DIR_RUNWRF}link_grib.csh {wrf_sim.DIR_DATA_TMP}{forecast_year[0:2]} {wrf_sim.DIR_WRFOUT}'\n",
    "CMD_LINK_GRIB"
   ]
  },
  {
   "cell_type": "code",
   "execution_count": 17,
   "metadata": {},
   "outputs": [
    {
     "name": "stdout",
     "output_type": "stream",
     "text": [
      "Postprocess_wrfout.ipynb\n",
      "WRF wind power density plot.ipynb\n",
      ".ipynb_checkpoints\n",
      "ERA5_EastUS_WPD-GHI_2011-01.nc\n",
      "WRF GHI Plot.ipynb\n",
      "Process ERA5 data.ipynb\n",
      "wrfout_processed_d01_2011-01-24_01:00:00.nc\n"
     ]
    },
    {
     "data": {
      "text/plain": [
       "[None, None, None, None, None, None, None]"
      ]
     },
     "execution_count": 17,
     "metadata": {},
     "output_type": "execute_result"
    }
   ],
   "source": [
    "[print(name) for name \n",
    " in os.listdir('/home/jsward/Documents/01_Research/01_Renewable_Analysis/WRF/met4ene/post/python')]"
   ]
  },
  {
   "cell_type": "code",
   "execution_count": 18,
   "metadata": {},
   "outputs": [
    {
     "data": {
      "text/plain": [
       "7"
      ]
     },
     "execution_count": 18,
     "metadata": {},
     "output_type": "execute_result"
    }
   ],
   "source": [
    "len([name for name \n",
    " in os.listdir('/home/jsward/Documents/01_Research/01_Renewable_Analysis/WRF/met4ene/post/python')])"
   ]
  },
  {
   "cell_type": "markdown",
   "metadata": {},
   "source": [
    "How do you name the second ERA5 file in December? "
   ]
  },
  {
   "cell_type": "code",
   "execution_count": 28,
   "metadata": {},
   "outputs": [
    {
     "name": "stdout",
     "output_type": "stream",
     "text": [
      "Next Month: 2012-01-30 00:00:00\n",
      "Next Year: 2012-12-30 00:00:00\n"
     ]
    }
   ],
   "source": [
    "next_month = wrf_sim.forecast_start + dateutil.relativedelta.relativedelta(months=+1)\n",
    "year_mo = wrf_sim.forecast_start.strftime('%Y') + wrf_sim.forecast_start.strftime('%m')\n",
    "print(f'Next Month: {next_month}')\n",
    "if next_month.month == 1:\n",
    "    next_year = wrf_sim.forecast_start + dateutil.relativedelta.relativedelta(years=+1)\n",
    "    print(f'Next Year: {next_year}')\n",
    "    year_nextmo = next_year.strftime('%Y') + next_month.strftime('%m')\n",
    "else:\n",
    "    year_nextmo = wrf_sim.forecast_start.strftime('%Y') + next_month.strftime('%m')\n",
    "\n"
   ]
  },
  {
   "cell_type": "code",
   "execution_count": 29,
   "metadata": {},
   "outputs": [
    {
     "data": {
      "text/plain": [
       "1"
      ]
     },
     "execution_count": 29,
     "metadata": {},
     "output_type": "execute_result"
    }
   ],
   "source": [
    "next_month.month"
   ]
  },
  {
   "cell_type": "code",
   "execution_count": 30,
   "metadata": {},
   "outputs": [
    {
     "name": "stdout",
     "output_type": "stream",
     "text": [
      "2011120100_2011123123.nc\n",
      "2011120106_2011121606.nc\n",
      "2011121606_2012010106.nc\n"
     ]
    }
   ],
   "source": [
    "mo_len = calendar.monthrange(wrf_sim.forecast_start.year, wrf_sim.forecast_start.month)[1]\n",
    "date_suffix_01_end = year_mo + '0100_' + year_mo + str(mo_len) + '23.nc'\n",
    "print(date_suffix_01_end)\n",
    "date_suffix_01_16 = year_mo + '0106_' + year_mo + '1606.nc'\n",
    "print(date_suffix_01_16)\n",
    "date_suffix_16_01 = year_mo + '1606_' + year_nextmo + '0106.nc'\n",
    "print(date_suffix_16_01)"
   ]
  },
  {
   "cell_type": "code",
   "execution_count": null,
   "metadata": {},
   "outputs": [],
   "source": []
  },
  {
   "cell_type": "code",
   "execution_count": null,
   "metadata": {},
   "outputs": [],
   "source": []
  }
 ],
 "metadata": {
  "kernelspec": {
   "display_name": "Python 3",
   "language": "python",
   "name": "python3"
  },
  "language_info": {
   "codemirror_mode": {
    "name": "ipython",
    "version": 3
   },
   "file_extension": ".py",
   "mimetype": "text/x-python",
   "name": "python",
   "nbconvert_exporter": "python",
   "pygments_lexer": "ipython3",
   "version": "3.7.6"
  }
 },
 "nbformat": 4,
 "nbformat_minor": 4
}
