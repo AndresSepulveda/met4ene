{
 "cells": [
  {
   "cell_type": "markdown",
   "metadata": {},
   "source": [
    "This script is here just to give me a place to test random code snippets quickly... It probably will never be formatted very well. "
   ]
  },
  {
   "cell_type": "code",
   "execution_count": 1,
   "metadata": {},
   "outputs": [
    {
     "name": "stderr",
     "output_type": "stream",
     "text": [
      "/home/jsward/Documents/01_Research/01_Renewable_Analysis/WRF/pvlib-python/pvlib/wrfcast.py:20: UserWarning: The forecast module algorithms and features are highly experimental. The API may change, the functionality may be consolidated into an io module, or the module may be separated into its own package.\n",
      "  'The forecast module algorithms and features are highly experimental. '\n"
     ]
    }
   ],
   "source": [
    "import os\n",
    "import datetime\n",
    "import dateutil\n",
    "import calendar\n",
    "from optwrf.runwrf import WRFModel"
   ]
  },
  {
   "cell_type": "code",
   "execution_count": 2,
   "metadata": {},
   "outputs": [
    {
     "name": "stdout",
     "output_type": "stream",
     "text": [
      "Forecast starting on: 2011-04-15 00:00:00\n",
      "Forecast ending on: 2011-04-16 00:00:00\n"
     ]
    }
   ],
   "source": [
    "param_ids = [10, 1, 1, 2, 2, 3, 2]\n",
    "start_date = 'Apr 15 2011'\n",
    "end_date = 'Apr 16 2011'\n",
    "wrf_sim = WRFModel(param_ids, start_date, end_date)"
   ]
  },
  {
   "cell_type": "code",
   "execution_count": 10,
   "metadata": {},
   "outputs": [
    {
     "data": {
      "text/plain": [
       "'/share/mzhang/jas983/wrf_data/met4ene/optwrf/optwrf/link_grib.csh /share/mzhang/jas983/wrf_data/data/2011-04-1510mp1lw1sw2lsm2pbl3cu/20 /share/mzhang/jas983/wrf_data/met4ene/wrfout/ARW/2011-04-15_10mp1lw1sw2lsm2pbl3cu/'"
      ]
     },
     "execution_count": 10,
     "metadata": {},
     "output_type": "execute_result"
    }
   ],
   "source": [
    "forecast_year = wrf_sim.forecast_start.strftime('%Y')\n",
    "CMD_LINK_GRIB = f'{wrf_sim.DIR_RUNWRF}link_grib.csh {wrf_sim.DIR_DATA_TMP}{forecast_year[0:2]} {wrf_sim.DIR_WRFOUT}'\n",
    "CMD_LINK_GRIB"
   ]
  },
  {
   "cell_type": "code",
   "execution_count": null,
   "metadata": {},
   "outputs": [],
   "source": []
  }
 ],
 "metadata": {
  "kernelspec": {
   "display_name": "Python 3",
   "language": "python",
   "name": "python3"
  },
  "language_info": {
   "codemirror_mode": {
    "name": "ipython",
    "version": 3
   },
   "file_extension": ".py",
   "mimetype": "text/x-python",
   "name": "python",
   "nbconvert_exporter": "python",
   "pygments_lexer": "ipython3",
   "version": "3.7.6"
  }
 },
 "nbformat": 4,
 "nbformat_minor": 4
}
