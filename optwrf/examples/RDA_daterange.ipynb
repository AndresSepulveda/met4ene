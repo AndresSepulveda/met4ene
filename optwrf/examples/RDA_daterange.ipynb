{
 "cells": [
  {
   "cell_type": "markdown",
   "metadata": {},
   "source": [
    "This example shows how to make a range of dates for the purpose of downloading data for this date range from the RDA."
   ]
  },
  {
   "cell_type": "code",
   "execution_count": 24,
   "metadata": {},
   "outputs": [],
   "source": [
    "import os\n",
    "import datetime\n",
    "import dateutil\n",
    "import calendar\n",
    "from optwrf.runwrf import WRFModel"
   ]
  },
  {
   "cell_type": "code",
   "execution_count": 39,
   "metadata": {},
   "outputs": [
    {
     "name": "stdout",
     "output_type": "stream",
     "text": [
      "Forecast starting on: 2011-04-15 00:00:00\n",
      "Forecast ending on: 2011-04-16 00:00:00\n"
     ]
    }
   ],
   "source": [
    "param_ids = [10, 1, 1, 2, 2, 3, 2]\n",
    "start_date = 'Apr 15 2011'\n",
    "end_date = 'Apr 16 2011'\n",
    "wrf_sim = WRFModel(param_ids, start_date, end_date)"
   ]
  },
  {
   "cell_type": "code",
   "execution_count": 40,
   "metadata": {},
   "outputs": [],
   "source": [
    "# The following define paths to the required data on the RDA site\n",
    "dspath = 'http://rda.ucar.edu/data/ds627.0/'\n",
    "DATA_ROOT1 = 'ei.oper.an.pl/'\n",
    "DATA_ROOT2 = 'ei.oper.an.sfc/'\n",
    "datpfx1 = 'ei.oper.an.pl.regn128sc.'\n",
    "datpfx2 = 'ei.oper.an.pl.regn128uv.'\n",
    "datpfx3 = 'ei.oper.an.sfc.regn128sc.'"
   ]
  },
  {
   "cell_type": "code",
   "execution_count": 41,
   "metadata": {},
   "outputs": [
    {
     "data": {
      "text/plain": [
       "1"
      ]
     },
     "execution_count": 41,
     "metadata": {},
     "output_type": "execute_result"
    }
   ],
   "source": [
    "# Determine the forecast druation \n",
    "forecast_duration = wrf_sim.forecast_end - wrf_sim.forecast_start\n",
    "forecast_duration.days"
   ]
  },
  {
   "cell_type": "code",
   "execution_count": 42,
   "metadata": {},
   "outputs": [
    {
     "data": {
      "text/plain": [
       "[datetime.datetime(2011, 4, 15, 0, 0), datetime.datetime(2011, 4, 16, 0, 0)]"
      ]
     },
     "execution_count": 42,
     "metadata": {},
     "output_type": "execute_result"
    }
   ],
   "source": [
    "# Define a date list\n",
    "date_list = [(wrf_sim.forecast_start + datetime.timedelta(days=x)) for x in range(forecast_duration.days + 1)]\n",
    "date_list"
   ]
  },
  {
   "cell_type": "code",
   "execution_count": 43,
   "metadata": {},
   "outputs": [
    {
     "data": {
      "text/plain": [
       "['ei.oper.an.pl/201104/ei.oper.an.pl.regn128sc.2011041500',\n",
       " 'ei.oper.an.pl/201104/ei.oper.an.pl.regn128uv.2011041500',\n",
       " 'ei.oper.an.sfc/201104/ei.oper.an.sfc.regn128sc.2011041500',\n",
       " 'ei.oper.an.pl/201104/ei.oper.an.pl.regn128sc.2011041506',\n",
       " 'ei.oper.an.pl/201104/ei.oper.an.pl.regn128uv.2011041506',\n",
       " 'ei.oper.an.sfc/201104/ei.oper.an.sfc.regn128sc.2011041506',\n",
       " 'ei.oper.an.pl/201104/ei.oper.an.pl.regn128sc.2011041512',\n",
       " 'ei.oper.an.pl/201104/ei.oper.an.pl.regn128uv.2011041512',\n",
       " 'ei.oper.an.sfc/201104/ei.oper.an.sfc.regn128sc.2011041512',\n",
       " 'ei.oper.an.pl/201104/ei.oper.an.pl.regn128sc.2011041518',\n",
       " 'ei.oper.an.pl/201104/ei.oper.an.pl.regn128uv.2011041518',\n",
       " 'ei.oper.an.sfc/201104/ei.oper.an.sfc.regn128sc.2011041518',\n",
       " 'ei.oper.an.pl/201104/ei.oper.an.pl.regn128sc.2011041600',\n",
       " 'ei.oper.an.pl/201104/ei.oper.an.pl.regn128uv.2011041600',\n",
       " 'ei.oper.an.sfc/201104/ei.oper.an.sfc.regn128sc.2011041600',\n",
       " 'ei.oper.an.pl/201104/ei.oper.an.pl.regn128sc.2011041606',\n",
       " 'ei.oper.an.pl/201104/ei.oper.an.pl.regn128uv.2011041606',\n",
       " 'ei.oper.an.sfc/201104/ei.oper.an.sfc.regn128sc.2011041606',\n",
       " 'ei.oper.an.pl/201104/ei.oper.an.pl.regn128sc.2011041612',\n",
       " 'ei.oper.an.pl/201104/ei.oper.an.pl.regn128uv.2011041612',\n",
       " 'ei.oper.an.sfc/201104/ei.oper.an.sfc.regn128sc.2011041612',\n",
       " 'ei.oper.an.pl/201104/ei.oper.an.pl.regn128sc.2011041618',\n",
       " 'ei.oper.an.pl/201104/ei.oper.an.pl.regn128uv.2011041618',\n",
       " 'ei.oper.an.sfc/201104/ei.oper.an.sfc.regn128sc.2011041618']"
      ]
     },
     "execution_count": 43,
     "metadata": {},
     "output_type": "execute_result"
    }
   ],
   "source": [
    "# Build the file list required for the WRF run.\n",
    "hrs = ['00', '06', '12', '18']\n",
    "filelist = []\n",
    "file_check = []\n",
    "for date in date_list:\n",
    "    for hr in hrs:\n",
    "        year_mo = date.strftime('%Y') + date.strftime('%m')\n",
    "        year_mo_day_hr = date.strftime('%Y') + date.strftime('%m') + date.strftime('%d') + hr\n",
    "        filelist.append(DATA_ROOT1 + year_mo + '/' + datpfx1 + year_mo_day_hr)\n",
    "        filelist.append(DATA_ROOT1 + year_mo + '/' + datpfx2 + year_mo_day_hr)\n",
    "        filelist.append(DATA_ROOT2 + year_mo + '/' + datpfx3 + year_mo_day_hr)\n",
    "        file_check.append(datpfx1 + year_mo_day_hr)\n",
    "        file_check.append(datpfx2 + year_mo_day_hr)\n",
    "        file_check.append(datpfx3 + year_mo_day_hr)\n",
    "filelist"
   ]
  },
  {
   "cell_type": "code",
   "execution_count": 44,
   "metadata": {},
   "outputs": [
    {
     "data": {
      "text/plain": [
       "['ei.oper.an.pl.regn128sc.2011041500',\n",
       " 'ei.oper.an.pl.regn128uv.2011041500',\n",
       " 'ei.oper.an.sfc.regn128sc.2011041500',\n",
       " 'ei.oper.an.pl.regn128sc.2011041506',\n",
       " 'ei.oper.an.pl.regn128uv.2011041506',\n",
       " 'ei.oper.an.sfc.regn128sc.2011041506',\n",
       " 'ei.oper.an.pl.regn128sc.2011041512',\n",
       " 'ei.oper.an.pl.regn128uv.2011041512',\n",
       " 'ei.oper.an.sfc.regn128sc.2011041512',\n",
       " 'ei.oper.an.pl.regn128sc.2011041518',\n",
       " 'ei.oper.an.pl.regn128uv.2011041518',\n",
       " 'ei.oper.an.sfc.regn128sc.2011041518',\n",
       " 'ei.oper.an.pl.regn128sc.2011041600',\n",
       " 'ei.oper.an.pl.regn128uv.2011041600',\n",
       " 'ei.oper.an.sfc.regn128sc.2011041600',\n",
       " 'ei.oper.an.pl.regn128sc.2011041606',\n",
       " 'ei.oper.an.pl.regn128uv.2011041606',\n",
       " 'ei.oper.an.sfc.regn128sc.2011041606',\n",
       " 'ei.oper.an.pl.regn128sc.2011041612',\n",
       " 'ei.oper.an.pl.regn128uv.2011041612',\n",
       " 'ei.oper.an.sfc.regn128sc.2011041612',\n",
       " 'ei.oper.an.pl.regn128sc.2011041618',\n",
       " 'ei.oper.an.pl.regn128uv.2011041618',\n",
       " 'ei.oper.an.sfc.regn128sc.2011041618']"
      ]
     },
     "execution_count": 44,
     "metadata": {},
     "output_type": "execute_result"
    }
   ],
   "source": [
    "file_check"
   ]
  },
  {
   "cell_type": "code",
   "execution_count": 45,
   "metadata": {},
   "outputs": [
    {
     "name": "stdout",
     "output_type": "stream",
     "text": [
      "cp ei.oper.an.pl/201104/ei.oper.an.pl.regn128sc.20110415* /share/mzhang/jas983/wrf_data/data/ERA/; cp ei.oper.an.pl/201104/ei.oper.an.pl.regn128uv.20110415* /share/mzhang/jas983/wrf_data/data/ERA/; cp ei.oper.an.sfc/201104/ei.oper.an.sfc.regn128sc.20110415* /share/mzhang/jas983/wrf_data/data/ERA/\n",
      "cp ei.oper.an.pl/201104/ei.oper.an.pl.regn128sc.20110416* /share/mzhang/jas983/wrf_data/data/ERA/; cp ei.oper.an.pl/201104/ei.oper.an.pl.regn128uv.20110416* /share/mzhang/jas983/wrf_data/data/ERA/; cp ei.oper.an.sfc/201104/ei.oper.an.sfc.regn128sc.20110416* /share/mzhang/jas983/wrf_data/data/ERA/\n"
     ]
    }
   ],
   "source": [
    "for date in date_list:\n",
    "    print\n",
    "    year_mo = date.strftime('%Y') + date.strftime('%m')\n",
    "    year_mo_day = date.strftime('%Y') + date.strftime('%m') + date.strftime('%d')\n",
    "    cmd = wrf_sim.CMD_CP % (DATA_ROOT1 + year_mo + '/' + datpfx1 + year_mo_day + '*', wrf_sim.DIR_DATA)\n",
    "    cmd = cmd + '; ' + wrf_sim.CMD_CP % (DATA_ROOT1 \n",
    "                                      + year_mo + '/'+ datpfx2 + year_mo_day + '*', wrf_sim.DIR_DATA)\n",
    "    cmd = cmd + '; ' + wrf_sim.CMD_CP % (DATA_ROOT2\n",
    "                                      + year_mo + '/'+ datpfx3 + year_mo_day + '*', wrf_sim.DIR_DATA)\n",
    "    print(cmd)"
   ]
  },
  {
   "cell_type": "markdown",
   "metadata": {},
   "source": [
    "Now for downloading ERA5 data for comparison to WRF model output"
   ]
  },
  {
   "cell_type": "code",
   "execution_count": 46,
   "metadata": {},
   "outputs": [
    {
     "data": {
      "text/plain": [
       "30"
      ]
     },
     "execution_count": 46,
     "metadata": {},
     "output_type": "execute_result"
    }
   ],
   "source": [
    "# Define some convenient file suffixes\n",
    "next_month = wrf_sim.forecast_start + dateutil.relativedelta.relativedelta(months=+1)\n",
    "year_mo = wrf_sim.forecast_start.strftime('%Y') + wrf_sim.forecast_start.strftime('%m')\n",
    "year_nextmo = wrf_sim.forecast_start.strftime('%Y') + next_month.strftime('%m')\n",
    "mo_len = calendar.monthrange(wrf_sim.forecast_start.year, wrf_sim.forecast_start.month)[1]\n",
    "mo_len"
   ]
  },
  {
   "cell_type": "code",
   "execution_count": 47,
   "metadata": {},
   "outputs": [],
   "source": [
    "date_suffix_01_end = year_mo + '0100_' + year_mo + str(mo_len) + '23.nc'\n",
    "date_suffix_01_16 = year_mo + '0106_' + year_mo + '1606.nc'\n",
    "date_suffix_16_01 = year_mo + '1606_' + year_nextmo + '0106.nc'"
   ]
  },
  {
   "cell_type": "code",
   "execution_count": 48,
   "metadata": {},
   "outputs": [],
   "source": [
    "# Define the expected absolute paths to ERA data files\n",
    "ERA5_ROOT = '/share/mzhang/jas983/wrf_data/data/ERA5/'\n",
    "erafile_100u = ERA5_ROOT + 'EastUS_e5.oper.an.sfc.228_246_100u.ll025sc.' + date_suffix_01_end\n",
    "erafile_100v = ERA5_ROOT + 'EastUS_e5.oper.an.sfc.228_247_100v.ll025sc.' + date_suffix_01_end\n",
    "erafile_ssrd1 = ERA5_ROOT + 'EastUS_e5.oper.fc.sfc.accumu.128_169_ssrd.ll025sc.' + date_suffix_01_16\n",
    "erafile_ssrd2 = ERA5_ROOT + 'EastUS_e5.oper.fc.sfc.accumu.128_169_ssrd.ll025sc.' + date_suffix_16_01\n",
    "local_filelist = [erafile_100u, erafile_100v, erafile_ssrd1, erafile_ssrd2]\n",
    "local_filenames = ['EastUS_e5.oper.an.sfc.228_246_100u.ll025sc.' + date_suffix_01_end,\n",
    "                   'EastUS_e5.oper.an.sfc.228_247_100v.ll025sc.' + date_suffix_01_end,\n",
    "                   'EastUS_e5.oper.fc.sfc.accumu.128_169_ssrd.ll025sc.' + date_suffix_01_16,\n",
    "                   'EastUS_e5.oper.fc.sfc.accumu.128_169_ssrd.ll025sc.' + date_suffix_16_01]"
   ]
  },
  {
   "cell_type": "code",
   "execution_count": 49,
   "metadata": {},
   "outputs": [
    {
     "data": {
      "text/plain": [
       "['e5.oper.an.sfc/201104/e5.oper.an.sfc.228_246_100u.ll025sc.2011040100_2011043023.nc',\n",
       " 'e5.oper.an.sfc/201104/e5.oper.an.sfc.228_247_100v.ll025sc.2011040100_2011043023.nc',\n",
       " 'e5.oper.fc.sfc.accumu/201104/e5.oper.fc.sfc.accumu.128_169_ssrd.ll025sc.2011040106_2011041606.nc',\n",
       " 'e5.oper.fc.sfc.accumu/201104/e5.oper.fc.sfc.accumu.128_169_ssrd.ll025sc.2011041606_2011050106.nc']"
      ]
     },
     "execution_count": 49,
     "metadata": {},
     "output_type": "execute_result"
    }
   ],
   "source": [
    "rda_datpfxs_sfc = ['e5.oper.an.sfc.228_246_100u.ll025sc.',\n",
    "                   'e5.oper.an.sfc.228_247_100v.ll025sc.']\n",
    "\n",
    "rda_datpfxs_sfc_accumu = ['e5.oper.fc.sfc.accumu.128_169_ssrd.ll025sc.']\n",
    "\n",
    "# Define paths to the required data on the RDA site\n",
    "dspath = 'http://rda.ucar.edu/data/ds633.0/'\n",
    "DATA_ROOT1 = 'e5.oper.an.sfc/' + year_mo + '/'\n",
    "DATA_ROOT2 = 'e5.oper.fc.sfc.accumu/' + year_mo + '/'\n",
    "\n",
    "# Build the file list to be downloaded from the RDA\n",
    "filelist = []\n",
    "rda_filelist = []\n",
    "for rda_datpfx in rda_datpfxs_sfc:\n",
    "    filelist.append(DATA_ROOT1 + rda_datpfx + date_suffix_01_end)\n",
    "    rda_filelist.append(rda_datpfx + date_suffix_01_end)\n",
    "\n",
    "for rda_datpfx in rda_datpfxs_sfc_accumu:\n",
    "    filelist.append(DATA_ROOT2 + rda_datpfx + date_suffix_01_16)\n",
    "    filelist.append(DATA_ROOT2 + rda_datpfx + date_suffix_16_01)\n",
    "    rda_filelist.append(rda_datpfx + date_suffix_01_16)\n",
    "    rda_filelist.append(rda_datpfx + date_suffix_16_01)\n",
    "filelist"
   ]
  },
  {
   "cell_type": "code",
   "execution_count": null,
   "metadata": {},
   "outputs": [],
   "source": []
  }
 ],
 "metadata": {
  "kernelspec": {
   "display_name": "Python 3",
   "language": "python",
   "name": "python3"
  },
  "language_info": {
   "codemirror_mode": {
    "name": "ipython",
    "version": 3
   },
   "file_extension": ".py",
   "mimetype": "text/x-python",
   "name": "python",
   "nbconvert_exporter": "python",
   "pygments_lexer": "ipython3",
   "version": "3.7.6"
  }
 },
 "nbformat": 4,
 "nbformat_minor": 4
}
