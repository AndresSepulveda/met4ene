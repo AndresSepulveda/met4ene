{
 "cells": [
  {
   "cell_type": "markdown",
   "metadata": {},
   "source": [
    "This example shows how to make a range of dates for the purpose of downloading data for this date range from the RDA."
   ]
  },
  {
   "cell_type": "code",
   "execution_count": 91,
   "metadata": {},
   "outputs": [],
   "source": [
    "import os\n",
    "import datetime\n",
    "from optwrf.runwrf import WRFModel"
   ]
  },
  {
   "cell_type": "code",
   "execution_count": 92,
   "metadata": {},
   "outputs": [
    {
     "name": "stdout",
     "output_type": "stream",
     "text": [
      "Forecast starting on: 2011-01-31 00:00:00\n",
      "Forecast ending on: 2011-02-01 00:00:00\n"
     ]
    }
   ],
   "source": [
    "param_ids = [10, 1, 1, 2, 2, 3, 2]\n",
    "start_date = 'Jan 31 2011'\n",
    "end_date = 'Feb 1 2011'\n",
    "wrf_sim = WRFModel(param_ids, start_date, end_date)"
   ]
  },
  {
   "cell_type": "code",
   "execution_count": 93,
   "metadata": {},
   "outputs": [],
   "source": [
    "# The following define paths to the required data on the RDA site\n",
    "dspath = 'http://rda.ucar.edu/data/ds627.0/'\n",
    "DATA_ROOT1 = 'ei.oper.an.pl/'\n",
    "DATA_ROOT2 = 'ei.oper.an.sfc/'\n",
    "datpfx1 = 'ei.oper.an.pl.regn128sc.'\n",
    "datpfx2 = 'ei.oper.an.pl.regn128uv.'\n",
    "datpfx3 = 'ei.oper.an.sfc.regn128sc.'"
   ]
  },
  {
   "cell_type": "code",
   "execution_count": 94,
   "metadata": {},
   "outputs": [
    {
     "data": {
      "text/plain": [
       "1"
      ]
     },
     "execution_count": 94,
     "metadata": {},
     "output_type": "execute_result"
    }
   ],
   "source": [
    "# Determine the forecast druation \n",
    "forecast_duration = wrf_sim.forecast_end - wrf_sim.forecast_start\n",
    "forecast_duration.days"
   ]
  },
  {
   "cell_type": "code",
   "execution_count": 95,
   "metadata": {},
   "outputs": [
    {
     "data": {
      "text/plain": [
       "[datetime.datetime(2011, 1, 31, 0, 0), datetime.datetime(2011, 2, 1, 0, 0)]"
      ]
     },
     "execution_count": 95,
     "metadata": {},
     "output_type": "execute_result"
    }
   ],
   "source": [
    "# Define a date list\n",
    "date_list = [(wrf_sim.forecast_start + datetime.timedelta(days=x)) for x in range(forecast_duration.days + 1)]\n",
    "date_list"
   ]
  },
  {
   "cell_type": "code",
   "execution_count": 96,
   "metadata": {},
   "outputs": [
    {
     "data": {
      "text/plain": [
       "['ei.oper.an.pl/201101/ei.oper.an.pl.regn128sc.2011013100',\n",
       " 'ei.oper.an.pl/201101/ei.oper.an.pl.regn128uv.2011013100',\n",
       " 'ei.oper.an.sfc/201101/ei.oper.an.sfc.regn128sc.2011013100',\n",
       " 'ei.oper.an.pl/201101/ei.oper.an.pl.regn128sc.2011013106',\n",
       " 'ei.oper.an.pl/201101/ei.oper.an.pl.regn128uv.2011013106',\n",
       " 'ei.oper.an.sfc/201101/ei.oper.an.sfc.regn128sc.2011013106',\n",
       " 'ei.oper.an.pl/201101/ei.oper.an.pl.regn128sc.2011013112',\n",
       " 'ei.oper.an.pl/201101/ei.oper.an.pl.regn128uv.2011013112',\n",
       " 'ei.oper.an.sfc/201101/ei.oper.an.sfc.regn128sc.2011013112',\n",
       " 'ei.oper.an.pl/201101/ei.oper.an.pl.regn128sc.2011013118',\n",
       " 'ei.oper.an.pl/201101/ei.oper.an.pl.regn128uv.2011013118',\n",
       " 'ei.oper.an.sfc/201101/ei.oper.an.sfc.regn128sc.2011013118',\n",
       " 'ei.oper.an.pl/201102/ei.oper.an.pl.regn128sc.2011020100',\n",
       " 'ei.oper.an.pl/201102/ei.oper.an.pl.regn128uv.2011020100',\n",
       " 'ei.oper.an.sfc/201102/ei.oper.an.sfc.regn128sc.2011020100',\n",
       " 'ei.oper.an.pl/201102/ei.oper.an.pl.regn128sc.2011020106',\n",
       " 'ei.oper.an.pl/201102/ei.oper.an.pl.regn128uv.2011020106',\n",
       " 'ei.oper.an.sfc/201102/ei.oper.an.sfc.regn128sc.2011020106',\n",
       " 'ei.oper.an.pl/201102/ei.oper.an.pl.regn128sc.2011020112',\n",
       " 'ei.oper.an.pl/201102/ei.oper.an.pl.regn128uv.2011020112',\n",
       " 'ei.oper.an.sfc/201102/ei.oper.an.sfc.regn128sc.2011020112',\n",
       " 'ei.oper.an.pl/201102/ei.oper.an.pl.regn128sc.2011020118',\n",
       " 'ei.oper.an.pl/201102/ei.oper.an.pl.regn128uv.2011020118',\n",
       " 'ei.oper.an.sfc/201102/ei.oper.an.sfc.regn128sc.2011020118']"
      ]
     },
     "execution_count": 96,
     "metadata": {},
     "output_type": "execute_result"
    }
   ],
   "source": [
    "# Build the file list required for the WRF run.\n",
    "hrs = ['00', '06', '12', '18']\n",
    "filelist = []\n",
    "file_check = []\n",
    "for date in date_list:\n",
    "    for hr in hrs:\n",
    "        year_mo = date.strftime('%Y') + date.strftime('%m')\n",
    "        year_mo_day_hr = date.strftime('%Y') + date.strftime('%m') + date.strftime('%d') + hr\n",
    "        filelist.append(DATA_ROOT1 + year_mo + '/' + datpfx1 + year_mo_day_hr)\n",
    "        filelist.append(DATA_ROOT1 + year_mo + '/' + datpfx2 + year_mo_day_hr)\n",
    "        filelist.append(DATA_ROOT2 + year_mo + '/' + datpfx3 + year_mo_day_hr)\n",
    "        file_check.append(datpfx1 + year_mo_day_hr)\n",
    "        file_check.append(datpfx2 + year_mo_day_hr)\n",
    "        file_check.append(datpfx3 + year_mo_day_hr)\n",
    "filelist"
   ]
  },
  {
   "cell_type": "code",
   "execution_count": 97,
   "metadata": {},
   "outputs": [
    {
     "data": {
      "text/plain": [
       "['ei.oper.an.pl.regn128sc.2011013100',\n",
       " 'ei.oper.an.pl.regn128uv.2011013100',\n",
       " 'ei.oper.an.sfc.regn128sc.2011013100',\n",
       " 'ei.oper.an.pl.regn128sc.2011013106',\n",
       " 'ei.oper.an.pl.regn128uv.2011013106',\n",
       " 'ei.oper.an.sfc.regn128sc.2011013106',\n",
       " 'ei.oper.an.pl.regn128sc.2011013112',\n",
       " 'ei.oper.an.pl.regn128uv.2011013112',\n",
       " 'ei.oper.an.sfc.regn128sc.2011013112',\n",
       " 'ei.oper.an.pl.regn128sc.2011013118',\n",
       " 'ei.oper.an.pl.regn128uv.2011013118',\n",
       " 'ei.oper.an.sfc.regn128sc.2011013118',\n",
       " 'ei.oper.an.pl.regn128sc.2011020100',\n",
       " 'ei.oper.an.pl.regn128uv.2011020100',\n",
       " 'ei.oper.an.sfc.regn128sc.2011020100',\n",
       " 'ei.oper.an.pl.regn128sc.2011020106',\n",
       " 'ei.oper.an.pl.regn128uv.2011020106',\n",
       " 'ei.oper.an.sfc.regn128sc.2011020106',\n",
       " 'ei.oper.an.pl.regn128sc.2011020112',\n",
       " 'ei.oper.an.pl.regn128uv.2011020112',\n",
       " 'ei.oper.an.sfc.regn128sc.2011020112',\n",
       " 'ei.oper.an.pl.regn128sc.2011020118',\n",
       " 'ei.oper.an.pl.regn128uv.2011020118',\n",
       " 'ei.oper.an.sfc.regn128sc.2011020118']"
      ]
     },
     "execution_count": 97,
     "metadata": {},
     "output_type": "execute_result"
    }
   ],
   "source": [
    "file_check"
   ]
  },
  {
   "cell_type": "code",
   "execution_count": 99,
   "metadata": {},
   "outputs": [
    {
     "name": "stdout",
     "output_type": "stream",
     "text": [
      "cp ei.oper.an.pl/201101/ei.oper.an.pl.regn128sc.20110131* /share/mzhang/jas983/wrf_data/data/ERA/; cp ei.oper.an.pl/201101/ei.oper.an.pl.regn128uv.20110131* /share/mzhang/jas983/wrf_data/data/ERA/; cp ei.oper.an.sfc/201101/ei.oper.an.sfc.regn128sc.20110131* /share/mzhang/jas983/wrf_data/data/ERA/\n",
      "cp ei.oper.an.pl/201102/ei.oper.an.pl.regn128sc.20110201* /share/mzhang/jas983/wrf_data/data/ERA/; cp ei.oper.an.pl/201102/ei.oper.an.pl.regn128uv.20110201* /share/mzhang/jas983/wrf_data/data/ERA/; cp ei.oper.an.sfc/201102/ei.oper.an.sfc.regn128sc.20110201* /share/mzhang/jas983/wrf_data/data/ERA/\n"
     ]
    }
   ],
   "source": [
    "for date in date_list:\n",
    "    print\n",
    "    year_mo = date.strftime('%Y') + date.strftime('%m')\n",
    "    year_mo_day = date.strftime('%Y') + date.strftime('%m') + date.strftime('%d')\n",
    "    cmd = wrf_sim.CMD_CP % (DATA_ROOT1 + year_mo + '/' + datpfx1 + year_mo_day + '*', wrf_sim.DIR_DATA)\n",
    "    cmd = cmd + '; ' + wrf_sim.CMD_CP % (DATA_ROOT1 \n",
    "                                      + year_mo + '/'+ datpfx2 + year_mo_day + '*', wrf_sim.DIR_DATA)\n",
    "    cmd = cmd + '; ' + wrf_sim.CMD_CP % (DATA_ROOT2\n",
    "                                      + year_mo + '/'+ datpfx3 + year_mo_day + '*', wrf_sim.DIR_DATA)\n",
    "    print(cmd)"
   ]
  },
  {
   "cell_type": "code",
   "execution_count": null,
   "metadata": {},
   "outputs": [],
   "source": []
  }
 ],
 "metadata": {
  "kernelspec": {
   "display_name": "Python 3",
   "language": "python",
   "name": "python3"
  },
  "language_info": {
   "codemirror_mode": {
    "name": "ipython",
    "version": 3
   },
   "file_extension": ".py",
   "mimetype": "text/x-python",
   "name": "python",
   "nbconvert_exporter": "python",
   "pygments_lexer": "ipython3",
   "version": "3.7.6"
  }
 },
 "nbformat": 4,
 "nbformat_minor": 4
}
