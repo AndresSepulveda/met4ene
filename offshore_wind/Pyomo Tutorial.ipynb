{
 "cells": [
  {
   "cell_type": "code",
   "execution_count": 2,
   "metadata": {},
   "outputs": [],
   "source": [
    "import numpy as np\n",
    "import pyomo\n",
    "import pyomo.environ as pyo"
   ]
  },
  {
   "cell_type": "markdown",
   "metadata": {},
   "source": [
    "# Pyomo"
   ]
  },
  {
   "cell_type": "markdown",
   "metadata": {},
   "source": [
    "### Instantiate Model\n",
    "The "
   ]
  },
  {
   "cell_type": "code",
   "execution_count": 7,
   "metadata": {},
   "outputs": [],
   "source": [
    "opt_model = pyo.ConcreteModel()"
   ]
  },
  {
   "cell_type": "markdown",
   "metadata": {},
   "source": [
    "### Create Sets\n",
    "These will be used to index constraints and variables"
   ]
  },
  {
   "cell_type": "code",
   "execution_count": 8,
   "metadata": {},
   "outputs": [],
   "source": [
    "N = 48 #MPC HORIZON\n",
    "NUMBER_OF_UNITS = 1\n",
    "\n",
    "\n",
    "# Time Steps\n",
    "opt_model.mpc_horizon = pyo.Set(initialize=range(0, N)) # set\n",
    "# Units\n",
    "opt_model.units_set = pyo.Set(initialize=range(NUMBER_OF_UNITS))"
   ]
  },
  {
   "cell_type": "markdown",
   "metadata": {},
   "source": [
    "### Define Parameters\n",
    "These are constant values and can be indexed over the defined sets"
   ]
  },
  {
   "cell_type": "code",
   "execution_count": 9,
   "metadata": {},
   "outputs": [],
   "source": [
    "# Initialize Setpoint for t=0 to t=N\n",
    "def setpoint_init(model, i, j): # functions always contain these input arguments: (model, set1_index, set2_index, etc..)\n",
    "    return np.ones((N))[i]*21 # Assume setpoint is always 21 C\n",
    "\n",
    "opt_model.setpoints = pyo.Param(opt_model.units_set, opt_model.mpc_horizon, # Index parameters over the sets [units, timestep]\n",
    "                                initialize=setpoint_init, # Defines the values\n",
    "                                mutable=True # Says it can be changed in the future (optional)\n",
    "                               )\n",
    "\n",
    "# Initialize Outdoor Temp for t=0 to t=N\n",
    "def outdoor_temp_init(model, i, j): # functions always contain these input arguments: (model, set1_index, set2_index, etc..)\n",
    "        return 21#outdoor_temp[j] # User defined weather object containing weather data\n",
    "\n",
    "opt_model.outdoor_temp = pyo.Param(opt_model.units_set, opt_model.mpc_horizon, # Index parameters over the sets [units, timestep]\n",
    "                                   initialize=outdoor_temp_init,\n",
    "                                   mutable=True)"
   ]
  },
  {
   "cell_type": "markdown",
   "metadata": {},
   "source": [
    "Tip on debugging/printing parameter values:"
   ]
  },
  {
   "cell_type": "code",
   "execution_count": 10,
   "metadata": {},
   "outputs": [
    {
     "name": "stdout",
     "output_type": "stream",
     "text": [
      "[(0, 0), (0, 1), (0, 2), (0, 3), (0, 4), (0, 5), (0, 6), (0, 7), (0, 8), (0, 9), (0, 10), (0, 11), (0, 12), (0, 13), (0, 14), (0, 15), (0, 16), (0, 17), (0, 18), (0, 19), (0, 20), (0, 21), (0, 22), (0, 23), (0, 24), (0, 25), (0, 26), (0, 27), (0, 28), (0, 29), (0, 30), (0, 31), (0, 32), (0, 33), (0, 34), (0, 35), (0, 36), (0, 37), (0, 38), (0, 39), (0, 40), (0, 41), (0, 42), (0, 43), (0, 44), (0, 45), (0, 46), (0, 47)]\n",
      "21.00 21.00 21.00 21.00 21.00 21.00 21.00 21.00 21.00 21.00 21.00 21.00 21.00 21.00 21.00 21.00 21.00 21.00 21.00 21.00 21.00 21.00 21.00 21.00 21.00 21.00 21.00 21.00 21.00 21.00 21.00 21.00 21.00 21.00 21.00 21.00 21.00 21.00 21.00 21.00 21.00 21.00 21.00 21.00 21.00 21.00 21.00 "
     ]
    }
   ],
   "source": [
    "# This only prints the indexes of the parameters\n",
    "print(list(opt_model.outdoor_temp))\n",
    "\n",
    "# This calls and prints the actual parameter values for each index\n",
    "for i in range(1,N):\n",
    "    print(f'{pyo.value(opt_model.outdoor_temp[0, i]):.2f}', end=\" \")"
   ]
  },
  {
   "cell_type": "markdown",
   "metadata": {},
   "source": [
    "### Define Variables"
   ]
  },
  {
   "cell_type": "code",
   "execution_count": 11,
   "metadata": {},
   "outputs": [],
   "source": [
    "# HP Control Variable\n",
    "def u_hp_binary_init(model, i, j): # functions always contain these input arguments: (model, set1_index, set2_index, etc..)\n",
    "    return 1\n",
    "    \n",
    "opt_model.u_hp_binary = pyo.Var(opt_model.units_set, opt_model.mpc_horizon, \n",
    "                                domain=pyo.Binary, #pyo.Reals,pyo.NonNegativeReals, etc.\n",
    "                                initialize=u_hp_binary_init # This can be used for a warm start\n",
    "                               )\n",
    "\n",
    "# Indoor Temperature Variable\n",
    "opt_model.indoor_temp = pyo.Var(opt_model.units_set, \n",
    "                                opt_model.mpc_horizon, \n",
    "                                domain=pyo.Reals,\n",
    "                                bounds=(10, 35))\n",
    "opt_model.mass_temp = pyo.Var(opt_model.units_set, \n",
    "                              opt_model.mpc_horizon, \n",
    "                              domain=pyo.Reals,\n",
    "                                bounds=(10, 35))\n",
    "# etc."
   ]
  },
  {
   "cell_type": "markdown",
   "metadata": {},
   "source": [
    "### Define Constraints"
   ]
  },
  {
   "cell_type": "code",
   "execution_count": 12,
   "metadata": {},
   "outputs": [],
   "source": [
    "# Indoor Temperature Constraint\n",
    "comfort_level = 1\n",
    "def upper_temp_constraint(model, i, j): # constraints always contain these input arguments: (model, set1_index, set2_index, etc..)\n",
    "    return model.indoor_temp[i, j]  <= model.setpoints[i, j] + comfort_level\n",
    "\n",
    "opt_model.upper_temp_constraint = pyo.Constraint(opt_model.units_set, opt_model.mpc_horizon, # Sets to index over\n",
    "                                                 rule=upper_temp_constraint # Function that defines the constraint\n",
    "                                                )"
   ]
  },
  {
   "cell_type": "markdown",
   "metadata": {},
   "source": [
    "### Define Objective Function"
   ]
  },
  {
   "cell_type": "code",
   "execution_count": 14,
   "metadata": {},
   "outputs": [],
   "source": [
    "def obj(model): # Always pass in model. No need to index objective function since there is only one objective\n",
    "    \"\"\"\n",
    "    Objective function for an aggregate of units\n",
    "\n",
    "    :param opt_model:\n",
    "    :return: cost: objective value\n",
    "    \"\"\"\n",
    "    cost = 0\n",
    "    for i in model.units_set:\n",
    "        for j in model.mpc_horizon:\n",
    "            cost = cost + model.u_hp_binary[i,j]\n",
    "    return cost\n",
    "\n",
    "opt_model.obj = pyo.Objective(rule=obj, sense=pyo.maximize)\n"
   ]
  },
  {
   "cell_type": "markdown",
   "metadata": {
    "code_folding": []
   },
   "source": [
    "### Solve"
   ]
  },
  {
   "cell_type": "code",
   "execution_count": 15,
   "metadata": {},
   "outputs": [
    {
     "name": "stdout",
     "output_type": "stream",
     "text": [
      "\n",
      "Welcome to IBM(R) ILOG(R) CPLEX(R) Interactive Optimizer 12.9.0.0\n",
      "  with Simplex, Mixed Integer & Barrier Optimizers\n",
      "5725-A06 5725-A29 5724-Y48 5724-Y49 5724-Y54 5724-Y55 5655-Y21\n",
      "Copyright IBM Corp. 1988, 2019.  All Rights Reserved.\n",
      "\n",
      "Type 'help' for a list of available commands.\n",
      "Type 'help' followed by a command name for more\n",
      "information on commands.\n",
      "\n",
      "CPLEX> Logfile 'cplex.log' closed.\n",
      "Logfile 'C:\\Users\\Zach\\AppData\\Local\\Temp\\tmp453h2h42.cplex.log' open.\n",
      "CPLEX> New value for time limit in seconds: 300\n",
      "CPLEX> Problem 'C:\\Users\\Zach\\AppData\\Local\\Temp\\tmpfkooqbih.pyomo.lp' read.\n",
      "Read time = 0.00 sec. (0.00 ticks)\n",
      "CPLEX> MIP start file 'C:\\Users\\Zach\\AppData\\Local\\Temp\\tmpm713ct7n.cplex.mst' read.\n",
      "CPLEX> Problem name         : C:\\Users\\Zach\\AppData\\Local\\Temp\\tmpfkooqbih.pyomo.lp\n",
      "Objective sense      : Maximize\n",
      "Variables            :      97  [Nneg: 1,  Box: 48,  Binary: 48]\n",
      "Objective nonzeros   :      48\n",
      "Linear constraints   :      49  [Less: 48,  Equal: 1]\n",
      "  Nonzeros           :      49\n",
      "  RHS nonzeros       :      49\n",
      "\n",
      "Variables            : Min LB: 0.0000000        Max UB: 35.00000       \n",
      "Objective nonzeros   : Min   : 1.000000         Max   : 1.000000       \n",
      "Linear constraints   :\n",
      "  Nonzeros           : Min   : 1.000000         Max   : 1.000000       \n",
      "  RHS nonzeros       : Min   : 1.000000         Max   : 22.00000       \n",
      "CPLEX> CPXPARAM_TimeLimit                               300\n",
      "1 of 1 MIP starts provided solutions.\n",
      "MIP start 'm1' defined initial solution with objective 48.0000.\n",
      "Tried aggregator 1 time.\n",
      "MIP Presolve eliminated 49 rows and 97 columns.\n",
      "All rows and columns eliminated.\n",
      "Presolve time = 0.00 sec. (0.03 ticks)\n",
      "\n",
      "Root node processing (before b&c):\n",
      "  Real time             =    0.01 sec. (0.10 ticks)\n",
      "Parallel b&c, 24 threads:\n",
      "  Real time             =    0.00 sec. (0.00 ticks)\n",
      "  Sync time (average)   =    0.00 sec.\n",
      "  Wait time (average)   =    0.00 sec.\n",
      "                          ------------\n",
      "Total (root+branch&cut) =    0.01 sec. (0.10 ticks)\n",
      "\n",
      "Solution pool: 1 solution saved.\n",
      "\n",
      "MIP - Integer optimal solution:  Objective =  4.8000000000e+01\n",
      "Solution time =    0.01 sec.  Iterations = 0  Nodes = 0\n",
      "Deterministic time = 0.10 ticks  (6.47 ticks/sec)\n",
      "\n",
      "CPLEX> Incumbent solution written to file 'C:\\Users\\Zach\\AppData\\Local\\Temp\\tmpzi6dqg2o.cplex.sol'.\n",
      "CPLEX> "
     ]
    }
   ],
   "source": [
    "# Create your solver. This locates the executable used to solve the problem\n",
    "solver = pyo.SolverFactory('cplex',\n",
    "                        # executable=r'C:\\Program Files\\IBM\\ILOG\\CPLEX_Studio129\\cplex\\bin\\x64_win64\\cplex.exe'\n",
    "                        )\n",
    "\n",
    "# Solve the model\n",
    "results = solver.solve(opt_model, \n",
    "                       tee=True, #Show log \n",
    "                       warmstart=True,\n",
    "                       options={ # Options can be found on cplex website\n",
    "                              'timelimit': 300,\n",
    "                              # '1067': 36, #threads\n",
    "                              #'mipgap': .1,\n",
    "                              # '2010': .001 #optimality gap\n",
    "                              }, \n",
    "                       keepfiles=True # Required if multiprocessing\n",
    "                      )\n",
    "\n",
    "# Just in case it's infeasible\n",
    "if results.solver.termination_condition == pyomo.opt.TerminationCondition.infeasible:\n",
    "    for i in opt_model.units_set:\n",
    "        u_hp[i, 0] = pyo.value(opt_model.u_hp_binary[i, 0]) # If infeasible, initialize a control value\n",
    "    print('INFEASIBLE!!!!')"
   ]
  },
  {
   "cell_type": "markdown",
   "metadata": {},
   "source": [
    "### Get Control Values"
   ]
  },
  {
   "cell_type": "code",
   "execution_count": 16,
   "metadata": {
    "scrolled": true
   },
   "outputs": [
    {
     "name": "stdout",
     "output_type": "stream",
     "text": [
      "1.0 1.0 1.0 1.0 1.0 1.0 1.0 1.0 1.0 1.0 1.0 1.0 1.0 1.0 1.0 1.0 1.0 1.0 1.0 1.0 1.0 1.0 1.0 1.0 1.0 1.0 1.0 1.0 1.0 1.0 1.0 1.0 1.0 1.0 1.0 1.0 1.0 1.0 1.0 1.0 1.0 1.0 1.0 1.0 1.0 1.0 1.0 1.0 "
     ]
    }
   ],
   "source": [
    "# Obtaining the decision variables from the model:\n",
    "u_hp = np.zeros((len(opt_model.units_set), len(opt_model.mpc_horizon)))\n",
    "\n",
    "for i in opt_model.units_set:\n",
    "    for j in opt_model.mpc_horizon:\n",
    "        u_hp[i, j] = pyo.value(opt_model.u_hp_binary[i, j])\n",
    "        print(u_hp[i, j], end=\" \")\n"
   ]
  },
  {
   "cell_type": "code",
   "execution_count": null,
   "metadata": {},
   "outputs": [],
   "source": []
  }
 ],
 "metadata": {
  "kernelspec": {
   "display_name": "Python 3",
   "language": "python",
   "name": "python3"
  },
  "language_info": {
   "codemirror_mode": {
    "name": "ipython",
    "version": 3
   },
   "file_extension": ".py",
   "mimetype": "text/x-python",
   "name": "python",
   "nbconvert_exporter": "python",
   "pygments_lexer": "ipython3",
   "version": "3.7.8"
  }
 },
 "nbformat": 4,
 "nbformat_minor": 2
}
